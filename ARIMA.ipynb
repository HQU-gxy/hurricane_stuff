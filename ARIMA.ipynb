{
 "cells": [
  {
   "cell_type": "code",
   "execution_count": 2,
   "id": "2f7424da",
   "metadata": {},
   "outputs": [
    {
     "name": "stderr",
     "output_type": "stream",
     "text": [
      "\u001b[32m2024-04-25 00:08:08.630\u001b[0m | \u001b[1mINFO    \u001b[0m | \u001b[36m__main__\u001b[0m:\u001b[36m<module>\u001b[0m:\u001b[36m63\u001b[0m - \u001b[1mexample_file: /home/crosstyan/code/hurricane_stuff/CMABSTdata/CH1950BST.txt\u001b[0m\n"
     ]
    }
   ],
   "source": [
    "import numpy as np\n",
    "import polars as pl\n",
    "import os\n",
    "from pathlib import Path\n",
    "from typing import List, Tuple, Union\n",
    "from datetime import datetime, timedelta\n",
    "from pydantic import BaseModel\n",
    "from loguru import logger\n",
    "from enum import Enum\n",
    "import random\n",
    "\n",
    "\n",
    "class EndStatus(Enum):\n",
    "    DISSIPATED = 0\n",
    "    MOVE_OUT_OF_RESPONSIBILITY = 1\n",
    "    MERGED = 2\n",
    "    NEARLY_STATIONARY = 3\n",
    "\n",
    "\n",
    "class CycloneCategory(Enum):\n",
    "    BELOW_TD_OR_UNKNOWN = 0\n",
    "    TROPICAL_DEPRESSION = 1  # 热带低压 (TD, 10.8-17.1m/s)\n",
    "    TROPICAL_STORM = 2  # 热带风暴 (TS, 17.2-24.4 m/s)\n",
    "    SEVERE_TROPICAL_STORM = 3  # 强热带风暴 (STS, 24.5-32.6 m/s)\n",
    "    TYPHOON = 4  # 台风 (TY, 32.7-41.4 m/s)\n",
    "    SEVERE_TYPHOON = 5  # 强台风 (STY, 41.5-50.9 m/s)\n",
    "    SUPER_TYPHOON = 6  # 超强台风 (SuperTY, ≥51.0 m/s)\n",
    "    EXTRATROPICAL = 9  # 变性 (The change is complete)\n",
    "\n",
    "\n",
    "class HurricaneHeader(BaseModel):\n",
    "    data_type: int\n",
    "    country_code: int\n",
    "    data_count: int\n",
    "    hurricane_code: int\n",
    "    china_hurricane_code: int\n",
    "    end_status: EndStatus\n",
    "    time_interval_hr: int\n",
    "    hurricane_name: str\n",
    "    dataset_record_time: datetime\n",
    "\n",
    "\n",
    "class HurricaneEntry(BaseModel):\n",
    "    date: datetime\n",
    "    category: CycloneCategory\n",
    "    latitude: float\n",
    "    longitude: float\n",
    "    lowest_pressure: int\n",
    "    wind_speed: int\n",
    "\n",
    "\n",
    "class Hurricane(BaseModel):\n",
    "    header: HurricaneHeader\n",
    "    entries: List[HurricaneEntry]\n",
    "\n",
    "\n",
    "script_folder = Path(os.getcwd())\n",
    "dataset_folder = script_folder / \"CMABSTdata\"\n",
    "\n",
    "# https://tcdata.typhoon.org.cn/zjljsjj.html\n",
    "# example_file = dataset_folder / \"CH2022BST.txt\"\n",
    "example_file = dataset_folder / \"CH1950BST.txt\"\n",
    "logger.info(f\"example_file: {example_file}\")\n",
    "\n",
    "\n",
    "def parse_header(line: str) -> HurricaneHeader:\n",
    "    entry = line.split()\n",
    "    data_type = int(entry[0])\n",
    "    country_code = int(entry[1])\n",
    "    data_count = int(entry[2])\n",
    "    hurricane_code = int(entry[3])\n",
    "    try:\n",
    "        china_hurricane_code = int(entry[4])\n",
    "    except ValueError:\n",
    "        # might be a tuple (a,b)\n",
    "        codes = entry[4].split(\",\")\n",
    "        china_hurricane_code = int(codes[0])\n",
    "    hurricane_end_enum = int(entry[5])\n",
    "    end_status = EndStatus(hurricane_end_enum)\n",
    "    time_interval_hr = int(entry[6])\n",
    "    hurricane_name = entry[7]\n",
    "    dataset_record_time = entry[8]\n",
    "    time_format = \"%Y%m%d\"\n",
    "    dataset_record_time = datetime.strptime(dataset_record_time, time_format)\n",
    "    return HurricaneHeader(data_type=data_type,\n",
    "                           country_code=country_code,\n",
    "                           data_count=data_count,\n",
    "                           hurricane_code=hurricane_code,\n",
    "                           china_hurricane_code=china_hurricane_code,\n",
    "                           end_status=end_status,\n",
    "                           time_interval_hr=time_interval_hr,\n",
    "                           hurricane_name=hurricane_name,\n",
    "                           dataset_record_time=dataset_record_time)\n",
    "\n",
    "\n",
    "def parse_entry(line: str) -> HurricaneEntry:\n",
    "    entry = line.split()\n",
    "    date_str = entry[0]\n",
    "    time_format = \"%Y%m%d%H\"\n",
    "    date = datetime.strptime(date_str, time_format)\n",
    "    category = int(entry[1])\n",
    "    hurricane_category = CycloneCategory(category)\n",
    "    latitude = float(int(entry[2])) / 10.0\n",
    "    longitude = float(int(entry[3])) / 10.0\n",
    "    # in hPa\n",
    "    lowest_pressure = int(entry[4])\n",
    "    # 2分钟平均近中心最大风速(MSW, m/s)\n",
    "    # WND=9 表示 MSW < 10m/s,\n",
    "    # WND=0 为缺测\n",
    "    wind_speed = int(entry[5])\n",
    "    # not sure about OWD\n",
    "    return HurricaneEntry(date=date,\n",
    "                          category=hurricane_category,\n",
    "                          latitude=latitude,\n",
    "                          longitude=longitude,\n",
    "                          lowest_pressure=lowest_pressure,\n",
    "                          wind_speed=wind_speed)\n",
    "\n",
    "\n",
    "def parse_dataset(filename: str | Path):\n",
    "    hurricanes: list[Hurricane] = []\n",
    "    with open(filename, \"r\") as f:\n",
    "        try:\n",
    "            while True:\n",
    "                # check if the line is empty\n",
    "                l = f.readline()\n",
    "                if not l:\n",
    "                    break\n",
    "                header = parse_header(l)\n",
    "                count = header.data_count\n",
    "                hurricane_entries = []\n",
    "                for i in range(count):\n",
    "                    entry = parse_entry(f.readline())\n",
    "                    hurricane_entries.append(entry)\n",
    "                hurricane = Hurricane(header=header, entries=hurricane_entries)\n",
    "                hurricanes.append(hurricane)\n",
    "        except ValueError as e:\n",
    "            logger.error(f\"ValueError: {e} for {filename}\")\n",
    "        except IndexError as e:\n",
    "            logger.warning(f\"IndexError: {e} for {filename}\")\n",
    "        except EOFError:\n",
    "            logger.info(f\"EOFError for {filename}\")\n",
    "    return hurricanes\n",
    "\n"
   ]
  },
  {
   "cell_type": "code",
   "execution_count": 3,
   "id": "3c4b76a4",
   "metadata": {},
   "outputs": [
    {
     "name": "stderr",
     "output_type": "stream",
     "text": [
      "\u001b[32m2024-04-25 00:08:10.282\u001b[0m | \u001b[1mINFO    \u001b[0m | \u001b[36m__main__\u001b[0m:\u001b[36m<module>\u001b[0m:\u001b[36m7\u001b[0m - \u001b[1mtotal_dataset: 2469\u001b[0m\n"
     ]
    }
   ],
   "source": [
    "total_dataset: list[Hurricane] = []\n",
    "\n",
    "for file in dataset_folder.glob(\"*.txt\"):\n",
    "    hurricanes = parse_dataset(file)\n",
    "    total_dataset.extend(hurricanes)\n",
    "\n",
    "logger.info(f\"total_dataset: {len(total_dataset)}\")"
   ]
  },
  {
   "cell_type": "code",
   "execution_count": 4,
   "id": "4a494943",
   "metadata": {},
   "outputs": [],
   "source": [
    "class FlatHurricaneEntry(BaseModel):\n",
    "    sample_id: int\n",
    "    name: str\n",
    "    china_hurricane_code: int\n",
    "    date: datetime\n",
    "    category: CycloneCategory\n",
    "    latitude: float\n",
    "    longitude: float\n",
    "    lowest_pressure: int\n",
    "    wind_speed: int\n",
    "\n",
    "\n",
    "def flat_hurricane_entries(\n",
    "        hurricanes: list[Hurricane]) -> List[FlatHurricaneEntry]:\n",
    "    counter = 0\n",
    "    def flat_one(h: Hurricane, counter: int = counter):\n",
    "        name = h.header.hurricane_name\n",
    "        hurricane_code = h.header.hurricane_code\n",
    "        entries = h.entries\n",
    "        return [\n",
    "            FlatHurricaneEntry(sample_id=counter,\n",
    "                               name=name,\n",
    "                               china_hurricane_code=hurricane_code,\n",
    "                               date=e.date,\n",
    "                               category=e.category,\n",
    "                               latitude=e.latitude,\n",
    "                               longitude=e.longitude,\n",
    "                               lowest_pressure=e.lowest_pressure,\n",
    "                               wind_speed=e.wind_speed) for e in entries\n",
    "        ]\n",
    "\n",
    "    entries = []\n",
    "    for h in hurricanes:\n",
    "        entries.extend(flat_one(h, counter))\n",
    "        counter += 1\n",
    "    return entries\n",
    "\n",
    "\n",
    "flatten_entries = [\n",
    "    e.model_dump() for e in flat_hurricane_entries(total_dataset)\n",
    "]\n",
    "\n",
    "\n",
    "def entry_enum_to_number(entry: dict[str, any]) -> dict[str, any]:\n",
    "    entry['category'] = entry['category'].value\n",
    "    return entry\n",
    "\n",
    "\n",
    "flatten_entries_without_enum = [\n",
    "    entry_enum_to_number(e) for e in flatten_entries\n",
    "]"
   ]
  },
  {
   "cell_type": "code",
   "execution_count": 5,
   "id": "6794859d",
   "metadata": {},
   "outputs": [],
   "source": [
    "df = pl.DataFrame(flatten_entries_without_enum)"
   ]
  },
  {
   "cell_type": "code",
   "execution_count": 6,
   "id": "58c5c345",
   "metadata": {},
   "outputs": [
    {
     "data": {
      "text/html": [
       "<div><style>\n",
       ".dataframe > thead > tr,\n",
       ".dataframe > tbody > tr {\n",
       "  text-align: right;\n",
       "  white-space: pre-wrap;\n",
       "}\n",
       "</style>\n",
       "<small>shape: (9, 10)</small><table border=\"1\" class=\"dataframe\"><thead><tr><th>statistic</th><th>sample_id</th><th>name</th><th>china_hurricane_code</th><th>date</th><th>category</th><th>latitude</th><th>longitude</th><th>lowest_pressure</th><th>wind_speed</th></tr><tr><td>str</td><td>f64</td><td>str</td><td>f64</td><td>str</td><td>f64</td><td>f64</td><td>f64</td><td>f64</td><td>f64</td></tr></thead><tbody><tr><td>&quot;count&quot;</td><td>71705.0</td><td>&quot;71705&quot;</td><td>71705.0</td><td>&quot;71705&quot;</td><td>71705.0</td><td>71705.0</td><td>71705.0</td><td>71705.0</td><td>71705.0</td></tr><tr><td>&quot;null_count&quot;</td><td>0.0</td><td>&quot;0&quot;</td><td>0.0</td><td>&quot;0&quot;</td><td>0.0</td><td>0.0</td><td>0.0</td><td>0.0</td><td>0.0</td></tr><tr><td>&quot;mean&quot;</td><td>1231.50288</td><td>null</td><td>17.650066</td><td>&quot;1983-09-15 19:…</td><td>2.821588</td><td>20.902251</td><td>134.228423</td><td>986.340004</td><td>23.758218</td></tr><tr><td>&quot;std&quot;</td><td>706.358165</td><td>null</td><td>10.47291</td><td>null</td><td>2.330128</td><td>9.283707</td><td>16.616481</td><td>20.931241</td><td>15.36339</td></tr><tr><td>&quot;min&quot;</td><td>0.0</td><td>&quot;(nameless)&quot;</td><td>1.0</td><td>&quot;1949-01-13 00:…</td><td>0.0</td><td>0.5</td><td>95.0</td><td>870.0</td><td>0.0</td></tr><tr><td>&quot;25%&quot;</td><td>625.0</td><td>null</td><td>9.0</td><td>&quot;1965-09-21 06:…</td><td>1.0</td><td>14.2</td><td>121.8</td><td>980.0</td><td>15.0</td></tr><tr><td>&quot;50%&quot;</td><td>1223.0</td><td>null</td><td>17.0</td><td>&quot;1981-08-21 00:…</td><td>2.0</td><td>19.3</td><td>132.5</td><td>995.0</td><td>20.0</td></tr><tr><td>&quot;75%&quot;</td><td>1839.0</td><td>null</td><td>25.0</td><td>&quot;2001-09-03 06:…</td><td>4.0</td><td>25.8</td><td>145.0</td><td>1001.0</td><td>33.0</td></tr><tr><td>&quot;max&quot;</td><td>2468.0</td><td>&quot;Zola&quot;</td><td>53.0</td><td>&quot;2022-12-13 06:…</td><td>9.0</td><td>70.1</td><td>243.9</td><td>1022.0</td><td>110.0</td></tr></tbody></table></div>"
      ],
      "text/plain": [
       "shape: (9, 10)\n",
       "┌───────────┬───────────┬───────────┬───────────┬───┬───────────┬───────────┬───────────┬──────────┐\n",
       "│ statistic ┆ sample_id ┆ name      ┆ china_hur ┆ … ┆ latitude  ┆ longitude ┆ lowest_pr ┆ wind_spe │\n",
       "│ ---       ┆ ---       ┆ ---       ┆ ricane_co ┆   ┆ ---       ┆ ---       ┆ essure    ┆ ed       │\n",
       "│ str       ┆ f64       ┆ str       ┆ de        ┆   ┆ f64       ┆ f64       ┆ ---       ┆ ---      │\n",
       "│           ┆           ┆           ┆ ---       ┆   ┆           ┆           ┆ f64       ┆ f64      │\n",
       "│           ┆           ┆           ┆ f64       ┆   ┆           ┆           ┆           ┆          │\n",
       "╞═══════════╪═══════════╪═══════════╪═══════════╪═══╪═══════════╪═══════════╪═══════════╪══════════╡\n",
       "│ count     ┆ 71705.0   ┆ 71705     ┆ 71705.0   ┆ … ┆ 71705.0   ┆ 71705.0   ┆ 71705.0   ┆ 71705.0  │\n",
       "│ null_coun ┆ 0.0       ┆ 0         ┆ 0.0       ┆ … ┆ 0.0       ┆ 0.0       ┆ 0.0       ┆ 0.0      │\n",
       "│ t         ┆           ┆           ┆           ┆   ┆           ┆           ┆           ┆          │\n",
       "│ mean      ┆ 1231.5028 ┆ null      ┆ 17.650066 ┆ … ┆ 20.902251 ┆ 134.22842 ┆ 986.34000 ┆ 23.75821 │\n",
       "│           ┆ 8         ┆           ┆           ┆   ┆           ┆ 3         ┆ 4         ┆ 8        │\n",
       "│ std       ┆ 706.35816 ┆ null      ┆ 10.47291  ┆ … ┆ 9.283707  ┆ 16.616481 ┆ 20.931241 ┆ 15.36339 │\n",
       "│           ┆ 5         ┆           ┆           ┆   ┆           ┆           ┆           ┆          │\n",
       "│ min       ┆ 0.0       ┆ (nameless ┆ 1.0       ┆ … ┆ 0.5       ┆ 95.0      ┆ 870.0     ┆ 0.0      │\n",
       "│           ┆           ┆ )         ┆           ┆   ┆           ┆           ┆           ┆          │\n",
       "│ 25%       ┆ 625.0     ┆ null      ┆ 9.0       ┆ … ┆ 14.2      ┆ 121.8     ┆ 980.0     ┆ 15.0     │\n",
       "│ 50%       ┆ 1223.0    ┆ null      ┆ 17.0      ┆ … ┆ 19.3      ┆ 132.5     ┆ 995.0     ┆ 20.0     │\n",
       "│ 75%       ┆ 1839.0    ┆ null      ┆ 25.0      ┆ … ┆ 25.8      ┆ 145.0     ┆ 1001.0    ┆ 33.0     │\n",
       "│ max       ┆ 2468.0    ┆ Zola      ┆ 53.0      ┆ … ┆ 70.1      ┆ 243.9     ┆ 1022.0    ┆ 110.0    │\n",
       "└───────────┴───────────┴───────────┴───────────┴───┴───────────┴───────────┴───────────┴──────────┘"
      ]
     },
     "execution_count": 6,
     "metadata": {},
     "output_type": "execute_result"
    }
   ],
   "source": [
    "df.describe()"
   ]
  },
  {
   "cell_type": "code",
   "execution_count": 7,
   "id": "5ef8e4d6",
   "metadata": {},
   "outputs": [
    {
     "data": {
      "text/html": [
       "<div><style>\n",
       ".dataframe > thead > tr,\n",
       ".dataframe > tbody > tr {\n",
       "  text-align: right;\n",
       "  white-space: pre-wrap;\n",
       "}\n",
       "</style>\n",
       "<small>shape: (9, 10)</small><table border=\"1\" class=\"dataframe\"><thead><tr><th>statistic</th><th>sample_id</th><th>name</th><th>china_hurricane_code</th><th>date</th><th>category</th><th>latitude</th><th>longitude</th><th>lowest_pressure</th><th>wind_speed</th></tr><tr><td>str</td><td>f64</td><td>str</td><td>f64</td><td>str</td><td>f64</td><td>f64</td><td>f64</td><td>f64</td><td>f64</td></tr></thead><tbody><tr><td>&quot;count&quot;</td><td>64747.0</td><td>&quot;64747&quot;</td><td>64747.0</td><td>&quot;64747&quot;</td><td>64747.0</td><td>64747.0</td><td>64747.0</td><td>64747.0</td><td>64747.0</td></tr><tr><td>&quot;null_count&quot;</td><td>0.0</td><td>&quot;0&quot;</td><td>0.0</td><td>&quot;0&quot;</td><td>0.0</td><td>0.0</td><td>0.0</td><td>0.0</td><td>0.0</td></tr><tr><td>&quot;mean&quot;</td><td>1248.173012</td><td>null</td><td>17.529013</td><td>&quot;1985-06-29 06:…</td><td>2.801829</td><td>20.406011</td><td>132.944987</td><td>984.873832</td><td>25.960832</td></tr><tr><td>&quot;std&quot;</td><td>699.189218</td><td>null</td><td>10.429097</td><td>null</td><td>2.037505</td><td>8.213721</td><td>15.601901</td><td>21.201008</td><td>14.245518</td></tr><tr><td>&quot;min&quot;</td><td>0.0</td><td>&quot;(nameless)&quot;</td><td>1.0</td><td>&quot;1949-01-15 00:…</td><td>0.0</td><td>0.5</td><td>95.0</td><td>870.0</td><td>8.0</td></tr><tr><td>&quot;25%&quot;</td><td>657.0</td><td>null</td><td>9.0</td><td>&quot;1968-02-29 06:…</td><td>1.0</td><td>14.4</td><td>121.0</td><td>975.0</td><td>15.0</td></tr><tr><td>&quot;50%&quot;</td><td>1235.0</td><td>null</td><td>17.0</td><td>&quot;1984-10-08 06:…</td><td>2.0</td><td>19.3</td><td>131.5</td><td>992.0</td><td>20.0</td></tr><tr><td>&quot;75%&quot;</td><td>1847.0</td><td>null</td><td>25.0</td><td>&quot;2002-10-26 18:…</td><td>4.0</td><td>25.3</td><td>143.4</td><td>1000.0</td><td>35.0</td></tr><tr><td>&quot;max&quot;</td><td>2468.0</td><td>&quot;Zola&quot;</td><td>53.0</td><td>&quot;2022-12-13 06:…</td><td>9.0</td><td>45.0</td><td>180.0</td><td>1016.0</td><td>110.0</td></tr></tbody></table></div>"
      ],
      "text/plain": [
       "shape: (9, 10)\n",
       "┌───────────┬───────────┬───────────┬───────────┬───┬───────────┬───────────┬───────────┬──────────┐\n",
       "│ statistic ┆ sample_id ┆ name      ┆ china_hur ┆ … ┆ latitude  ┆ longitude ┆ lowest_pr ┆ wind_spe │\n",
       "│ ---       ┆ ---       ┆ ---       ┆ ricane_co ┆   ┆ ---       ┆ ---       ┆ essure    ┆ ed       │\n",
       "│ str       ┆ f64       ┆ str       ┆ de        ┆   ┆ f64       ┆ f64       ┆ ---       ┆ ---      │\n",
       "│           ┆           ┆           ┆ ---       ┆   ┆           ┆           ┆ f64       ┆ f64      │\n",
       "│           ┆           ┆           ┆ f64       ┆   ┆           ┆           ┆           ┆          │\n",
       "╞═══════════╪═══════════╪═══════════╪═══════════╪═══╪═══════════╪═══════════╪═══════════╪══════════╡\n",
       "│ count     ┆ 64747.0   ┆ 64747     ┆ 64747.0   ┆ … ┆ 64747.0   ┆ 64747.0   ┆ 64747.0   ┆ 64747.0  │\n",
       "│ null_coun ┆ 0.0       ┆ 0         ┆ 0.0       ┆ … ┆ 0.0       ┆ 0.0       ┆ 0.0       ┆ 0.0      │\n",
       "│ t         ┆           ┆           ┆           ┆   ┆           ┆           ┆           ┆          │\n",
       "│ mean      ┆ 1248.1730 ┆ null      ┆ 17.529013 ┆ … ┆ 20.406011 ┆ 132.94498 ┆ 984.87383 ┆ 25.96083 │\n",
       "│           ┆ 12        ┆           ┆           ┆   ┆           ┆ 7         ┆ 2         ┆ 2        │\n",
       "│ std       ┆ 699.18921 ┆ null      ┆ 10.429097 ┆ … ┆ 8.213721  ┆ 15.601901 ┆ 21.201008 ┆ 14.24551 │\n",
       "│           ┆ 8         ┆           ┆           ┆   ┆           ┆           ┆           ┆ 8        │\n",
       "│ min       ┆ 0.0       ┆ (nameless ┆ 1.0       ┆ … ┆ 0.5       ┆ 95.0      ┆ 870.0     ┆ 8.0      │\n",
       "│           ┆           ┆ )         ┆           ┆   ┆           ┆           ┆           ┆          │\n",
       "│ 25%       ┆ 657.0     ┆ null      ┆ 9.0       ┆ … ┆ 14.4      ┆ 121.0     ┆ 975.0     ┆ 15.0     │\n",
       "│ 50%       ┆ 1235.0    ┆ null      ┆ 17.0      ┆ … ┆ 19.3      ┆ 131.5     ┆ 992.0     ┆ 20.0     │\n",
       "│ 75%       ┆ 1847.0    ┆ null      ┆ 25.0      ┆ … ┆ 25.3      ┆ 143.4     ┆ 1000.0    ┆ 35.0     │\n",
       "│ max       ┆ 2468.0    ┆ Zola      ┆ 53.0      ┆ … ┆ 45.0      ┆ 180.0     ┆ 1016.0    ┆ 110.0    │\n",
       "└───────────┴───────────┴───────────┴───────────┴───┴───────────┴───────────┴───────────┴──────────┘"
      ]
     },
     "execution_count": 7,
     "metadata": {},
     "output_type": "execute_result"
    }
   ],
   "source": [
    "lat_q = df[\"latitude\"].quantile(0.98)\n",
    "df_filtered = df.filter(pl.col(\"wind_speed\") != 0).filter(\n",
    "    pl.col(\"longitude\") <= 180).filter(pl.col(\"latitude\") <= lat_q)\n",
    "df_filtered.describe()"
   ]
  },
  {
   "cell_type": "code",
   "execution_count": 8,
   "id": "c9b44ee7",
   "metadata": {},
   "outputs": [
    {
     "data": {
      "text/html": [
       "<div><style>\n",
       ".dataframe > thead > tr,\n",
       ".dataframe > tbody > tr {\n",
       "  text-align: right;\n",
       "  white-space: pre-wrap;\n",
       "}\n",
       "</style>\n",
       "<small>shape: (671, 2)</small><table border=\"1\" class=\"dataframe\"><thead><tr><th>name</th><th>count</th></tr><tr><td>str</td><td>u32</td></tr></thead><tbody><tr><td>&quot;(nameless)&quot;</td><td>7645</td></tr><tr><td>&quot;Faye&quot;</td><td>551</td></tr><tr><td>&quot;Irma&quot;</td><td>465</td></tr><tr><td>&quot;Bess&quot;</td><td>440</td></tr><tr><td>&quot;Dinah&quot;</td><td>438</td></tr><tr><td>&hellip;</td><td>&hellip;</td></tr><tr><td>&quot;Olga(-)1&quot;</td><td>2</td></tr><tr><td>&quot;Amy(-)3&quot;</td><td>2</td></tr><tr><td>&quot;Unala&quot;</td><td>2</td></tr><tr><td>&quot;Nadine(-)1&quot;</td><td>2</td></tr><tr><td>&quot;Della(-)1&quot;</td><td>1</td></tr></tbody></table></div>"
      ],
      "text/plain": [
       "shape: (671, 2)\n",
       "┌────────────┬───────┐\n",
       "│ name       ┆ count │\n",
       "│ ---        ┆ ---   │\n",
       "│ str        ┆ u32   │\n",
       "╞════════════╪═══════╡\n",
       "│ (nameless) ┆ 7645  │\n",
       "│ Faye       ┆ 551   │\n",
       "│ Irma       ┆ 465   │\n",
       "│ Bess       ┆ 440   │\n",
       "│ Dinah      ┆ 438   │\n",
       "│ …          ┆ …     │\n",
       "│ Olga(-)1   ┆ 2     │\n",
       "│ Amy(-)3    ┆ 2     │\n",
       "│ Unala      ┆ 2     │\n",
       "│ Nadine(-)1 ┆ 2     │\n",
       "│ Della(-)1  ┆ 1     │\n",
       "└────────────┴───────┘"
      ]
     },
     "metadata": {},
     "output_type": "display_data"
    }
   ],
   "source": [
    "df_group:pl.DataFrame = df_filtered.group_by(\"name\").agg(pl.col(\"name\").count().alias(\"count\"))\n",
    "display(df_group.sort(\"count\", descending=True))"
   ]
  },
  {
   "cell_type": "code",
   "execution_count": 9,
   "id": "d9cc779f",
   "metadata": {},
   "outputs": [],
   "source": [
    "import matplotlib.pyplot as plt\n",
    "import plotly.express as px\n",
    "import plotly.graph_objects as go"
   ]
  },
  {
   "cell_type": "code",
   "execution_count": 10,
   "id": "9c52f149",
   "metadata": {},
   "outputs": [],
   "source": [
    "# px.histogram(df_group.to_pandas(), x=\"count\", title=\"Number of records per hurricane\")"
   ]
  },
  {
   "cell_type": "code",
   "execution_count": 11,
   "id": "d10e5e94",
   "metadata": {},
   "outputs": [
    {
     "data": {
      "text/html": [
       "<div><style>\n",
       ".dataframe > thead > tr,\n",
       ".dataframe > tbody > tr {\n",
       "  text-align: right;\n",
       "  white-space: pre-wrap;\n",
       "}\n",
       "</style>\n",
       "<small>shape: (9, 10)</small><table border=\"1\" class=\"dataframe\"><thead><tr><th>statistic</th><th>sample_id</th><th>name</th><th>china_hurricane_code</th><th>date</th><th>category</th><th>latitude</th><th>longitude</th><th>lowest_pressure</th><th>wind_speed</th></tr><tr><td>str</td><td>f64</td><td>str</td><td>f64</td><td>str</td><td>f64</td><td>f64</td><td>f64</td><td>f64</td><td>f64</td></tr></thead><tbody><tr><td>&quot;count&quot;</td><td>34782.0</td><td>&quot;34782&quot;</td><td>34782.0</td><td>&quot;34782&quot;</td><td>34782.0</td><td>34782.0</td><td>34782.0</td><td>34782.0</td><td>34782.0</td></tr><tr><td>&quot;null_count&quot;</td><td>0.0</td><td>&quot;0&quot;</td><td>0.0</td><td>&quot;0&quot;</td><td>0.0</td><td>0.0</td><td>0.0</td><td>0.0</td><td>0.0</td></tr><tr><td>&quot;mean&quot;</td><td>1239.195618</td><td>null</td><td>18.307487</td><td>&quot;1977-06-04 03:…</td><td>3.119861</td><td>20.275668</td><td>133.771215</td><td>981.929561</td><td>28.87436</td></tr><tr><td>&quot;std&quot;</td><td>709.508363</td><td>null</td><td>11.067995</td><td>null</td><td>2.030922</td><td>8.330471</td><td>14.931498</td><td>22.472803</td><td>15.423509</td></tr><tr><td>&quot;min&quot;</td><td>24.0</td><td>&quot;Abby&quot;</td><td>1.0</td><td>&quot;1949-01-15 00:…</td><td>0.0</td><td>2.0</td><td>95.0</td><td>870.0</td><td>9.0</td></tr><tr><td>&quot;25%&quot;</td><td>589.0</td><td>null</td><td>9.0</td><td>&quot;1964-05-25 06:…</td><td>1.0</td><td>14.1</td><td>123.0</td><td>970.0</td><td>15.0</td></tr><tr><td>&quot;50%&quot;</td><td>1244.0</td><td>null</td><td>18.0</td><td>&quot;1974-03-15 12:…</td><td>3.0</td><td>19.1</td><td>132.5</td><td>990.0</td><td>25.0</td></tr><tr><td>&quot;75%&quot;</td><td>1864.0</td><td>null</td><td>27.0</td><td>&quot;1986-08-22 12:…</td><td>4.0</td><td>25.2</td><td>143.8</td><td>998.0</td><td>38.0</td></tr><tr><td>&quot;max&quot;</td><td>2466.0</td><td>&quot;Wynne&quot;</td><td>53.0</td><td>&quot;2022-11-03 00:…</td><td>9.0</td><td>45.0</td><td>180.0</td><td>1016.0</td><td>110.0</td></tr></tbody></table></div>"
      ],
      "text/plain": [
       "shape: (9, 10)\n",
       "┌────────────┬────────────┬───────┬────────────┬───┬───────────┬───────────┬───────────┬───────────┐\n",
       "│ statistic  ┆ sample_id  ┆ name  ┆ china_hurr ┆ … ┆ latitude  ┆ longitude ┆ lowest_pr ┆ wind_spee │\n",
       "│ ---        ┆ ---        ┆ ---   ┆ icane_code ┆   ┆ ---       ┆ ---       ┆ essure    ┆ d         │\n",
       "│ str        ┆ f64        ┆ str   ┆ ---        ┆   ┆ f64       ┆ f64       ┆ ---       ┆ ---       │\n",
       "│            ┆            ┆       ┆ f64        ┆   ┆           ┆           ┆ f64       ┆ f64       │\n",
       "╞════════════╪════════════╪═══════╪════════════╪═══╪═══════════╪═══════════╪═══════════╪═══════════╡\n",
       "│ count      ┆ 34782.0    ┆ 34782 ┆ 34782.0    ┆ … ┆ 34782.0   ┆ 34782.0   ┆ 34782.0   ┆ 34782.0   │\n",
       "│ null_count ┆ 0.0        ┆ 0     ┆ 0.0        ┆ … ┆ 0.0       ┆ 0.0       ┆ 0.0       ┆ 0.0       │\n",
       "│ mean       ┆ 1239.19561 ┆ null  ┆ 18.307487  ┆ … ┆ 20.275668 ┆ 133.77121 ┆ 981.92956 ┆ 28.87436  │\n",
       "│            ┆ 8          ┆       ┆            ┆   ┆           ┆ 5         ┆ 1         ┆           │\n",
       "│ std        ┆ 709.508363 ┆ null  ┆ 11.067995  ┆ … ┆ 8.330471  ┆ 14.931498 ┆ 22.472803 ┆ 15.423509 │\n",
       "│ min        ┆ 24.0       ┆ Abby  ┆ 1.0        ┆ … ┆ 2.0       ┆ 95.0      ┆ 870.0     ┆ 9.0       │\n",
       "│ 25%        ┆ 589.0      ┆ null  ┆ 9.0        ┆ … ┆ 14.1      ┆ 123.0     ┆ 970.0     ┆ 15.0      │\n",
       "│ 50%        ┆ 1244.0     ┆ null  ┆ 18.0       ┆ … ┆ 19.1      ┆ 132.5     ┆ 990.0     ┆ 25.0      │\n",
       "│ 75%        ┆ 1864.0     ┆ null  ┆ 27.0       ┆ … ┆ 25.2      ┆ 143.8     ┆ 998.0     ┆ 38.0      │\n",
       "│ max        ┆ 2466.0     ┆ Wynne ┆ 53.0       ┆ … ┆ 45.0      ┆ 180.0     ┆ 1016.0    ┆ 110.0     │\n",
       "└────────────┴────────────┴───────┴────────────┴───┴───────────┴───────────┴───────────┴───────────┘"
      ]
     },
     "execution_count": 11,
     "metadata": {},
     "output_type": "execute_result"
    }
   ],
   "source": [
    "names_gt_100 = df_group.filter(pl.col(\"count\") > 100).select(\"name\")\n",
    "# names_gt_100.describe()\n",
    "df_gt_100 = df_filtered.filter(pl.col(\"name\").is_in(names_gt_100)).filter(pl.col(\"name\") != \"(nameless)\")\n",
    "df_gt_100.describe()"
   ]
  },
  {
   "cell_type": "code",
   "execution_count": 63,
   "id": "0b45d00e",
   "metadata": {},
   "outputs": [
    {
     "data": {
      "text/html": [
       "<div><style>\n",
       ".dataframe > thead > tr,\n",
       ".dataframe > tbody > tr {\n",
       "  text-align: right;\n",
       "  white-space: pre-wrap;\n",
       "}\n",
       "</style>\n",
       "<small>shape: (9, 3)</small><table border=\"1\" class=\"dataframe\"><thead><tr><th>statistic</th><th>sample_id</th><th>count</th></tr><tr><td>str</td><td>f64</td><td>f64</td></tr></thead><tbody><tr><td>&quot;count&quot;</td><td>2469.0</td><td>2469.0</td></tr><tr><td>&quot;null_count&quot;</td><td>0.0</td><td>0.0</td></tr><tr><td>&quot;mean&quot;</td><td>1234.0</td><td>26.223977</td></tr><tr><td>&quot;std&quot;</td><td>712.88323</td><td>13.942594</td></tr><tr><td>&quot;min&quot;</td><td>0.0</td><td>1.0</td></tr><tr><td>&quot;25%&quot;</td><td>617.0</td><td>15.0</td></tr><tr><td>&quot;50%&quot;</td><td>1234.0</td><td>25.0</td></tr><tr><td>&quot;75%&quot;</td><td>1851.0</td><td>35.0</td></tr><tr><td>&quot;max&quot;</td><td>2468.0</td><td>92.0</td></tr></tbody></table></div>"
      ],
      "text/plain": [
       "shape: (9, 3)\n",
       "┌────────────┬───────────┬───────────┐\n",
       "│ statistic  ┆ sample_id ┆ count     │\n",
       "│ ---        ┆ ---       ┆ ---       │\n",
       "│ str        ┆ f64       ┆ f64       │\n",
       "╞════════════╪═══════════╪═══════════╡\n",
       "│ count      ┆ 2469.0    ┆ 2469.0    │\n",
       "│ null_count ┆ 0.0       ┆ 0.0       │\n",
       "│ mean       ┆ 1234.0    ┆ 26.223977 │\n",
       "│ std        ┆ 712.88323 ┆ 13.942594 │\n",
       "│ min        ┆ 0.0       ┆ 1.0       │\n",
       "│ 25%        ┆ 617.0     ┆ 15.0      │\n",
       "│ 50%        ┆ 1234.0    ┆ 25.0      │\n",
       "│ 75%        ┆ 1851.0    ┆ 35.0      │\n",
       "│ max        ┆ 2468.0    ┆ 92.0      │\n",
       "└────────────┴───────────┴───────────┘"
      ]
     },
     "metadata": {},
     "output_type": "display_data"
    }
   ],
   "source": [
    "df_grp = df_filtered.group_by(\"sample_id\").agg(pl.col(\"sample_id\").count().alias(\"count\"))\n",
    "df_grp = df_grp.sort(\"count\", descending=True)\n",
    "display(df_grp.describe())"
   ]
  },
  {
   "cell_type": "code",
   "execution_count": 61,
   "id": "f90ac973",
   "metadata": {},
   "outputs": [
    {
     "data": {
      "application/vnd.plotly.v1+json": {
       "config": {
        "plotlyServerURL": "https://plot.ly"
       },
       "data": [
        {
         "alignmentgroup": "True",
         "bingroup": "x",
         "hovertemplate": "count=%{y}<extra></extra>",
         "legendgroup": "",
         "marker": {
          "color": "#636efa",
          "pattern": {
           "shape": ""
          }
         },
         "name": "",
         "offsetgroup": "",
         "orientation": "v",
         "showlegend": false,
         "type": "histogram",
         "x": [
          23,
          15,
          30,
          25,
          23,
          41,
          22,
          23,
          19,
          50,
          56,
          31,
          50,
          36,
          25,
          25,
          32,
          35,
          22,
          59,
          25,
          30,
          26,
          19,
          54,
          2,
          22,
          10,
          36,
          40,
          15,
          34,
          34,
          4,
          24,
          51,
          27,
          44,
          11,
          34,
          36,
          8,
          11,
          5,
          14,
          32,
          27,
          8,
          35,
          11,
          41,
          39,
          19,
          65,
          41,
          38,
          18,
          53,
          19,
          28,
          33,
          10,
          20,
          25,
          21,
          49,
          32,
          65,
          10,
          39,
          14,
          4,
          13,
          14,
          39,
          19,
          40,
          30,
          26,
          13,
          33,
          24,
          55,
          31,
          20,
          34,
          25,
          24,
          11,
          25,
          59,
          22,
          25,
          4,
          20,
          16,
          45,
          37,
          17,
          13,
          27,
          29,
          9,
          13,
          51,
          17,
          10,
          60,
          22,
          31,
          12,
          46,
          26,
          8,
          29,
          9,
          56,
          37,
          14,
          42,
          52,
          25,
          25,
          32,
          24,
          29,
          27,
          28,
          9,
          45,
          9,
          28,
          15,
          9,
          3,
          5,
          24,
          9,
          23,
          33,
          40,
          7,
          14,
          21,
          18,
          13,
          57,
          34,
          16,
          42,
          13,
          24,
          5,
          35,
          29,
          33,
          26,
          34,
          28,
          30,
          13,
          14,
          13,
          26,
          41,
          25,
          33,
          21,
          19,
          24,
          29,
          50,
          30,
          34,
          17,
          14,
          9,
          23,
          14,
          10,
          25,
          6,
          52,
          25,
          6,
          4,
          8,
          29,
          18,
          4,
          43,
          3,
          31,
          28,
          20,
          7,
          14,
          35,
          33,
          16,
          46,
          18,
          27,
          10,
          44,
          27,
          41,
          5,
          34,
          18,
          26,
          55,
          49,
          9,
          29,
          62,
          34,
          38,
          5,
          36,
          63,
          32,
          61,
          49,
          34,
          31,
          43,
          92,
          9,
          4,
          26,
          47,
          12,
          15,
          30,
          39,
          15,
          38,
          4,
          15,
          56,
          25,
          37,
          34,
          3,
          29,
          21,
          6,
          40,
          14,
          31,
          33,
          21,
          31,
          22,
          44,
          18,
          37,
          37,
          31,
          29,
          24,
          18,
          10,
          8,
          8,
          36,
          37,
          41,
          62,
          29,
          38,
          12,
          41,
          15,
          26,
          17,
          24,
          21,
          20,
          24,
          26,
          17,
          13,
          2,
          14,
          41,
          25,
          40,
          52,
          19,
          8,
          25,
          46,
          38,
          24,
          13,
          41,
          39,
          24,
          32,
          29,
          33,
          12,
          29,
          6,
          37,
          16,
          6,
          13,
          23,
          10,
          18,
          41,
          37,
          31,
          27,
          11,
          24,
          30,
          14,
          16,
          39,
          36,
          34,
          21,
          16,
          9,
          32,
          49,
          27,
          31,
          34,
          23,
          46,
          29,
          15,
          8,
          9,
          59,
          33,
          20,
          37,
          15,
          6,
          28,
          31,
          14,
          22,
          34,
          19,
          20,
          8,
          24,
          14,
          13,
          18,
          11,
          26,
          8,
          20,
          63,
          17,
          44,
          38,
          35,
          14,
          41,
          34,
          51,
          24,
          23,
          9,
          44,
          50,
          36,
          26,
          32,
          7,
          32,
          34,
          24,
          23,
          32,
          37,
          21,
          13,
          4,
          41,
          2,
          15,
          31,
          61,
          10,
          18,
          41,
          19,
          31,
          33,
          30,
          18,
          35,
          21,
          43,
          44,
          34,
          61,
          4,
          37,
          8,
          15,
          14,
          20,
          15,
          39,
          15,
          12,
          42,
          3,
          18,
          15,
          36,
          27,
          26,
          19,
          24,
          17,
          21,
          22,
          7,
          24,
          21,
          21,
          27,
          31,
          26,
          38,
          4,
          13,
          16,
          32,
          34,
          13,
          15,
          41,
          39,
          30,
          31,
          20,
          26,
          52,
          15,
          34,
          17,
          16,
          37,
          15,
          16,
          23,
          28,
          25,
          15,
          35,
          32,
          30,
          11,
          39,
          31,
          13,
          9,
          9,
          18,
          26,
          23,
          29,
          2,
          32,
          16,
          24,
          34,
          42,
          25,
          30,
          23,
          4,
          20,
          12,
          60,
          45,
          41,
          26,
          23,
          9,
          24,
          49,
          32,
          12,
          33,
          18,
          43,
          44,
          13,
          18,
          20,
          2,
          17,
          15,
          11,
          26,
          37,
          26,
          22,
          12,
          33,
          31,
          38,
          26,
          33,
          30,
          1,
          13,
          43,
          48,
          14,
          47,
          17,
          52,
          15,
          40,
          18,
          21,
          31,
          45,
          27,
          21,
          12,
          14,
          31,
          3,
          23,
          12,
          24,
          18,
          38,
          35,
          5,
          20,
          5,
          50,
          13,
          45,
          58,
          19,
          30,
          27,
          34,
          31,
          55,
          13,
          32,
          16,
          47,
          47,
          38,
          12,
          19,
          15,
          47,
          43,
          31,
          38,
          31,
          37,
          30,
          18,
          40,
          25,
          36,
          15,
          17,
          27,
          24,
          41,
          32,
          24,
          3,
          17,
          25,
          33,
          36,
          25,
          3,
          50,
          35,
          16,
          30,
          24,
          11,
          40,
          22,
          37,
          37,
          26,
          24,
          4,
          31,
          21,
          58,
          31,
          11,
          54,
          42,
          18,
          15,
          35,
          28,
          34,
          26,
          29,
          18,
          42,
          25,
          15,
          35,
          31,
          49,
          29,
          14,
          24,
          41,
          62,
          17,
          18,
          10,
          9,
          40,
          38,
          23,
          54,
          27,
          38,
          44,
          12,
          30,
          28,
          43,
          53,
          31,
          30,
          28,
          36,
          11,
          23,
          39,
          12,
          23,
          25,
          28,
          23,
          50,
          13,
          26,
          18,
          28,
          39,
          34,
          15,
          38,
          40,
          16,
          20,
          10,
          50,
          29,
          23,
          34,
          15,
          40,
          13,
          32,
          10,
          10,
          28,
          17,
          12,
          20,
          30,
          10,
          2,
          29,
          21,
          13,
          26,
          33,
          28,
          41,
          23,
          25,
          24,
          20,
          5,
          75,
          20,
          38,
          12,
          26,
          54,
          30,
          22,
          47,
          36,
          31,
          17,
          29,
          33,
          27,
          17,
          48,
          14,
          21,
          55,
          24,
          31,
          13,
          22,
          26,
          48,
          11,
          29,
          14,
          33,
          30,
          29,
          21,
          25,
          7,
          35,
          18,
          81,
          26,
          30,
          12,
          46,
          18,
          6,
          35,
          23,
          36,
          19,
          11,
          17,
          55,
          25,
          25,
          37,
          38,
          41,
          49,
          10,
          7,
          22,
          26,
          4,
          30,
          30,
          21,
          25,
          17,
          17,
          20,
          25,
          56,
          52,
          3,
          6,
          31,
          19,
          12,
          36,
          10,
          53,
          37,
          45,
          27,
          8,
          22,
          32,
          34,
          19,
          29,
          16,
          22,
          37,
          38,
          36,
          10,
          50,
          8,
          41,
          41,
          31,
          32,
          29,
          39,
          15,
          21,
          23,
          7,
          25,
          36,
          13,
          22,
          16,
          11,
          11,
          8,
          41,
          39,
          30,
          24,
          58,
          40,
          60,
          29,
          20,
          39,
          16,
          33,
          36,
          30,
          24,
          48,
          33,
          16,
          12,
          15,
          35,
          18,
          9,
          58,
          25,
          34,
          50,
          14,
          31,
          46,
          19,
          50,
          15,
          32,
          16,
          22,
          27,
          36,
          34,
          14,
          16,
          33,
          28,
          8,
          20,
          27,
          2,
          15,
          12,
          11,
          39,
          32,
          32,
          19,
          25,
          16,
          78,
          19,
          12,
          39,
          24,
          10,
          20,
          31,
          26,
          27,
          7,
          9,
          31,
          36,
          12,
          55,
          13,
          41,
          44,
          13,
          42,
          14,
          29,
          34,
          32,
          62,
          13,
          39,
          6,
          30,
          29,
          12,
          30,
          53,
          63,
          17,
          10,
          25,
          50,
          3,
          15,
          16,
          19,
          16,
          26,
          28,
          51,
          28,
          15,
          29,
          59,
          37,
          33,
          27,
          31,
          5,
          32,
          12,
          21,
          19,
          23,
          31,
          22,
          18,
          58,
          34,
          56,
          42,
          18,
          44,
          26,
          25,
          42,
          21,
          11,
          15,
          35,
          36,
          56,
          38,
          47,
          45,
          14,
          40,
          23,
          9,
          39,
          12,
          31,
          23,
          49,
          13,
          13,
          33,
          17,
          56,
          41,
          31,
          53,
          43,
          9,
          8,
          10,
          27,
          28,
          6,
          17,
          17,
          13,
          23,
          21,
          45,
          6,
          20,
          13,
          13,
          46,
          13,
          16,
          5,
          25,
          21,
          13,
          37,
          13,
          19,
          53,
          8,
          7,
          38,
          41,
          24,
          8,
          46,
          6,
          38,
          12,
          14,
          28,
          27,
          13,
          42,
          22,
          42,
          39,
          46,
          34,
          15,
          27,
          25,
          11,
          64,
          43,
          17,
          7,
          36,
          19,
          38,
          18,
          42,
          39,
          10,
          10,
          11,
          7,
          22,
          32,
          45,
          22,
          2,
          11,
          11,
          38,
          29,
          27,
          3,
          27,
          7,
          4,
          44,
          16,
          22,
          47,
          22,
          46,
          15,
          49,
          18,
          19,
          9,
          29,
          20,
          26,
          10,
          8,
          38,
          33,
          30,
          28,
          19,
          9,
          43,
          9,
          46,
          4,
          30,
          24,
          17,
          63,
          42,
          35,
          22,
          51,
          25,
          8,
          13,
          17,
          34,
          40,
          35,
          49,
          21,
          44,
          41,
          51,
          21,
          37,
          5,
          14,
          26,
          47,
          24,
          62,
          3,
          4,
          25,
          6,
          17,
          31,
          32,
          14,
          33,
          6,
          18,
          11,
          15,
          44,
          18,
          38,
          81,
          56,
          11,
          30,
          15,
          28,
          25,
          17,
          7,
          24,
          23,
          40,
          32,
          38,
          15,
          27,
          42,
          33,
          16,
          16,
          18,
          25,
          7,
          30,
          29,
          22,
          18,
          22,
          19,
          59,
          27,
          41,
          25,
          58,
          49,
          11,
          20,
          58,
          33,
          72,
          2,
          23,
          29,
          40,
          10,
          40,
          23,
          13,
          28,
          5,
          32,
          48,
          13,
          43,
          69,
          14,
          55,
          32,
          27,
          11,
          12,
          35,
          23,
          46,
          8,
          7,
          22,
          13,
          41,
          31,
          63,
          23,
          42,
          27,
          23,
          7,
          11,
          12,
          40,
          20,
          8,
          23,
          14,
          15,
          31,
          44,
          53,
          12,
          14,
          20,
          38,
          21,
          19,
          9,
          41,
          28,
          57,
          8,
          16,
          34,
          24,
          27,
          42,
          46,
          38,
          33,
          20,
          33,
          14,
          13,
          16,
          29,
          39,
          15,
          13,
          13,
          26,
          37,
          14,
          25,
          45,
          27,
          15,
          26,
          23,
          29,
          39,
          16,
          24,
          43,
          12,
          67,
          35,
          13,
          22,
          22,
          24,
          30,
          31,
          43,
          10,
          11,
          3,
          20,
          47,
          27,
          34,
          33,
          15,
          11,
          30,
          10,
          22,
          21,
          37,
          12,
          24,
          32,
          23,
          40,
          14,
          8,
          2,
          31,
          43,
          28,
          6,
          41,
          26,
          27,
          31,
          33,
          9,
          9,
          36,
          15,
          28,
          41,
          28,
          25,
          54,
          7,
          26,
          47,
          27,
          30,
          30,
          15,
          32,
          34,
          47,
          27,
          46,
          21,
          72,
          29,
          40,
          10,
          17,
          36,
          28,
          22,
          28,
          9,
          5,
          13,
          35,
          16,
          33,
          44,
          30,
          36,
          30,
          2,
          16,
          19,
          22,
          40,
          25,
          48,
          47,
          7,
          33,
          6,
          6,
          36,
          26,
          9,
          32,
          27,
          17,
          31,
          10,
          26,
          24,
          23,
          10,
          42,
          11,
          40,
          37,
          22,
          41,
          29,
          27,
          18,
          23,
          36,
          37,
          35,
          17,
          31,
          25,
          10,
          15,
          13,
          30,
          45,
          26,
          25,
          25,
          20,
          51,
          43,
          26,
          3,
          19,
          54,
          10,
          35,
          31,
          37,
          11,
          25,
          22,
          13,
          60,
          27,
          23,
          16,
          13,
          26,
          19,
          15,
          29,
          36,
          27,
          18,
          34,
          16,
          40,
          33,
          38,
          33,
          17,
          44,
          32,
          8,
          18,
          5,
          6,
          16,
          38,
          13,
          10,
          42,
          7,
          18,
          10,
          22,
          33,
          17,
          34,
          16,
          13,
          14,
          16,
          19,
          36,
          32,
          18,
          38,
          24,
          19,
          6,
          19,
          3,
          32,
          18,
          7,
          35,
          21,
          14,
          52,
          13,
          21,
          12,
          61,
          38,
          34,
          42,
          38,
          38,
          14,
          8,
          20,
          53,
          5,
          36,
          50,
          37,
          22,
          34,
          4,
          39,
          22,
          10,
          15,
          4,
          13,
          36,
          8,
          31,
          53,
          16,
          36,
          22,
          53,
          32,
          40,
          23,
          20,
          6,
          8,
          31,
          9,
          18,
          3,
          43,
          22,
          32,
          3,
          32,
          10,
          28,
          26,
          14,
          2,
          17,
          29,
          15,
          37,
          32,
          57,
          50,
          20,
          43,
          25,
          16,
          31,
          23,
          16,
          32,
          26,
          38,
          3,
          32,
          35,
          46,
          16,
          10,
          23,
          52,
          37,
          55,
          29,
          19,
          35,
          1,
          26,
          40,
          22,
          18,
          33,
          53,
          1,
          18,
          31,
          29,
          21,
          39,
          43,
          17,
          12,
          34,
          22,
          12,
          52,
          25,
          54,
          34,
          37,
          2,
          37,
          15,
          51,
          12,
          24,
          32,
          18,
          26,
          35,
          14,
          37,
          33,
          19,
          43,
          21,
          37,
          30,
          14,
          25,
          26,
          33,
          25,
          13,
          13,
          19,
          51,
          21,
          33,
          36,
          22,
          54,
          13,
          5,
          10,
          34,
          27,
          11,
          11,
          26,
          32,
          38,
          53,
          43,
          23,
          15,
          31,
          13,
          9,
          25,
          22,
          24,
          10,
          24,
          25,
          36,
          20,
          35,
          40,
          13,
          12,
          30,
          26,
          39,
          11,
          7,
          21,
          13,
          16,
          37,
          2,
          23,
          49,
          17,
          23,
          31,
          38,
          8,
          26,
          8,
          42,
          4,
          36,
          37,
          17,
          13,
          26,
          8,
          22,
          24,
          24,
          38,
          22,
          42,
          28,
          33,
          68,
          10,
          29,
          11,
          17,
          24,
          15,
          20,
          7,
          44,
          11,
          10,
          49,
          42,
          32,
          47,
          13,
          5,
          11,
          42,
          33,
          36,
          23,
          14,
          9,
          34,
          36,
          21,
          36,
          45,
          21,
          12,
          10,
          23,
          12,
          23,
          11,
          30,
          27,
          34,
          16,
          20,
          16,
          21,
          10,
          20,
          14,
          31,
          38,
          53,
          20,
          8,
          44,
          14,
          24,
          42,
          46,
          12,
          30,
          13,
          11,
          56,
          8,
          34,
          9,
          9,
          4,
          19,
          40,
          7,
          28,
          42,
          16,
          41,
          13,
          44,
          23,
          12,
          46,
          11,
          23,
          33,
          16,
          6,
          31,
          13,
          40,
          30,
          12,
          11,
          36,
          19,
          34,
          14,
          35,
          32,
          14,
          15,
          40,
          5,
          34,
          43,
          12,
          33,
          28,
          35,
          36,
          13,
          30,
          12,
          16,
          24,
          13,
          33,
          22,
          15,
          3,
          7,
          4,
          7,
          43,
          39,
          45,
          27,
          42,
          25,
          52,
          24,
          22,
          31,
          28,
          14,
          42,
          21,
          11,
          20,
          9,
          5,
          11,
          60,
          9,
          39,
          15,
          8,
          8,
          11,
          27,
          34,
          16,
          4,
          9,
          3,
          14,
          18,
          19,
          23,
          12,
          18,
          45,
          7,
          46,
          12,
          23,
          54,
          27,
          49,
          30,
          29,
          33,
          11,
          23,
          9,
          54,
          31,
          13,
          10,
          36,
          45,
          10,
          10,
          25,
          45,
          23,
          8,
          30,
          47,
          30,
          30,
          23,
          18,
          48,
          38,
          46,
          41,
          22,
          43,
          16,
          9,
          35,
          19,
          9,
          14,
          30,
          11,
          12,
          47,
          26,
          37,
          24,
          13,
          16,
          30,
          61,
          34,
          32,
          19,
          45,
          8,
          18,
          44,
          45,
          35,
          59,
          22,
          18,
          47,
          32,
          13,
          26,
          32,
          27,
          9,
          33,
          22,
          25,
          40,
          40,
          16,
          16,
          33,
          13,
          11,
          13,
          27,
          33,
          46,
          18,
          6,
          24,
          15,
          29,
          31,
          36,
          29,
          8,
          52,
          9,
          26,
          5,
          43,
          3,
          21,
          52,
          30,
          45,
          17,
          22,
          40,
          46,
          7,
          20,
          18,
          21,
          18,
          24,
          18,
          36,
          38,
          25,
          36,
          37,
          38,
          44,
          44,
          30,
          14,
          36,
          76,
          10,
          31,
          23,
          24,
          11,
          16,
          34,
          24,
          33,
          8,
          26,
          37,
          32,
          29,
          29,
          19,
          40,
          14,
          16,
          46,
          30,
          2,
          6,
          37,
          20,
          31,
          14,
          58,
          36,
          37,
          16,
          28,
          34,
          7,
          7,
          27,
          12,
          2,
          49,
          10,
          45,
          19,
          18,
          26,
          44,
          36,
          33,
          37,
          8,
          37,
          29,
          28,
          32,
          7,
          18,
          42,
          18,
          59,
          54,
          46,
          8,
          26,
          31,
          11,
          20,
          47,
          53,
          39,
          35,
          22,
          28,
          32,
          18,
          33,
          38,
          34,
          17,
          13,
          27,
          33,
          24,
          25,
          10,
          11,
          26,
          12,
          16,
          26,
          28,
          21,
          23,
          51,
          27,
          17,
          16,
          31,
          41,
          35,
          14,
          29,
          12,
          37,
          39,
          18,
          13,
          12,
          12,
          44,
          11,
          12,
          15,
          27,
          9,
          17,
          18,
          32,
          46,
          34,
          40,
          36,
          28,
          13,
          7,
          37,
          26,
          24,
          43,
          7,
          32,
          9,
          11,
          20,
          11,
          33,
          33,
          20,
          11,
          8,
          12,
          10,
          40,
          49,
          16,
          16,
          29,
          44,
          47,
          52,
          26,
          23,
          11,
          2,
          38,
          32,
          22,
          29,
          11,
          27,
          14,
          22,
          29,
          2,
          24,
          33,
          13,
          36,
          21,
          33,
          48,
          35,
          35,
          28,
          11,
          46,
          24,
          38,
          14,
          35,
          18,
          18,
          34,
          20,
          27,
          48,
          22,
          12,
          16,
          48,
          33,
          2,
          68,
          20,
          19,
          26,
          34,
          47,
          15,
          28,
          20,
          26,
          23,
          15,
          18,
          45,
          13,
          10,
          36,
          62,
          23,
          15,
          37,
          22,
          26,
          21,
          11,
          42,
          39,
          23,
          20,
          54,
          22,
          20,
          18,
          22,
          13,
          3,
          1,
          30,
          10,
          82,
          10,
          27,
          28,
          22,
          28,
          10,
          87,
          61,
          34,
          10,
          20,
          28,
          40,
          25,
          20,
          42,
          24,
          22,
          22,
          19,
          7,
          27,
          39,
          44,
          16,
          27,
          31,
          30,
          47,
          14,
          53,
          50,
          36,
          30,
          21,
          33,
          22,
          10,
          4,
          29,
          39,
          18,
          6,
          22,
          15,
          22,
          2,
          7,
          15,
          19,
          34,
          36,
          9,
          13,
          14,
          30,
          11,
          30,
          11,
          2,
          38,
          9,
          35,
          21,
          38,
          14,
          12,
          23,
          35,
          28,
          29,
          35,
          14,
          25,
          29,
          18,
          12,
          38,
          12,
          24,
          17,
          37,
          21,
          40,
          13,
          20,
          15,
          38,
          27,
          25,
          18,
          27,
          24,
          36,
          15,
          36,
          6,
          18,
          39,
          27,
          8,
          16,
          32,
          16,
          46,
          38,
          15,
          20,
          15,
          35,
          53,
          38,
          38,
          44,
          25,
          10,
          4,
          28,
          14,
          39,
          8,
          37,
          29,
          49,
          28,
          5,
          29,
          25,
          8,
          27,
          64,
          46,
          23,
          23,
          21,
          26,
          18,
          16,
          23,
          3,
          21,
          48,
          49,
          41,
          29,
          28,
          35,
          25,
          31,
          41,
          39,
          14,
          25,
          14,
          31,
          13,
          31,
          54,
          36,
          42,
          11,
          9,
          55,
          33,
          19,
          10,
          30,
          25,
          24,
          16,
          12,
          26,
          14,
          39,
          27,
          25,
          5,
          34,
          22,
          27,
          47,
          32,
          22,
          13,
          47,
          25,
          25,
          33,
          41,
          11,
          63,
          43,
          26,
          46,
          29,
          13,
          8,
          9,
          35,
          38,
          28,
          4,
          30,
          52,
          26,
          21,
          22,
          29,
          16,
          30,
          28,
          30,
          14,
          31,
          42,
          29,
          9,
          15,
          53,
          19,
          19,
          21,
          49,
          13,
          38,
          34,
          21,
          14,
          23,
          30,
          10,
          15,
          13,
          28,
          35,
          15,
          28,
          38,
          21,
          39,
          3,
          21,
          11,
          5,
          19,
          14,
          29,
          8,
          15,
          42,
          34,
          23,
          38,
          34,
          18,
          2,
          26,
          44,
          9,
          29,
          36,
          19,
          14,
          14,
          10,
          15,
          29,
          21,
          35,
          21,
          30,
          48,
          21,
          31,
          37,
          38,
          49,
          16,
          15,
          21,
          21,
          43,
          11,
          21,
          8,
          22,
          27,
          22,
          6,
          57,
          58,
          12
         ],
         "xaxis": "x",
         "yaxis": "y"
        }
       ],
       "layout": {
        "barmode": "relative",
        "legend": {
         "tracegroupgap": 0
        },
        "margin": {
         "t": 60
        },
        "template": {
         "data": {
          "bar": [
           {
            "error_x": {
             "color": "#2a3f5f"
            },
            "error_y": {
             "color": "#2a3f5f"
            },
            "marker": {
             "line": {
              "color": "#E5ECF6",
              "width": 0.5
             },
             "pattern": {
              "fillmode": "overlay",
              "size": 10,
              "solidity": 0.2
             }
            },
            "type": "bar"
           }
          ],
          "barpolar": [
           {
            "marker": {
             "line": {
              "color": "#E5ECF6",
              "width": 0.5
             },
             "pattern": {
              "fillmode": "overlay",
              "size": 10,
              "solidity": 0.2
             }
            },
            "type": "barpolar"
           }
          ],
          "carpet": [
           {
            "aaxis": {
             "endlinecolor": "#2a3f5f",
             "gridcolor": "white",
             "linecolor": "white",
             "minorgridcolor": "white",
             "startlinecolor": "#2a3f5f"
            },
            "baxis": {
             "endlinecolor": "#2a3f5f",
             "gridcolor": "white",
             "linecolor": "white",
             "minorgridcolor": "white",
             "startlinecolor": "#2a3f5f"
            },
            "type": "carpet"
           }
          ],
          "choropleth": [
           {
            "colorbar": {
             "outlinewidth": 0,
             "ticks": ""
            },
            "type": "choropleth"
           }
          ],
          "contour": [
           {
            "colorbar": {
             "outlinewidth": 0,
             "ticks": ""
            },
            "colorscale": [
             [
              0,
              "#0d0887"
             ],
             [
              0.1111111111111111,
              "#46039f"
             ],
             [
              0.2222222222222222,
              "#7201a8"
             ],
             [
              0.3333333333333333,
              "#9c179e"
             ],
             [
              0.4444444444444444,
              "#bd3786"
             ],
             [
              0.5555555555555556,
              "#d8576b"
             ],
             [
              0.6666666666666666,
              "#ed7953"
             ],
             [
              0.7777777777777778,
              "#fb9f3a"
             ],
             [
              0.8888888888888888,
              "#fdca26"
             ],
             [
              1,
              "#f0f921"
             ]
            ],
            "type": "contour"
           }
          ],
          "contourcarpet": [
           {
            "colorbar": {
             "outlinewidth": 0,
             "ticks": ""
            },
            "type": "contourcarpet"
           }
          ],
          "heatmap": [
           {
            "colorbar": {
             "outlinewidth": 0,
             "ticks": ""
            },
            "colorscale": [
             [
              0,
              "#0d0887"
             ],
             [
              0.1111111111111111,
              "#46039f"
             ],
             [
              0.2222222222222222,
              "#7201a8"
             ],
             [
              0.3333333333333333,
              "#9c179e"
             ],
             [
              0.4444444444444444,
              "#bd3786"
             ],
             [
              0.5555555555555556,
              "#d8576b"
             ],
             [
              0.6666666666666666,
              "#ed7953"
             ],
             [
              0.7777777777777778,
              "#fb9f3a"
             ],
             [
              0.8888888888888888,
              "#fdca26"
             ],
             [
              1,
              "#f0f921"
             ]
            ],
            "type": "heatmap"
           }
          ],
          "heatmapgl": [
           {
            "colorbar": {
             "outlinewidth": 0,
             "ticks": ""
            },
            "colorscale": [
             [
              0,
              "#0d0887"
             ],
             [
              0.1111111111111111,
              "#46039f"
             ],
             [
              0.2222222222222222,
              "#7201a8"
             ],
             [
              0.3333333333333333,
              "#9c179e"
             ],
             [
              0.4444444444444444,
              "#bd3786"
             ],
             [
              0.5555555555555556,
              "#d8576b"
             ],
             [
              0.6666666666666666,
              "#ed7953"
             ],
             [
              0.7777777777777778,
              "#fb9f3a"
             ],
             [
              0.8888888888888888,
              "#fdca26"
             ],
             [
              1,
              "#f0f921"
             ]
            ],
            "type": "heatmapgl"
           }
          ],
          "histogram": [
           {
            "marker": {
             "pattern": {
              "fillmode": "overlay",
              "size": 10,
              "solidity": 0.2
             }
            },
            "type": "histogram"
           }
          ],
          "histogram2d": [
           {
            "colorbar": {
             "outlinewidth": 0,
             "ticks": ""
            },
            "colorscale": [
             [
              0,
              "#0d0887"
             ],
             [
              0.1111111111111111,
              "#46039f"
             ],
             [
              0.2222222222222222,
              "#7201a8"
             ],
             [
              0.3333333333333333,
              "#9c179e"
             ],
             [
              0.4444444444444444,
              "#bd3786"
             ],
             [
              0.5555555555555556,
              "#d8576b"
             ],
             [
              0.6666666666666666,
              "#ed7953"
             ],
             [
              0.7777777777777778,
              "#fb9f3a"
             ],
             [
              0.8888888888888888,
              "#fdca26"
             ],
             [
              1,
              "#f0f921"
             ]
            ],
            "type": "histogram2d"
           }
          ],
          "histogram2dcontour": [
           {
            "colorbar": {
             "outlinewidth": 0,
             "ticks": ""
            },
            "colorscale": [
             [
              0,
              "#0d0887"
             ],
             [
              0.1111111111111111,
              "#46039f"
             ],
             [
              0.2222222222222222,
              "#7201a8"
             ],
             [
              0.3333333333333333,
              "#9c179e"
             ],
             [
              0.4444444444444444,
              "#bd3786"
             ],
             [
              0.5555555555555556,
              "#d8576b"
             ],
             [
              0.6666666666666666,
              "#ed7953"
             ],
             [
              0.7777777777777778,
              "#fb9f3a"
             ],
             [
              0.8888888888888888,
              "#fdca26"
             ],
             [
              1,
              "#f0f921"
             ]
            ],
            "type": "histogram2dcontour"
           }
          ],
          "mesh3d": [
           {
            "colorbar": {
             "outlinewidth": 0,
             "ticks": ""
            },
            "type": "mesh3d"
           }
          ],
          "parcoords": [
           {
            "line": {
             "colorbar": {
              "outlinewidth": 0,
              "ticks": ""
             }
            },
            "type": "parcoords"
           }
          ],
          "pie": [
           {
            "automargin": true,
            "type": "pie"
           }
          ],
          "scatter": [
           {
            "fillpattern": {
             "fillmode": "overlay",
             "size": 10,
             "solidity": 0.2
            },
            "type": "scatter"
           }
          ],
          "scatter3d": [
           {
            "line": {
             "colorbar": {
              "outlinewidth": 0,
              "ticks": ""
             }
            },
            "marker": {
             "colorbar": {
              "outlinewidth": 0,
              "ticks": ""
             }
            },
            "type": "scatter3d"
           }
          ],
          "scattercarpet": [
           {
            "marker": {
             "colorbar": {
              "outlinewidth": 0,
              "ticks": ""
             }
            },
            "type": "scattercarpet"
           }
          ],
          "scattergeo": [
           {
            "marker": {
             "colorbar": {
              "outlinewidth": 0,
              "ticks": ""
             }
            },
            "type": "scattergeo"
           }
          ],
          "scattergl": [
           {
            "marker": {
             "colorbar": {
              "outlinewidth": 0,
              "ticks": ""
             }
            },
            "type": "scattergl"
           }
          ],
          "scattermapbox": [
           {
            "marker": {
             "colorbar": {
              "outlinewidth": 0,
              "ticks": ""
             }
            },
            "type": "scattermapbox"
           }
          ],
          "scatterpolar": [
           {
            "marker": {
             "colorbar": {
              "outlinewidth": 0,
              "ticks": ""
             }
            },
            "type": "scatterpolar"
           }
          ],
          "scatterpolargl": [
           {
            "marker": {
             "colorbar": {
              "outlinewidth": 0,
              "ticks": ""
             }
            },
            "type": "scatterpolargl"
           }
          ],
          "scatterternary": [
           {
            "marker": {
             "colorbar": {
              "outlinewidth": 0,
              "ticks": ""
             }
            },
            "type": "scatterternary"
           }
          ],
          "surface": [
           {
            "colorbar": {
             "outlinewidth": 0,
             "ticks": ""
            },
            "colorscale": [
             [
              0,
              "#0d0887"
             ],
             [
              0.1111111111111111,
              "#46039f"
             ],
             [
              0.2222222222222222,
              "#7201a8"
             ],
             [
              0.3333333333333333,
              "#9c179e"
             ],
             [
              0.4444444444444444,
              "#bd3786"
             ],
             [
              0.5555555555555556,
              "#d8576b"
             ],
             [
              0.6666666666666666,
              "#ed7953"
             ],
             [
              0.7777777777777778,
              "#fb9f3a"
             ],
             [
              0.8888888888888888,
              "#fdca26"
             ],
             [
              1,
              "#f0f921"
             ]
            ],
            "type": "surface"
           }
          ],
          "table": [
           {
            "cells": {
             "fill": {
              "color": "#EBF0F8"
             },
             "line": {
              "color": "white"
             }
            },
            "header": {
             "fill": {
              "color": "#C8D4E3"
             },
             "line": {
              "color": "white"
             }
            },
            "type": "table"
           }
          ]
         },
         "layout": {
          "annotationdefaults": {
           "arrowcolor": "#2a3f5f",
           "arrowhead": 0,
           "arrowwidth": 1
          },
          "autotypenumbers": "strict",
          "coloraxis": {
           "colorbar": {
            "outlinewidth": 0,
            "ticks": ""
           }
          },
          "colorscale": {
           "diverging": [
            [
             0,
             "#8e0152"
            ],
            [
             0.1,
             "#c51b7d"
            ],
            [
             0.2,
             "#de77ae"
            ],
            [
             0.3,
             "#f1b6da"
            ],
            [
             0.4,
             "#fde0ef"
            ],
            [
             0.5,
             "#f7f7f7"
            ],
            [
             0.6,
             "#e6f5d0"
            ],
            [
             0.7,
             "#b8e186"
            ],
            [
             0.8,
             "#7fbc41"
            ],
            [
             0.9,
             "#4d9221"
            ],
            [
             1,
             "#276419"
            ]
           ],
           "sequential": [
            [
             0,
             "#0d0887"
            ],
            [
             0.1111111111111111,
             "#46039f"
            ],
            [
             0.2222222222222222,
             "#7201a8"
            ],
            [
             0.3333333333333333,
             "#9c179e"
            ],
            [
             0.4444444444444444,
             "#bd3786"
            ],
            [
             0.5555555555555556,
             "#d8576b"
            ],
            [
             0.6666666666666666,
             "#ed7953"
            ],
            [
             0.7777777777777778,
             "#fb9f3a"
            ],
            [
             0.8888888888888888,
             "#fdca26"
            ],
            [
             1,
             "#f0f921"
            ]
           ],
           "sequentialminus": [
            [
             0,
             "#0d0887"
            ],
            [
             0.1111111111111111,
             "#46039f"
            ],
            [
             0.2222222222222222,
             "#7201a8"
            ],
            [
             0.3333333333333333,
             "#9c179e"
            ],
            [
             0.4444444444444444,
             "#bd3786"
            ],
            [
             0.5555555555555556,
             "#d8576b"
            ],
            [
             0.6666666666666666,
             "#ed7953"
            ],
            [
             0.7777777777777778,
             "#fb9f3a"
            ],
            [
             0.8888888888888888,
             "#fdca26"
            ],
            [
             1,
             "#f0f921"
            ]
           ]
          },
          "colorway": [
           "#636efa",
           "#EF553B",
           "#00cc96",
           "#ab63fa",
           "#FFA15A",
           "#19d3f3",
           "#FF6692",
           "#B6E880",
           "#FF97FF",
           "#FECB52"
          ],
          "font": {
           "color": "#2a3f5f"
          },
          "geo": {
           "bgcolor": "white",
           "lakecolor": "white",
           "landcolor": "#E5ECF6",
           "showlakes": true,
           "showland": true,
           "subunitcolor": "white"
          },
          "hoverlabel": {
           "align": "left"
          },
          "hovermode": "closest",
          "mapbox": {
           "style": "light"
          },
          "paper_bgcolor": "white",
          "plot_bgcolor": "#E5ECF6",
          "polar": {
           "angularaxis": {
            "gridcolor": "white",
            "linecolor": "white",
            "ticks": ""
           },
           "bgcolor": "#E5ECF6",
           "radialaxis": {
            "gridcolor": "white",
            "linecolor": "white",
            "ticks": ""
           }
          },
          "scene": {
           "xaxis": {
            "backgroundcolor": "#E5ECF6",
            "gridcolor": "white",
            "gridwidth": 2,
            "linecolor": "white",
            "showbackground": true,
            "ticks": "",
            "zerolinecolor": "white"
           },
           "yaxis": {
            "backgroundcolor": "#E5ECF6",
            "gridcolor": "white",
            "gridwidth": 2,
            "linecolor": "white",
            "showbackground": true,
            "ticks": "",
            "zerolinecolor": "white"
           },
           "zaxis": {
            "backgroundcolor": "#E5ECF6",
            "gridcolor": "white",
            "gridwidth": 2,
            "linecolor": "white",
            "showbackground": true,
            "ticks": "",
            "zerolinecolor": "white"
           }
          },
          "shapedefaults": {
           "line": {
            "color": "#2a3f5f"
           }
          },
          "ternary": {
           "aaxis": {
            "gridcolor": "white",
            "linecolor": "white",
            "ticks": ""
           },
           "baxis": {
            "gridcolor": "white",
            "linecolor": "white",
            "ticks": ""
           },
           "bgcolor": "#E5ECF6",
           "caxis": {
            "gridcolor": "white",
            "linecolor": "white",
            "ticks": ""
           }
          },
          "title": {
           "x": 0.05
          },
          "xaxis": {
           "automargin": true,
           "gridcolor": "white",
           "linecolor": "white",
           "ticks": "",
           "title": {
            "standoff": 15
           },
           "zerolinecolor": "white",
           "zerolinewidth": 2
          },
          "yaxis": {
           "automargin": true,
           "gridcolor": "white",
           "linecolor": "white",
           "ticks": "",
           "title": {
            "standoff": 15
           },
           "zerolinecolor": "white",
           "zerolinewidth": 2
          }
         }
        },
        "xaxis": {
         "anchor": "y",
         "domain": [
          0,
          1
         ],
         "title": {
          "text": "count"
         }
        },
        "yaxis": {
         "anchor": "x",
         "domain": [
          0,
          1
         ],
         "title": {
          "text": "count"
         }
        }
       }
      },
      "text/html": [
       "<div>                            <div id=\"1704e717-1145-49e3-bdff-9f8c84f5889a\" class=\"plotly-graph-div\" style=\"height:525px; width:100%;\"></div>            <script type=\"text/javascript\">                require([\"plotly\"], function(Plotly) {                    window.PLOTLYENV=window.PLOTLYENV || {};                                    if (document.getElementById(\"1704e717-1145-49e3-bdff-9f8c84f5889a\")) {                    Plotly.newPlot(                        \"1704e717-1145-49e3-bdff-9f8c84f5889a\",                        [{\"alignmentgroup\":\"True\",\"bingroup\":\"x\",\"hovertemplate\":\"count=%{y}\\u003cextra\\u003e\\u003c\\u002fextra\\u003e\",\"legendgroup\":\"\",\"marker\":{\"color\":\"#636efa\",\"pattern\":{\"shape\":\"\"}},\"name\":\"\",\"offsetgroup\":\"\",\"orientation\":\"v\",\"showlegend\":false,\"x\":[23,15,30,25,23,41,22,23,19,50,56,31,50,36,25,25,32,35,22,59,25,30,26,19,54,2,22,10,36,40,15,34,34,4,24,51,27,44,11,34,36,8,11,5,14,32,27,8,35,11,41,39,19,65,41,38,18,53,19,28,33,10,20,25,21,49,32,65,10,39,14,4,13,14,39,19,40,30,26,13,33,24,55,31,20,34,25,24,11,25,59,22,25,4,20,16,45,37,17,13,27,29,9,13,51,17,10,60,22,31,12,46,26,8,29,9,56,37,14,42,52,25,25,32,24,29,27,28,9,45,9,28,15,9,3,5,24,9,23,33,40,7,14,21,18,13,57,34,16,42,13,24,5,35,29,33,26,34,28,30,13,14,13,26,41,25,33,21,19,24,29,50,30,34,17,14,9,23,14,10,25,6,52,25,6,4,8,29,18,4,43,3,31,28,20,7,14,35,33,16,46,18,27,10,44,27,41,5,34,18,26,55,49,9,29,62,34,38,5,36,63,32,61,49,34,31,43,92,9,4,26,47,12,15,30,39,15,38,4,15,56,25,37,34,3,29,21,6,40,14,31,33,21,31,22,44,18,37,37,31,29,24,18,10,8,8,36,37,41,62,29,38,12,41,15,26,17,24,21,20,24,26,17,13,2,14,41,25,40,52,19,8,25,46,38,24,13,41,39,24,32,29,33,12,29,6,37,16,6,13,23,10,18,41,37,31,27,11,24,30,14,16,39,36,34,21,16,9,32,49,27,31,34,23,46,29,15,8,9,59,33,20,37,15,6,28,31,14,22,34,19,20,8,24,14,13,18,11,26,8,20,63,17,44,38,35,14,41,34,51,24,23,9,44,50,36,26,32,7,32,34,24,23,32,37,21,13,4,41,2,15,31,61,10,18,41,19,31,33,30,18,35,21,43,44,34,61,4,37,8,15,14,20,15,39,15,12,42,3,18,15,36,27,26,19,24,17,21,22,7,24,21,21,27,31,26,38,4,13,16,32,34,13,15,41,39,30,31,20,26,52,15,34,17,16,37,15,16,23,28,25,15,35,32,30,11,39,31,13,9,9,18,26,23,29,2,32,16,24,34,42,25,30,23,4,20,12,60,45,41,26,23,9,24,49,32,12,33,18,43,44,13,18,20,2,17,15,11,26,37,26,22,12,33,31,38,26,33,30,1,13,43,48,14,47,17,52,15,40,18,21,31,45,27,21,12,14,31,3,23,12,24,18,38,35,5,20,5,50,13,45,58,19,30,27,34,31,55,13,32,16,47,47,38,12,19,15,47,43,31,38,31,37,30,18,40,25,36,15,17,27,24,41,32,24,3,17,25,33,36,25,3,50,35,16,30,24,11,40,22,37,37,26,24,4,31,21,58,31,11,54,42,18,15,35,28,34,26,29,18,42,25,15,35,31,49,29,14,24,41,62,17,18,10,9,40,38,23,54,27,38,44,12,30,28,43,53,31,30,28,36,11,23,39,12,23,25,28,23,50,13,26,18,28,39,34,15,38,40,16,20,10,50,29,23,34,15,40,13,32,10,10,28,17,12,20,30,10,2,29,21,13,26,33,28,41,23,25,24,20,5,75,20,38,12,26,54,30,22,47,36,31,17,29,33,27,17,48,14,21,55,24,31,13,22,26,48,11,29,14,33,30,29,21,25,7,35,18,81,26,30,12,46,18,6,35,23,36,19,11,17,55,25,25,37,38,41,49,10,7,22,26,4,30,30,21,25,17,17,20,25,56,52,3,6,31,19,12,36,10,53,37,45,27,8,22,32,34,19,29,16,22,37,38,36,10,50,8,41,41,31,32,29,39,15,21,23,7,25,36,13,22,16,11,11,8,41,39,30,24,58,40,60,29,20,39,16,33,36,30,24,48,33,16,12,15,35,18,9,58,25,34,50,14,31,46,19,50,15,32,16,22,27,36,34,14,16,33,28,8,20,27,2,15,12,11,39,32,32,19,25,16,78,19,12,39,24,10,20,31,26,27,7,9,31,36,12,55,13,41,44,13,42,14,29,34,32,62,13,39,6,30,29,12,30,53,63,17,10,25,50,3,15,16,19,16,26,28,51,28,15,29,59,37,33,27,31,5,32,12,21,19,23,31,22,18,58,34,56,42,18,44,26,25,42,21,11,15,35,36,56,38,47,45,14,40,23,9,39,12,31,23,49,13,13,33,17,56,41,31,53,43,9,8,10,27,28,6,17,17,13,23,21,45,6,20,13,13,46,13,16,5,25,21,13,37,13,19,53,8,7,38,41,24,8,46,6,38,12,14,28,27,13,42,22,42,39,46,34,15,27,25,11,64,43,17,7,36,19,38,18,42,39,10,10,11,7,22,32,45,22,2,11,11,38,29,27,3,27,7,4,44,16,22,47,22,46,15,49,18,19,9,29,20,26,10,8,38,33,30,28,19,9,43,9,46,4,30,24,17,63,42,35,22,51,25,8,13,17,34,40,35,49,21,44,41,51,21,37,5,14,26,47,24,62,3,4,25,6,17,31,32,14,33,6,18,11,15,44,18,38,81,56,11,30,15,28,25,17,7,24,23,40,32,38,15,27,42,33,16,16,18,25,7,30,29,22,18,22,19,59,27,41,25,58,49,11,20,58,33,72,2,23,29,40,10,40,23,13,28,5,32,48,13,43,69,14,55,32,27,11,12,35,23,46,8,7,22,13,41,31,63,23,42,27,23,7,11,12,40,20,8,23,14,15,31,44,53,12,14,20,38,21,19,9,41,28,57,8,16,34,24,27,42,46,38,33,20,33,14,13,16,29,39,15,13,13,26,37,14,25,45,27,15,26,23,29,39,16,24,43,12,67,35,13,22,22,24,30,31,43,10,11,3,20,47,27,34,33,15,11,30,10,22,21,37,12,24,32,23,40,14,8,2,31,43,28,6,41,26,27,31,33,9,9,36,15,28,41,28,25,54,7,26,47,27,30,30,15,32,34,47,27,46,21,72,29,40,10,17,36,28,22,28,9,5,13,35,16,33,44,30,36,30,2,16,19,22,40,25,48,47,7,33,6,6,36,26,9,32,27,17,31,10,26,24,23,10,42,11,40,37,22,41,29,27,18,23,36,37,35,17,31,25,10,15,13,30,45,26,25,25,20,51,43,26,3,19,54,10,35,31,37,11,25,22,13,60,27,23,16,13,26,19,15,29,36,27,18,34,16,40,33,38,33,17,44,32,8,18,5,6,16,38,13,10,42,7,18,10,22,33,17,34,16,13,14,16,19,36,32,18,38,24,19,6,19,3,32,18,7,35,21,14,52,13,21,12,61,38,34,42,38,38,14,8,20,53,5,36,50,37,22,34,4,39,22,10,15,4,13,36,8,31,53,16,36,22,53,32,40,23,20,6,8,31,9,18,3,43,22,32,3,32,10,28,26,14,2,17,29,15,37,32,57,50,20,43,25,16,31,23,16,32,26,38,3,32,35,46,16,10,23,52,37,55,29,19,35,1,26,40,22,18,33,53,1,18,31,29,21,39,43,17,12,34,22,12,52,25,54,34,37,2,37,15,51,12,24,32,18,26,35,14,37,33,19,43,21,37,30,14,25,26,33,25,13,13,19,51,21,33,36,22,54,13,5,10,34,27,11,11,26,32,38,53,43,23,15,31,13,9,25,22,24,10,24,25,36,20,35,40,13,12,30,26,39,11,7,21,13,16,37,2,23,49,17,23,31,38,8,26,8,42,4,36,37,17,13,26,8,22,24,24,38,22,42,28,33,68,10,29,11,17,24,15,20,7,44,11,10,49,42,32,47,13,5,11,42,33,36,23,14,9,34,36,21,36,45,21,12,10,23,12,23,11,30,27,34,16,20,16,21,10,20,14,31,38,53,20,8,44,14,24,42,46,12,30,13,11,56,8,34,9,9,4,19,40,7,28,42,16,41,13,44,23,12,46,11,23,33,16,6,31,13,40,30,12,11,36,19,34,14,35,32,14,15,40,5,34,43,12,33,28,35,36,13,30,12,16,24,13,33,22,15,3,7,4,7,43,39,45,27,42,25,52,24,22,31,28,14,42,21,11,20,9,5,11,60,9,39,15,8,8,11,27,34,16,4,9,3,14,18,19,23,12,18,45,7,46,12,23,54,27,49,30,29,33,11,23,9,54,31,13,10,36,45,10,10,25,45,23,8,30,47,30,30,23,18,48,38,46,41,22,43,16,9,35,19,9,14,30,11,12,47,26,37,24,13,16,30,61,34,32,19,45,8,18,44,45,35,59,22,18,47,32,13,26,32,27,9,33,22,25,40,40,16,16,33,13,11,13,27,33,46,18,6,24,15,29,31,36,29,8,52,9,26,5,43,3,21,52,30,45,17,22,40,46,7,20,18,21,18,24,18,36,38,25,36,37,38,44,44,30,14,36,76,10,31,23,24,11,16,34,24,33,8,26,37,32,29,29,19,40,14,16,46,30,2,6,37,20,31,14,58,36,37,16,28,34,7,7,27,12,2,49,10,45,19,18,26,44,36,33,37,8,37,29,28,32,7,18,42,18,59,54,46,8,26,31,11,20,47,53,39,35,22,28,32,18,33,38,34,17,13,27,33,24,25,10,11,26,12,16,26,28,21,23,51,27,17,16,31,41,35,14,29,12,37,39,18,13,12,12,44,11,12,15,27,9,17,18,32,46,34,40,36,28,13,7,37,26,24,43,7,32,9,11,20,11,33,33,20,11,8,12,10,40,49,16,16,29,44,47,52,26,23,11,2,38,32,22,29,11,27,14,22,29,2,24,33,13,36,21,33,48,35,35,28,11,46,24,38,14,35,18,18,34,20,27,48,22,12,16,48,33,2,68,20,19,26,34,47,15,28,20,26,23,15,18,45,13,10,36,62,23,15,37,22,26,21,11,42,39,23,20,54,22,20,18,22,13,3,1,30,10,82,10,27,28,22,28,10,87,61,34,10,20,28,40,25,20,42,24,22,22,19,7,27,39,44,16,27,31,30,47,14,53,50,36,30,21,33,22,10,4,29,39,18,6,22,15,22,2,7,15,19,34,36,9,13,14,30,11,30,11,2,38,9,35,21,38,14,12,23,35,28,29,35,14,25,29,18,12,38,12,24,17,37,21,40,13,20,15,38,27,25,18,27,24,36,15,36,6,18,39,27,8,16,32,16,46,38,15,20,15,35,53,38,38,44,25,10,4,28,14,39,8,37,29,49,28,5,29,25,8,27,64,46,23,23,21,26,18,16,23,3,21,48,49,41,29,28,35,25,31,41,39,14,25,14,31,13,31,54,36,42,11,9,55,33,19,10,30,25,24,16,12,26,14,39,27,25,5,34,22,27,47,32,22,13,47,25,25,33,41,11,63,43,26,46,29,13,8,9,35,38,28,4,30,52,26,21,22,29,16,30,28,30,14,31,42,29,9,15,53,19,19,21,49,13,38,34,21,14,23,30,10,15,13,28,35,15,28,38,21,39,3,21,11,5,19,14,29,8,15,42,34,23,38,34,18,2,26,44,9,29,36,19,14,14,10,15,29,21,35,21,30,48,21,31,37,38,49,16,15,21,21,43,11,21,8,22,27,22,6,57,58,12],\"xaxis\":\"x\",\"yaxis\":\"y\",\"type\":\"histogram\"}],                        {\"template\":{\"data\":{\"histogram2dcontour\":[{\"type\":\"histogram2dcontour\",\"colorbar\":{\"outlinewidth\":0,\"ticks\":\"\"},\"colorscale\":[[0.0,\"#0d0887\"],[0.1111111111111111,\"#46039f\"],[0.2222222222222222,\"#7201a8\"],[0.3333333333333333,\"#9c179e\"],[0.4444444444444444,\"#bd3786\"],[0.5555555555555556,\"#d8576b\"],[0.6666666666666666,\"#ed7953\"],[0.7777777777777778,\"#fb9f3a\"],[0.8888888888888888,\"#fdca26\"],[1.0,\"#f0f921\"]]}],\"choropleth\":[{\"type\":\"choropleth\",\"colorbar\":{\"outlinewidth\":0,\"ticks\":\"\"}}],\"histogram2d\":[{\"type\":\"histogram2d\",\"colorbar\":{\"outlinewidth\":0,\"ticks\":\"\"},\"colorscale\":[[0.0,\"#0d0887\"],[0.1111111111111111,\"#46039f\"],[0.2222222222222222,\"#7201a8\"],[0.3333333333333333,\"#9c179e\"],[0.4444444444444444,\"#bd3786\"],[0.5555555555555556,\"#d8576b\"],[0.6666666666666666,\"#ed7953\"],[0.7777777777777778,\"#fb9f3a\"],[0.8888888888888888,\"#fdca26\"],[1.0,\"#f0f921\"]]}],\"heatmap\":[{\"type\":\"heatmap\",\"colorbar\":{\"outlinewidth\":0,\"ticks\":\"\"},\"colorscale\":[[0.0,\"#0d0887\"],[0.1111111111111111,\"#46039f\"],[0.2222222222222222,\"#7201a8\"],[0.3333333333333333,\"#9c179e\"],[0.4444444444444444,\"#bd3786\"],[0.5555555555555556,\"#d8576b\"],[0.6666666666666666,\"#ed7953\"],[0.7777777777777778,\"#fb9f3a\"],[0.8888888888888888,\"#fdca26\"],[1.0,\"#f0f921\"]]}],\"heatmapgl\":[{\"type\":\"heatmapgl\",\"colorbar\":{\"outlinewidth\":0,\"ticks\":\"\"},\"colorscale\":[[0.0,\"#0d0887\"],[0.1111111111111111,\"#46039f\"],[0.2222222222222222,\"#7201a8\"],[0.3333333333333333,\"#9c179e\"],[0.4444444444444444,\"#bd3786\"],[0.5555555555555556,\"#d8576b\"],[0.6666666666666666,\"#ed7953\"],[0.7777777777777778,\"#fb9f3a\"],[0.8888888888888888,\"#fdca26\"],[1.0,\"#f0f921\"]]}],\"contourcarpet\":[{\"type\":\"contourcarpet\",\"colorbar\":{\"outlinewidth\":0,\"ticks\":\"\"}}],\"contour\":[{\"type\":\"contour\",\"colorbar\":{\"outlinewidth\":0,\"ticks\":\"\"},\"colorscale\":[[0.0,\"#0d0887\"],[0.1111111111111111,\"#46039f\"],[0.2222222222222222,\"#7201a8\"],[0.3333333333333333,\"#9c179e\"],[0.4444444444444444,\"#bd3786\"],[0.5555555555555556,\"#d8576b\"],[0.6666666666666666,\"#ed7953\"],[0.7777777777777778,\"#fb9f3a\"],[0.8888888888888888,\"#fdca26\"],[1.0,\"#f0f921\"]]}],\"surface\":[{\"type\":\"surface\",\"colorbar\":{\"outlinewidth\":0,\"ticks\":\"\"},\"colorscale\":[[0.0,\"#0d0887\"],[0.1111111111111111,\"#46039f\"],[0.2222222222222222,\"#7201a8\"],[0.3333333333333333,\"#9c179e\"],[0.4444444444444444,\"#bd3786\"],[0.5555555555555556,\"#d8576b\"],[0.6666666666666666,\"#ed7953\"],[0.7777777777777778,\"#fb9f3a\"],[0.8888888888888888,\"#fdca26\"],[1.0,\"#f0f921\"]]}],\"mesh3d\":[{\"type\":\"mesh3d\",\"colorbar\":{\"outlinewidth\":0,\"ticks\":\"\"}}],\"scatter\":[{\"fillpattern\":{\"fillmode\":\"overlay\",\"size\":10,\"solidity\":0.2},\"type\":\"scatter\"}],\"parcoords\":[{\"type\":\"parcoords\",\"line\":{\"colorbar\":{\"outlinewidth\":0,\"ticks\":\"\"}}}],\"scatterpolargl\":[{\"type\":\"scatterpolargl\",\"marker\":{\"colorbar\":{\"outlinewidth\":0,\"ticks\":\"\"}}}],\"bar\":[{\"error_x\":{\"color\":\"#2a3f5f\"},\"error_y\":{\"color\":\"#2a3f5f\"},\"marker\":{\"line\":{\"color\":\"#E5ECF6\",\"width\":0.5},\"pattern\":{\"fillmode\":\"overlay\",\"size\":10,\"solidity\":0.2}},\"type\":\"bar\"}],\"scattergeo\":[{\"type\":\"scattergeo\",\"marker\":{\"colorbar\":{\"outlinewidth\":0,\"ticks\":\"\"}}}],\"scatterpolar\":[{\"type\":\"scatterpolar\",\"marker\":{\"colorbar\":{\"outlinewidth\":0,\"ticks\":\"\"}}}],\"histogram\":[{\"marker\":{\"pattern\":{\"fillmode\":\"overlay\",\"size\":10,\"solidity\":0.2}},\"type\":\"histogram\"}],\"scattergl\":[{\"type\":\"scattergl\",\"marker\":{\"colorbar\":{\"outlinewidth\":0,\"ticks\":\"\"}}}],\"scatter3d\":[{\"type\":\"scatter3d\",\"line\":{\"colorbar\":{\"outlinewidth\":0,\"ticks\":\"\"}},\"marker\":{\"colorbar\":{\"outlinewidth\":0,\"ticks\":\"\"}}}],\"scattermapbox\":[{\"type\":\"scattermapbox\",\"marker\":{\"colorbar\":{\"outlinewidth\":0,\"ticks\":\"\"}}}],\"scatterternary\":[{\"type\":\"scatterternary\",\"marker\":{\"colorbar\":{\"outlinewidth\":0,\"ticks\":\"\"}}}],\"scattercarpet\":[{\"type\":\"scattercarpet\",\"marker\":{\"colorbar\":{\"outlinewidth\":0,\"ticks\":\"\"}}}],\"carpet\":[{\"aaxis\":{\"endlinecolor\":\"#2a3f5f\",\"gridcolor\":\"white\",\"linecolor\":\"white\",\"minorgridcolor\":\"white\",\"startlinecolor\":\"#2a3f5f\"},\"baxis\":{\"endlinecolor\":\"#2a3f5f\",\"gridcolor\":\"white\",\"linecolor\":\"white\",\"minorgridcolor\":\"white\",\"startlinecolor\":\"#2a3f5f\"},\"type\":\"carpet\"}],\"table\":[{\"cells\":{\"fill\":{\"color\":\"#EBF0F8\"},\"line\":{\"color\":\"white\"}},\"header\":{\"fill\":{\"color\":\"#C8D4E3\"},\"line\":{\"color\":\"white\"}},\"type\":\"table\"}],\"barpolar\":[{\"marker\":{\"line\":{\"color\":\"#E5ECF6\",\"width\":0.5},\"pattern\":{\"fillmode\":\"overlay\",\"size\":10,\"solidity\":0.2}},\"type\":\"barpolar\"}],\"pie\":[{\"automargin\":true,\"type\":\"pie\"}]},\"layout\":{\"autotypenumbers\":\"strict\",\"colorway\":[\"#636efa\",\"#EF553B\",\"#00cc96\",\"#ab63fa\",\"#FFA15A\",\"#19d3f3\",\"#FF6692\",\"#B6E880\",\"#FF97FF\",\"#FECB52\"],\"font\":{\"color\":\"#2a3f5f\"},\"hovermode\":\"closest\",\"hoverlabel\":{\"align\":\"left\"},\"paper_bgcolor\":\"white\",\"plot_bgcolor\":\"#E5ECF6\",\"polar\":{\"bgcolor\":\"#E5ECF6\",\"angularaxis\":{\"gridcolor\":\"white\",\"linecolor\":\"white\",\"ticks\":\"\"},\"radialaxis\":{\"gridcolor\":\"white\",\"linecolor\":\"white\",\"ticks\":\"\"}},\"ternary\":{\"bgcolor\":\"#E5ECF6\",\"aaxis\":{\"gridcolor\":\"white\",\"linecolor\":\"white\",\"ticks\":\"\"},\"baxis\":{\"gridcolor\":\"white\",\"linecolor\":\"white\",\"ticks\":\"\"},\"caxis\":{\"gridcolor\":\"white\",\"linecolor\":\"white\",\"ticks\":\"\"}},\"coloraxis\":{\"colorbar\":{\"outlinewidth\":0,\"ticks\":\"\"}},\"colorscale\":{\"sequential\":[[0.0,\"#0d0887\"],[0.1111111111111111,\"#46039f\"],[0.2222222222222222,\"#7201a8\"],[0.3333333333333333,\"#9c179e\"],[0.4444444444444444,\"#bd3786\"],[0.5555555555555556,\"#d8576b\"],[0.6666666666666666,\"#ed7953\"],[0.7777777777777778,\"#fb9f3a\"],[0.8888888888888888,\"#fdca26\"],[1.0,\"#f0f921\"]],\"sequentialminus\":[[0.0,\"#0d0887\"],[0.1111111111111111,\"#46039f\"],[0.2222222222222222,\"#7201a8\"],[0.3333333333333333,\"#9c179e\"],[0.4444444444444444,\"#bd3786\"],[0.5555555555555556,\"#d8576b\"],[0.6666666666666666,\"#ed7953\"],[0.7777777777777778,\"#fb9f3a\"],[0.8888888888888888,\"#fdca26\"],[1.0,\"#f0f921\"]],\"diverging\":[[0,\"#8e0152\"],[0.1,\"#c51b7d\"],[0.2,\"#de77ae\"],[0.3,\"#f1b6da\"],[0.4,\"#fde0ef\"],[0.5,\"#f7f7f7\"],[0.6,\"#e6f5d0\"],[0.7,\"#b8e186\"],[0.8,\"#7fbc41\"],[0.9,\"#4d9221\"],[1,\"#276419\"]]},\"xaxis\":{\"gridcolor\":\"white\",\"linecolor\":\"white\",\"ticks\":\"\",\"title\":{\"standoff\":15},\"zerolinecolor\":\"white\",\"automargin\":true,\"zerolinewidth\":2},\"yaxis\":{\"gridcolor\":\"white\",\"linecolor\":\"white\",\"ticks\":\"\",\"title\":{\"standoff\":15},\"zerolinecolor\":\"white\",\"automargin\":true,\"zerolinewidth\":2},\"scene\":{\"xaxis\":{\"backgroundcolor\":\"#E5ECF6\",\"gridcolor\":\"white\",\"linecolor\":\"white\",\"showbackground\":true,\"ticks\":\"\",\"zerolinecolor\":\"white\",\"gridwidth\":2},\"yaxis\":{\"backgroundcolor\":\"#E5ECF6\",\"gridcolor\":\"white\",\"linecolor\":\"white\",\"showbackground\":true,\"ticks\":\"\",\"zerolinecolor\":\"white\",\"gridwidth\":2},\"zaxis\":{\"backgroundcolor\":\"#E5ECF6\",\"gridcolor\":\"white\",\"linecolor\":\"white\",\"showbackground\":true,\"ticks\":\"\",\"zerolinecolor\":\"white\",\"gridwidth\":2}},\"shapedefaults\":{\"line\":{\"color\":\"#2a3f5f\"}},\"annotationdefaults\":{\"arrowcolor\":\"#2a3f5f\",\"arrowhead\":0,\"arrowwidth\":1},\"geo\":{\"bgcolor\":\"white\",\"landcolor\":\"#E5ECF6\",\"subunitcolor\":\"white\",\"showland\":true,\"showlakes\":true,\"lakecolor\":\"white\"},\"title\":{\"x\":0.05},\"mapbox\":{\"style\":\"light\"}}},\"xaxis\":{\"anchor\":\"y\",\"domain\":[0.0,1.0],\"title\":{\"text\":\"count\"}},\"yaxis\":{\"anchor\":\"x\",\"domain\":[0.0,1.0],\"title\":{\"text\":\"count\"}},\"legend\":{\"tracegroupgap\":0},\"margin\":{\"t\":60},\"barmode\":\"relative\"},                        {\"responsive\": true}                    ).then(function(){\n",
       "                            \n",
       "var gd = document.getElementById('1704e717-1145-49e3-bdff-9f8c84f5889a');\n",
       "var x = new MutationObserver(function (mutations, observer) {{\n",
       "        var display = window.getComputedStyle(gd).display;\n",
       "        if (!display || display === 'none') {{\n",
       "            console.log([gd, 'removed!']);\n",
       "            Plotly.purge(gd);\n",
       "            observer.disconnect();\n",
       "        }}\n",
       "}});\n",
       "\n",
       "// Listen for the removal of the full notebook cells\n",
       "var notebookContainer = gd.closest('#notebook-container');\n",
       "if (notebookContainer) {{\n",
       "    x.observe(notebookContainer, {childList: true});\n",
       "}}\n",
       "\n",
       "// Listen for the clearing of the current output cell\n",
       "var outputEl = gd.closest('.output');\n",
       "if (outputEl) {{\n",
       "    x.observe(outputEl, {childList: true});\n",
       "}}\n",
       "\n",
       "                        })                };                });            </script>        </div>"
      ]
     },
     "metadata": {},
     "output_type": "display_data"
    }
   ],
   "source": [
    "px.histogram(df_grp.to_pandas(), x=\"count\")"
   ]
  },
  {
   "cell_type": "code",
   "execution_count": 55,
   "id": "ff3cfd5e",
   "metadata": {},
   "outputs": [],
   "source": [
    "# px.histogram(df_gt_100.group_by(\"name\").agg(pl.col(\"name\").count().alias(\"count\")).to_pandas(), x=\"count\", title=\"Number of records per hurricane\")"
   ]
  },
  {
   "cell_type": "code",
   "execution_count": 81,
   "id": "884bf9c3",
   "metadata": {},
   "outputs": [
    {
     "data": {
      "text/html": [
       "<div><style>\n",
       ".dataframe > thead > tr,\n",
       ".dataframe > tbody > tr {\n",
       "  text-align: right;\n",
       "  white-space: pre-wrap;\n",
       "}\n",
       "</style>\n",
       "<small>shape: (9, 10)</small><table border=\"1\" class=\"dataframe\"><thead><tr><th>statistic</th><th>sample_id</th><th>name</th><th>china_hurricane_code</th><th>date</th><th>category</th><th>latitude</th><th>longitude</th><th>lowest_pressure</th><th>wind_speed</th></tr><tr><td>str</td><td>f64</td><td>str</td><td>f64</td><td>str</td><td>f64</td><td>f64</td><td>f64</td><td>f64</td><td>f64</td></tr></thead><tbody><tr><td>&quot;count&quot;</td><td>60.0</td><td>&quot;60&quot;</td><td>60.0</td><td>&quot;60&quot;</td><td>60.0</td><td>60.0</td><td>60.0</td><td>60.0</td><td>60.0</td></tr><tr><td>&quot;null_count&quot;</td><td>0.0</td><td>&quot;0&quot;</td><td>0.0</td><td>&quot;0&quot;</td><td>0.0</td><td>0.0</td><td>0.0</td><td>0.0</td><td>0.0</td></tr><tr><td>&quot;mean&quot;</td><td>1523.0</td><td>null</td><td>36.0</td><td>&quot;1968-11-16 21:…</td><td>2.566667</td><td>11.598333</td><td>126.13</td><td>991.95</td><td>25.5</td></tr><tr><td>&quot;std&quot;</td><td>0.0</td><td>null</td><td>0.0</td><td>null</td><td>1.16977</td><td>1.39533</td><td>9.699699</td><td>10.401149</td><td>8.621023</td></tr><tr><td>&quot;min&quot;</td><td>1523.0</td><td>&quot;Mamie&quot;</td><td>36.0</td><td>&quot;1968-11-09 12:…</td><td>1.0</td><td>8.9</td><td>106.5</td><td>973.0</td><td>15.0</td></tr><tr><td>&quot;25%&quot;</td><td>1523.0</td><td>null</td><td>36.0</td><td>&quot;1968-11-13 06:…</td><td>1.0</td><td>10.6</td><td>117.5</td><td>983.0</td><td>15.0</td></tr><tr><td>&quot;50%&quot;</td><td>1523.0</td><td>null</td><td>36.0</td><td>&quot;1968-11-17 00:…</td><td>3.0</td><td>11.5</td><td>129.3</td><td>995.0</td><td>25.0</td></tr><tr><td>&quot;75%&quot;</td><td>1523.0</td><td>null</td><td>36.0</td><td>&quot;1968-11-20 12:…</td><td>4.0</td><td>12.8</td><td>134.7</td><td>1002.0</td><td>35.0</td></tr><tr><td>&quot;max&quot;</td><td>1523.0</td><td>&quot;Mamie&quot;</td><td>36.0</td><td>&quot;1968-11-24 06:…</td><td>4.0</td><td>14.3</td><td>137.8</td><td>1007.0</td><td>40.0</td></tr></tbody></table></div>"
      ],
      "text/plain": [
       "shape: (9, 10)\n",
       "┌────────────┬───────────┬───────┬────────────┬───┬───────────┬───────────┬────────────┬───────────┐\n",
       "│ statistic  ┆ sample_id ┆ name  ┆ china_hurr ┆ … ┆ latitude  ┆ longitude ┆ lowest_pre ┆ wind_spee │\n",
       "│ ---        ┆ ---       ┆ ---   ┆ icane_code ┆   ┆ ---       ┆ ---       ┆ ssure      ┆ d         │\n",
       "│ str        ┆ f64       ┆ str   ┆ ---        ┆   ┆ f64       ┆ f64       ┆ ---        ┆ ---       │\n",
       "│            ┆           ┆       ┆ f64        ┆   ┆           ┆           ┆ f64        ┆ f64       │\n",
       "╞════════════╪═══════════╪═══════╪════════════╪═══╪═══════════╪═══════════╪════════════╪═══════════╡\n",
       "│ count      ┆ 60.0      ┆ 60    ┆ 60.0       ┆ … ┆ 60.0      ┆ 60.0      ┆ 60.0       ┆ 60.0      │\n",
       "│ null_count ┆ 0.0       ┆ 0     ┆ 0.0        ┆ … ┆ 0.0       ┆ 0.0       ┆ 0.0        ┆ 0.0       │\n",
       "│ mean       ┆ 1523.0    ┆ null  ┆ 36.0       ┆ … ┆ 11.598333 ┆ 126.13    ┆ 991.95     ┆ 25.5      │\n",
       "│ std        ┆ 0.0       ┆ null  ┆ 0.0        ┆ … ┆ 1.39533   ┆ 9.699699  ┆ 10.401149  ┆ 8.621023  │\n",
       "│ min        ┆ 1523.0    ┆ Mamie ┆ 36.0       ┆ … ┆ 8.9       ┆ 106.5     ┆ 973.0      ┆ 15.0      │\n",
       "│ 25%        ┆ 1523.0    ┆ null  ┆ 36.0       ┆ … ┆ 10.6      ┆ 117.5     ┆ 983.0      ┆ 15.0      │\n",
       "│ 50%        ┆ 1523.0    ┆ null  ┆ 36.0       ┆ … ┆ 11.5      ┆ 129.3     ┆ 995.0      ┆ 25.0      │\n",
       "│ 75%        ┆ 1523.0    ┆ null  ┆ 36.0       ┆ … ┆ 12.8      ┆ 134.7     ┆ 1002.0     ┆ 35.0      │\n",
       "│ max        ┆ 1523.0    ┆ Mamie ┆ 36.0       ┆ … ┆ 14.3      ┆ 137.8     ┆ 1007.0     ┆ 40.0      │\n",
       "└────────────┴───────────┴───────┴────────────┴───┴───────────┴───────────┴────────────┴───────────┘"
      ]
     },
     "execution_count": 81,
     "metadata": {},
     "output_type": "execute_result"
    }
   ],
   "source": [
    "# find the top 100 count of sample_id\n",
    "df_sample_top_100 = df_grp.head(100)"
   ]
  },
  {
   "cell_type": "code",
   "execution_count": 82,
   "id": "55cebb6e",
   "metadata": {},
   "outputs": [],
   "source": [
    "import pmdarima as pm\n",
    "from pmdarima.arima import StepwiseContext\n",
    "\n",
    "def create_model(series:pl.Series, \n",
    "                    max_steps:int=256, \n",
    "                    max_dur:int=120,\n",
    "                    test_percentage:float=0.2,\n",
    "                 ) -> Tuple[pm.arima.ARIMA, pl.Series, pl.Series]:\n",
    "    total = len(series)\n",
    "    div = int(total * (1-test_percentage))\n",
    "    train, test = series[:div], series[div:]\n",
    "    with StepwiseContext(max_steps=max_steps):\n",
    "        with StepwiseContext(max_dur=max_dur):\n",
    "            model = pm.auto_arima(train, seasonal=False, stepwise=True, error_action=\"ignore\")\n",
    "    return model, train, test"
   ]
  },
  {
   "cell_type": "code",
   "execution_count": 131,
   "id": "2eda338c",
   "metadata": {},
   "outputs": [
    {
     "data": {
      "text/plain": [
       "427"
      ]
     },
     "metadata": {},
     "output_type": "display_data"
    },
    {
     "data": {
      "text/html": [
       "<div><style>\n",
       ".dataframe > thead > tr,\n",
       ".dataframe > tbody > tr {\n",
       "  text-align: right;\n",
       "  white-space: pre-wrap;\n",
       "}\n",
       "</style>\n",
       "<small>shape: (9, 10)</small><table border=\"1\" class=\"dataframe\"><thead><tr><th>statistic</th><th>sample_id</th><th>name</th><th>china_hurricane_code</th><th>date</th><th>category</th><th>latitude</th><th>longitude</th><th>lowest_pressure</th><th>wind_speed</th></tr><tr><td>str</td><td>f64</td><td>str</td><td>f64</td><td>str</td><td>f64</td><td>f64</td><td>f64</td><td>f64</td><td>f64</td></tr></thead><tbody><tr><td>&quot;count&quot;</td><td>63.0</td><td>&quot;63&quot;</td><td>63.0</td><td>&quot;63&quot;</td><td>63.0</td><td>63.0</td><td>63.0</td><td>63.0</td><td>63.0</td></tr><tr><td>&quot;null_count&quot;</td><td>0.0</td><td>&quot;0&quot;</td><td>0.0</td><td>&quot;0&quot;</td><td>0.0</td><td>0.0</td><td>0.0</td><td>0.0</td><td>0.0</td></tr><tr><td>&quot;mean&quot;</td><td>427.0</td><td>null</td><td>11.0</td><td>&quot;2021-08-07 01:…</td><td>3.920635</td><td>29.17619</td><td>128.35873</td><td>988.952381</td><td>18.206349</td></tr><tr><td>&quot;std&quot;</td><td>0.0</td><td>null</td><td>0.0</td><td>null</td><td>3.38546</td><td>8.75783</td><td>17.490768</td><td>3.734877</td><td>2.891359</td></tr><tr><td>&quot;min&quot;</td><td>427.0</td><td>&quot;Lupit&quot;</td><td>11.0</td><td>&quot;2021-08-02 12:…</td><td>1.0</td><td>20.9</td><td>111.8</td><td>982.0</td><td>13.0</td></tr><tr><td>&quot;25%&quot;</td><td>427.0</td><td>null</td><td>11.0</td><td>&quot;2021-08-04 12:…</td><td>2.0</td><td>21.7</td><td>116.4</td><td>986.0</td><td>15.0</td></tr><tr><td>&quot;50%&quot;</td><td>427.0</td><td>null</td><td>11.0</td><td>&quot;2021-08-06 09:…</td><td>2.0</td><td>24.8</td><td>119.1</td><td>988.0</td><td>18.0</td></tr><tr><td>&quot;75%&quot;</td><td>427.0</td><td>null</td><td>11.0</td><td>&quot;2021-08-09 18:…</td><td>9.0</td><td>38.8</td><td>137.8</td><td>992.0</td><td>20.0</td></tr><tr><td>&quot;max&quot;</td><td>427.0</td><td>&quot;Lupit&quot;</td><td>11.0</td><td>&quot;2021-08-13 18:…</td><td>9.0</td><td>45.0</td><td>170.1</td><td>996.0</td><td>23.0</td></tr></tbody></table></div>"
      ],
      "text/plain": [
       "shape: (9, 10)\n",
       "┌────────────┬───────────┬───────┬────────────┬───┬──────────┬───────────┬────────────┬────────────┐\n",
       "│ statistic  ┆ sample_id ┆ name  ┆ china_hurr ┆ … ┆ latitude ┆ longitude ┆ lowest_pre ┆ wind_speed │\n",
       "│ ---        ┆ ---       ┆ ---   ┆ icane_code ┆   ┆ ---      ┆ ---       ┆ ssure      ┆ ---        │\n",
       "│ str        ┆ f64       ┆ str   ┆ ---        ┆   ┆ f64      ┆ f64       ┆ ---        ┆ f64        │\n",
       "│            ┆           ┆       ┆ f64        ┆   ┆          ┆           ┆ f64        ┆            │\n",
       "╞════════════╪═══════════╪═══════╪════════════╪═══╪══════════╪═══════════╪════════════╪════════════╡\n",
       "│ count      ┆ 63.0      ┆ 63    ┆ 63.0       ┆ … ┆ 63.0     ┆ 63.0      ┆ 63.0       ┆ 63.0       │\n",
       "│ null_count ┆ 0.0       ┆ 0     ┆ 0.0        ┆ … ┆ 0.0      ┆ 0.0       ┆ 0.0        ┆ 0.0        │\n",
       "│ mean       ┆ 427.0     ┆ null  ┆ 11.0       ┆ … ┆ 29.17619 ┆ 128.35873 ┆ 988.952381 ┆ 18.206349  │\n",
       "│ std        ┆ 0.0       ┆ null  ┆ 0.0        ┆ … ┆ 8.75783  ┆ 17.490768 ┆ 3.734877   ┆ 2.891359   │\n",
       "│ min        ┆ 427.0     ┆ Lupit ┆ 11.0       ┆ … ┆ 20.9     ┆ 111.8     ┆ 982.0      ┆ 13.0       │\n",
       "│ 25%        ┆ 427.0     ┆ null  ┆ 11.0       ┆ … ┆ 21.7     ┆ 116.4     ┆ 986.0      ┆ 15.0       │\n",
       "│ 50%        ┆ 427.0     ┆ null  ┆ 11.0       ┆ … ┆ 24.8     ┆ 119.1     ┆ 988.0      ┆ 18.0       │\n",
       "│ 75%        ┆ 427.0     ┆ null  ┆ 11.0       ┆ … ┆ 38.8     ┆ 137.8     ┆ 992.0      ┆ 20.0       │\n",
       "│ max        ┆ 427.0     ┆ Lupit ┆ 11.0       ┆ … ┆ 45.0     ┆ 170.1     ┆ 996.0      ┆ 23.0       │\n",
       "└────────────┴───────────┴───────┴────────────┴───┴──────────┴───────────┴────────────┴────────────┘"
      ]
     },
     "metadata": {},
     "output_type": "display_data"
    }
   ],
   "source": [
    "from typing import cast\n",
    "\n",
    "# random pick one sample id\n",
    "sample_id = df_sample_top_100.select(\"sample_id\").sample(1)[0,0]\n",
    "df_sample = df_filtered.filter(pl.col(\"sample_id\") == sample_id)\n",
    "display(sample_id)\n",
    "display(df_sample.describe())\n",
    "lat = cast(pl.Series, df_sample.select(\"latitude\"))\n",
    "model, train, test = create_model(lat)"
   ]
  },
  {
   "cell_type": "code",
   "execution_count": 132,
   "id": "1d997990",
   "metadata": {},
   "outputs": [
    {
     "data": {
      "text/html": [
       "<table class=\"simpletable\">\n",
       "<caption>SARIMAX Results</caption>\n",
       "<tr>\n",
       "  <th>Dep. Variable:</th>           <td>y</td>        <th>  No. Observations:  </th>   <td>50</td>   \n",
       "</tr>\n",
       "<tr>\n",
       "  <th>Model:</th>           <td>SARIMAX(2, 2, 2)</td> <th>  Log Likelihood     </th> <td>-17.365</td>\n",
       "</tr>\n",
       "<tr>\n",
       "  <th>Date:</th>            <td>Thu, 25 Apr 2024</td> <th>  AIC                </th> <td>44.730</td> \n",
       "</tr>\n",
       "<tr>\n",
       "  <th>Time:</th>                <td>01:05:43</td>     <th>  BIC                </th> <td>54.086</td> \n",
       "</tr>\n",
       "<tr>\n",
       "  <th>Sample:</th>                  <td>0</td>        <th>  HQIC               </th> <td>48.266</td> \n",
       "</tr>\n",
       "<tr>\n",
       "  <th></th>                       <td> - 50</td>      <th>                     </th>    <td> </td>   \n",
       "</tr>\n",
       "<tr>\n",
       "  <th>Covariance Type:</th>        <td>opg</td>       <th>                     </th>    <td> </td>   \n",
       "</tr>\n",
       "</table>\n",
       "<table class=\"simpletable\">\n",
       "<tr>\n",
       "     <td></td>       <th>coef</th>     <th>std err</th>      <th>z</th>      <th>P>|z|</th>  <th>[0.025</th>    <th>0.975]</th>  \n",
       "</tr>\n",
       "<tr>\n",
       "  <th>ar.L1</th>  <td>    0.9777</td> <td>    0.227</td> <td>    4.312</td> <td> 0.000</td> <td>    0.533</td> <td>    1.422</td>\n",
       "</tr>\n",
       "<tr>\n",
       "  <th>ar.L2</th>  <td>   -0.7050</td> <td>    0.183</td> <td>   -3.857</td> <td> 0.000</td> <td>   -1.063</td> <td>   -0.347</td>\n",
       "</tr>\n",
       "<tr>\n",
       "  <th>ma.L1</th>  <td>   -1.3399</td> <td>    0.154</td> <td>   -8.706</td> <td> 0.000</td> <td>   -1.642</td> <td>   -1.038</td>\n",
       "</tr>\n",
       "<tr>\n",
       "  <th>ma.L2</th>  <td>    0.8827</td> <td>    0.215</td> <td>    4.113</td> <td> 0.000</td> <td>    0.462</td> <td>    1.303</td>\n",
       "</tr>\n",
       "<tr>\n",
       "  <th>sigma2</th> <td>    0.1173</td> <td>    0.013</td> <td>    9.221</td> <td> 0.000</td> <td>    0.092</td> <td>    0.142</td>\n",
       "</tr>\n",
       "</table>\n",
       "<table class=\"simpletable\">\n",
       "<tr>\n",
       "  <th>Ljung-Box (L1) (Q):</th>     <td>0.05</td>  <th>  Jarque-Bera (JB):  </th> <td>444.65</td>\n",
       "</tr>\n",
       "<tr>\n",
       "  <th>Prob(Q):</th>                <td>0.82</td>  <th>  Prob(JB):          </th>  <td>0.00</td> \n",
       "</tr>\n",
       "<tr>\n",
       "  <th>Heteroskedasticity (H):</th> <td>29.91</td> <th>  Skew:              </th>  <td>2.83</td> \n",
       "</tr>\n",
       "<tr>\n",
       "  <th>Prob(H) (two-sided):</th>    <td>0.00</td>  <th>  Kurtosis:          </th>  <td>16.80</td>\n",
       "</tr>\n",
       "</table><br/><br/>Warnings:<br/>[1] Covariance matrix calculated using the outer product of gradients (complex-step)."
      ],
      "text/latex": [
       "\\begin{center}\n",
       "\\begin{tabular}{lclc}\n",
       "\\toprule\n",
       "\\textbf{Dep. Variable:}          &        y         & \\textbf{  No. Observations:  } &     50      \\\\\n",
       "\\textbf{Model:}                  & SARIMAX(2, 2, 2) & \\textbf{  Log Likelihood     } &  -17.365    \\\\\n",
       "\\textbf{Date:}                   & Thu, 25 Apr 2024 & \\textbf{  AIC                } &   44.730    \\\\\n",
       "\\textbf{Time:}                   &     01:05:43     & \\textbf{  BIC                } &   54.086    \\\\\n",
       "\\textbf{Sample:}                 &        0         & \\textbf{  HQIC               } &   48.266    \\\\\n",
       "\\textbf{}                        &       - 50       & \\textbf{                     } &             \\\\\n",
       "\\textbf{Covariance Type:}        &       opg        & \\textbf{                     } &             \\\\\n",
       "\\bottomrule\n",
       "\\end{tabular}\n",
       "\\begin{tabular}{lcccccc}\n",
       "                & \\textbf{coef} & \\textbf{std err} & \\textbf{z} & \\textbf{P$> |$z$|$} & \\textbf{[0.025} & \\textbf{0.975]}  \\\\\n",
       "\\midrule\n",
       "\\textbf{ar.L1}  &       0.9777  &        0.227     &     4.312  &         0.000        &        0.533    &        1.422     \\\\\n",
       "\\textbf{ar.L2}  &      -0.7050  &        0.183     &    -3.857  &         0.000        &       -1.063    &       -0.347     \\\\\n",
       "\\textbf{ma.L1}  &      -1.3399  &        0.154     &    -8.706  &         0.000        &       -1.642    &       -1.038     \\\\\n",
       "\\textbf{ma.L2}  &       0.8827  &        0.215     &     4.113  &         0.000        &        0.462    &        1.303     \\\\\n",
       "\\textbf{sigma2} &       0.1173  &        0.013     &     9.221  &         0.000        &        0.092    &        0.142     \\\\\n",
       "\\bottomrule\n",
       "\\end{tabular}\n",
       "\\begin{tabular}{lclc}\n",
       "\\textbf{Ljung-Box (L1) (Q):}     &  0.05 & \\textbf{  Jarque-Bera (JB):  } & 444.65  \\\\\n",
       "\\textbf{Prob(Q):}                &  0.82 & \\textbf{  Prob(JB):          } &  0.00   \\\\\n",
       "\\textbf{Heteroskedasticity (H):} & 29.91 & \\textbf{  Skew:              } &  2.83   \\\\\n",
       "\\textbf{Prob(H) (two-sided):}    &  0.00 & \\textbf{  Kurtosis:          } & 16.80   \\\\\n",
       "\\bottomrule\n",
       "\\end{tabular}\n",
       "%\\caption{SARIMAX Results}\n",
       "\\end{center}\n",
       "\n",
       "Warnings: \\newline\n",
       " [1] Covariance matrix calculated using the outer product of gradients (complex-step)."
      ],
      "text/plain": [
       "<class 'statsmodels.iolib.summary.Summary'>\n",
       "\"\"\"\n",
       "                               SARIMAX Results                                \n",
       "==============================================================================\n",
       "Dep. Variable:                      y   No. Observations:                   50\n",
       "Model:               SARIMAX(2, 2, 2)   Log Likelihood                 -17.365\n",
       "Date:                Thu, 25 Apr 2024   AIC                             44.730\n",
       "Time:                        01:05:43   BIC                             54.086\n",
       "Sample:                             0   HQIC                            48.266\n",
       "                                 - 50                                         \n",
       "Covariance Type:                  opg                                         \n",
       "==============================================================================\n",
       "                 coef    std err          z      P>|z|      [0.025      0.975]\n",
       "------------------------------------------------------------------------------\n",
       "ar.L1          0.9777      0.227      4.312      0.000       0.533       1.422\n",
       "ar.L2         -0.7050      0.183     -3.857      0.000      -1.063      -0.347\n",
       "ma.L1         -1.3399      0.154     -8.706      0.000      -1.642      -1.038\n",
       "ma.L2          0.8827      0.215      4.113      0.000       0.462       1.303\n",
       "sigma2         0.1173      0.013      9.221      0.000       0.092       0.142\n",
       "===================================================================================\n",
       "Ljung-Box (L1) (Q):                   0.05   Jarque-Bera (JB):               444.65\n",
       "Prob(Q):                              0.82   Prob(JB):                         0.00\n",
       "Heteroskedasticity (H):              29.91   Skew:                             2.83\n",
       "Prob(H) (two-sided):                  0.00   Kurtosis:                        16.80\n",
       "===================================================================================\n",
       "\n",
       "Warnings:\n",
       "[1] Covariance matrix calculated using the outer product of gradients (complex-step).\n",
       "\"\"\""
      ]
     },
     "execution_count": 132,
     "metadata": {},
     "output_type": "execute_result"
    }
   ],
   "source": [
    "model.summary()"
   ]
  },
  {
   "cell_type": "code",
   "execution_count": 133,
   "id": "a082fa73",
   "metadata": {},
   "outputs": [
    {
     "name": "stderr",
     "output_type": "stream",
     "text": [
      "/tmp/ipykernel_87086/4127433010.py:2: UserWarning:\n",
      "\n",
      "FigureCanvasAgg is non-interactive, and thus cannot be shown\n",
      "\n"
     ]
    },
    {
     "data": {
      "image/png": "[encoded data removed]",
      "text/plain": [
       "<Figure size 1200x800 with 4 Axes>"
      ]
     },
     "metadata": {},
     "output_type": "display_data"
    }
   ],
   "source": [
    "fig = model.plot_diagnostics(figsize=(12, 8))\n",
    "fig.show()"
   ]
  },
  {
   "cell_type": "code",
   "execution_count": 134,
   "id": "ff02269e",
   "metadata": {},
   "outputs": [],
   "source": [
    "def plot_sample_1d(model:pm.arima.ARIMA, train:pl.Series, test:pl.Series) -> go.Figure:\n",
    "    train_np = train.to_numpy().reshape(-1)\n",
    "    test_np = test.to_numpy().reshape(-1)\n",
    "    in_sample = model.predict_in_sample()\n",
    "    out_of_sample = model.predict(len(test))\n",
    "    train_xs = np.arange(len(train))\n",
    "    test_xs = np.arange(len(train), len(train)+len(test))\n",
    "\n",
    "    fig = go.Figure() \n",
    "    fig.add_trace(go.Scatter(x=train_xs, y=train_np, mode=\"markers\", name=\"Train\"))\n",
    "    fig.add_trace(go.Scatter(x=train_xs[1:], y=in_sample[1:], mode=\"markers\", name=\"In-sample Prediction\"))\n",
    "    fig.add_trace(go.Scatter(x=test_xs,  y=test_np, mode=\"markers\", name=\"Test\"))\n",
    "    fig.add_trace(go.Scatter(x=test_xs,  y=out_of_sample, mode=\"markers\", name=\"Out-of-sample Prediction\"))\n",
    "\n",
    "    return fig"
   ]
  },
  {
   "cell_type": "code",
   "execution_count": 135,
   "id": "73ae98ea",
   "metadata": {},
   "outputs": [],
   "source": [
    "def plot_sample_2d(model_x: pm.arima.ARIMA, model_y: pm.arima.ARIMA,\n",
    "                   train_x: pl.Series, train_y: pl.Series,\n",
    "                   test_x: pl.Series, test_y: pl.Series) -> go.Figure:\n",
    "    train_x_np = train_x.to_numpy().reshape(-1)\n",
    "    train_y_np = train_y.to_numpy().reshape(-1)\n",
    "    test_x_np = test_x.to_numpy().reshape(-1)\n",
    "    test_y_np = test_y.to_numpy().reshape(-1)\n",
    "\n",
    "    in_sample_x = model_x.predict_in_sample()\n",
    "    in_sample_y = model_y.predict_in_sample()\n",
    "    out_of_sample_x = model_x.predict(len(test_x))\n",
    "    out_of_sample_y = model_y.predict(len(test_y))\n",
    "\n",
    "    fig = go.Figure()\n",
    "    fig.add_trace(go.Scatter(x=train_x_np, y=train_y_np, mode=\"markers\", name=\"Train\"))\n",
    "    fig.add_trace(go.Scatter(x=in_sample_x[1:], y=in_sample_y[1:], mode=\"markers\", name=\"In-sample Prediction\"))\n",
    "    fig.add_trace(go.Scatter(x=test_x_np, y=test_y_np, mode=\"markers\", name=\"Test\"))\n",
    "    fig.add_trace(go.Scatter(x=out_of_sample_x, y=out_of_sample_y, mode=\"markers\", name=\"Out-of-sample Prediction\"))\n",
    "\n",
    "    fig.update_layout(\n",
    "        title=\"2D Scatter Plot\",\n",
    "        xaxis_title=\"X\",\n",
    "        yaxis_title=\"Y\",\n",
    "        legend_title=\"Data Points\",\n",
    "        yaxis=dict(scaleanchor=\"x\", scaleratio=1),\n",
    "    )\n",
    "\n",
    "    # Adjust the axis ranges to ignore outliers\n",
    "    # x_range = [np.percentile(train_x_np, 1), np.percentile(train_x_np, 99)]\n",
    "    # y_range = [np.percentile(train_y_np, 1), np.percentile(train_y_np, 99)]\n",
    "    # fig.update_xaxes(range=x_range)\n",
    "    # fig.update_yaxes(range=y_range)\n",
    "\n",
    "\n",
    "    return fig"
   ]
  },
  {
   "cell_type": "code",
   "execution_count": 136,
   "id": "98e83e7b",
   "metadata": {},
   "outputs": [],
   "source": [
    "lat = cast(pl.Series, df_sample.select(\"latitude\"))\n",
    "lon = cast(pl.Series, df_sample.select(\"longitude\"))\n",
    "model_x, train_x, test_x = create_model(lon)\n",
    "model_y, train_y, test_y = create_model(lat)\n",
    "fig = plot_sample_2d(model_x, model_y, train_x, train_y, test_x, test_y)"
   ]
  },
  {
   "cell_type": "code",
   "execution_count": 137,
   "id": "4540b9dc",
   "metadata": {},
   "outputs": [
    {
     "data": {
      "application/vnd.plotly.v1+json": {
       "config": {
        "plotlyServerURL": "https://plot.ly"
       },
       "data": [
        {
         "mode": "markers",
         "name": "Train",
         "type": "scatter",
         "x": [
          111.8,
          112.3,
          112.7,
          113.1,
          113.4,
          113.6,
          113.7,
          113.9,
          114.1,
          114.4,
          114.7,
          115.1,
          115.4,
          115.6,
          115.8,
          116.1,
          116.4,
          116.7,
          116.9,
          116.9,
          116.9,
          116.9,
          117.1,
          117.4,
          117.6,
          117.6,
          117.7,
          117.9,
          118.2,
          118.6,
          118.9,
          119.1,
          119.3,
          119.5,
          119.9,
          120.3,
          120.7,
          122.7,
          124.1,
          125.4,
          126.5,
          127.6,
          130.8,
          132.3,
          133.5,
          134.8,
          135.9,
          137.8,
          141,
          143.3
         ],
         "y": [
          20.9,
          21,
          21.1,
          21.2,
          21.3,
          21.4,
          21.5,
          21.4,
          21.2,
          21.1,
          21,
          21,
          21.1,
          21.3,
          21.4,
          21.5,
          21.7,
          22.1,
          22.5,
          22.8,
          23.1,
          23.3,
          23.5,
          23.6,
          24,
          24.1,
          24.2,
          24.3,
          24.4,
          24.6,
          24.8,
          24.9,
          25,
          25.1,
          25.1,
          25,
          24.8,
          25.2,
          27.2,
          28.2,
          29.1,
          30.1,
          31.5,
          33.9,
          35.3,
          36.6,
          37.5,
          38.8,
          39.5,
          40.3
         ]
        },
        {
         "mode": "markers",
         "name": "In-sample Prediction",
         "type": "scatter",
         "x": [
          167.70000131161083,
          112.8000146021939,
          113.14244962547957,
          113.52197591252649,
          113.76634953881089,
          113.89179822285078,
          113.90630426436017,
          114.1034988175584,
          114.30194261609735,
          114.64554959672368,
          114.96976298663489,
          115.42767682896671,
          115.71536954381271,
          115.8640672851297,
          116.03557800733768,
          116.36422501167146,
          116.68013333987227,
          116.9889675942001,
          117.14940571787541,
          117.0385006382206,
          116.97691253761681,
          116.9427112722193,
          117.21265401093979,
          117.59596253373134,
          117.79775790363676,
          117.70981943799373,
          117.80545295607435,
          118.0474958874617,
          118.41531101603175,
          118.89743802877136,
          119.19857727941432,
          119.3547421934858,
          119.53039957853821,
          119.71688157372685,
          120.198310194992,
          120.64352935063376,
          121.06864057080655,
          123.79406920085034,
          125.33010970580825,
          126.66118833842692,
          127.68951153107741,
          128.74970777832948,
          132.86142634319,
          134.11177275016658,
          135.03973124900523,
          136.23312818628807,
          137.18499361858744,
          139.3584730424057,
          143.28842294229767
         ],
         "y": [
          31.350000469390217,
          21.10000060143629,
          21.20000072805429,
          21.30000047048455,
          21.40000006615521,
          21.499999719736373,
          21.599999592195097,
          21.361074124811747,
          21.09145384547846,
          21.024073866992776,
          20.867997848153784,
          20.904816776987587,
          21.081090615818837,
          21.404463139387023,
          21.525224282619877,
          21.700023353108133,
          21.976127123912285,
          22.46047998288112,
          22.814020754753827,
          23.055178321226677,
          23.398602519254442,
          23.572747475984443,
          23.781286563782423,
          23.780421614599295,
          24.312061012030984,
          24.170855257806416,
          24.286508659868794,
          24.407550200215756,
          24.5219378613506,
          24.78672727821405,
          24.980407933905024,
          25.021463075300886,
          25.12848270183095,
          25.219227902849294,
          25.136714558514072,
          24.95070149099506,
          24.654065231058844,
          25.393285327603557,
          28.4034222343868,
          28.95954471033051,
          30.23977951546188,
          31.579334008476053,
          33.203531178217204,
          35.992861590972254,
          36.55975605020502,
          37.84209716615156,
          38.57319453928939,
          40.16740451819777,
          40.42560276853793
         ]
        },
        {
         "mode": "markers",
         "name": "Test",
         "type": "scatter",
         "x": [
          145.7,
          148.2,
          151,
          153,
          155.7,
          158,
          159.4,
          161.7,
          163.7,
          164.9,
          165.7,
          167.6,
          170.1
         ],
         "y": [
          40.7,
          41.2,
          41.8,
          42.3,
          42.9,
          43,
          43.2,
          43.7,
          44.4,
          44.8,
          45,
          44.7,
          44.9
         ]
        },
        {
         "mode": "markers",
         "name": "Out-of-sample Prediction",
         "type": "scatter",
         "x": [
          145.5935709979368,
          147.8871419958736,
          150.1807129938104,
          152.4742839917472,
          154.767854989684,
          157.0614259876208,
          159.3549969855576,
          161.6485679834944,
          163.94213898143119,
          166.23570997936798,
          168.52928097730478,
          170.82285197524158,
          173.11642297317837
         ],
         "y": [
          41.20012294876448,
          42.016794015329495,
          42.6812916775597,
          43.25584869051689,
          43.84975561762571,
          44.52598766516474,
          45.26906401846861,
          46.01945265887372,
          46.729865463646256,
          47.39604044180376,
          48.04714860841385,
          48.71471392823754,
          49.40899071822289
         ]
        }
       ],
       "layout": {
        "height": 600,
        "legend": {
         "title": {
          "text": "Data Points"
         }
        },
        "template": {
         "data": {
          "bar": [
           {
            "error_x": {
             "color": "#2a3f5f"
            },
            "error_y": {
             "color": "#2a3f5f"
            },
            "marker": {
             "line": {
              "color": "#E5ECF6",
              "width": 0.5
             },
             "pattern": {
              "fillmode": "overlay",
              "size": 10,
              "solidity": 0.2
             }
            },
            "type": "bar"
           }
          ],
          "barpolar": [
           {
            "marker": {
             "line": {
              "color": "#E5ECF6",
              "width": 0.5
             },
             "pattern": {
              "fillmode": "overlay",
              "size": 10,
              "solidity": 0.2
             }
            },
            "type": "barpolar"
           }
          ],
          "carpet": [
           {
            "aaxis": {
             "endlinecolor": "#2a3f5f",
             "gridcolor": "white",
             "linecolor": "white",
             "minorgridcolor": "white",
             "startlinecolor": "#2a3f5f"
            },
            "baxis": {
             "endlinecolor": "#2a3f5f",
             "gridcolor": "white",
             "linecolor": "white",
             "minorgridcolor": "white",
             "startlinecolor": "#2a3f5f"
            },
            "type": "carpet"
           }
          ],
          "choropleth": [
           {
            "colorbar": {
             "outlinewidth": 0,
             "ticks": ""
            },
            "type": "choropleth"
           }
          ],
          "contour": [
           {
            "colorbar": {
             "outlinewidth": 0,
             "ticks": ""
            },
            "colorscale": [
             [
              0,
              "#0d0887"
             ],
             [
              0.1111111111111111,
              "#46039f"
             ],
             [
              0.2222222222222222,
              "#7201a8"
             ],
             [
              0.3333333333333333,
              "#9c179e"
             ],
             [
              0.4444444444444444,
              "#bd3786"
             ],
             [
              0.5555555555555556,
              "#d8576b"
             ],
             [
              0.6666666666666666,
              "#ed7953"
             ],
             [
              0.7777777777777778,
              "#fb9f3a"
             ],
             [
              0.8888888888888888,
              "#fdca26"
             ],
             [
              1,
              "#f0f921"
             ]
            ],
            "type": "contour"
           }
          ],
          "contourcarpet": [
           {
            "colorbar": {
             "outlinewidth": 0,
             "ticks": ""
            },
            "type": "contourcarpet"
           }
          ],
          "heatmap": [
           {
            "colorbar": {
             "outlinewidth": 0,
             "ticks": ""
            },
            "colorscale": [
             [
              0,
              "#0d0887"
             ],
             [
              0.1111111111111111,
              "#46039f"
             ],
             [
              0.2222222222222222,
              "#7201a8"
             ],
             [
              0.3333333333333333,
              "#9c179e"
             ],
             [
              0.4444444444444444,
              "#bd3786"
             ],
             [
              0.5555555555555556,
              "#d8576b"
             ],
             [
              0.6666666666666666,
              "#ed7953"
             ],
             [
              0.7777777777777778,
              "#fb9f3a"
             ],
             [
              0.8888888888888888,
              "#fdca26"
             ],
             [
              1,
              "#f0f921"
             ]
            ],
            "type": "heatmap"
           }
          ],
          "heatmapgl": [
           {
            "colorbar": {
             "outlinewidth": 0,
             "ticks": ""
            },
            "colorscale": [
             [
              0,
              "#0d0887"
             ],
             [
              0.1111111111111111,
              "#46039f"
             ],
             [
              0.2222222222222222,
              "#7201a8"
             ],
             [
              0.3333333333333333,
              "#9c179e"
             ],
             [
              0.4444444444444444,
              "#bd3786"
             ],
             [
              0.5555555555555556,
              "#d8576b"
             ],
             [
              0.6666666666666666,
              "#ed7953"
             ],
             [
              0.7777777777777778,
              "#fb9f3a"
             ],
             [
              0.8888888888888888,
              "#fdca26"
             ],
             [
              1,
              "#f0f921"
             ]
            ],
            "type": "heatmapgl"
           }
          ],
          "histogram": [
           {
            "marker": {
             "pattern": {
              "fillmode": "overlay",
              "size": 10,
              "solidity": 0.2
             }
            },
            "type": "histogram"
           }
          ],
          "histogram2d": [
           {
            "colorbar": {
             "outlinewidth": 0,
             "ticks": ""
            },
            "colorscale": [
             [
              0,
              "#0d0887"
             ],
             [
              0.1111111111111111,
              "#46039f"
             ],
             [
              0.2222222222222222,
              "#7201a8"
             ],
             [
              0.3333333333333333,
              "#9c179e"
             ],
             [
              0.4444444444444444,
              "#bd3786"
             ],
             [
              0.5555555555555556,
              "#d8576b"
             ],
             [
              0.6666666666666666,
              "#ed7953"
             ],
             [
              0.7777777777777778,
              "#fb9f3a"
             ],
             [
              0.8888888888888888,
              "#fdca26"
             ],
             [
              1,
              "#f0f921"
             ]
            ],
            "type": "histogram2d"
           }
          ],
          "histogram2dcontour": [
           {
            "colorbar": {
             "outlinewidth": 0,
             "ticks": ""
            },
            "colorscale": [
             [
              0,
              "#0d0887"
             ],
             [
              0.1111111111111111,
              "#46039f"
             ],
             [
              0.2222222222222222,
              "#7201a8"
             ],
             [
              0.3333333333333333,
              "#9c179e"
             ],
             [
              0.4444444444444444,
              "#bd3786"
             ],
             [
              0.5555555555555556,
              "#d8576b"
             ],
             [
              0.6666666666666666,
              "#ed7953"
             ],
             [
              0.7777777777777778,
              "#fb9f3a"
             ],
             [
              0.8888888888888888,
              "#fdca26"
             ],
             [
              1,
              "#f0f921"
             ]
            ],
            "type": "histogram2dcontour"
           }
          ],
          "mesh3d": [
           {
            "colorbar": {
             "outlinewidth": 0,
             "ticks": ""
            },
            "type": "mesh3d"
           }
          ],
          "parcoords": [
           {
            "line": {
             "colorbar": {
              "outlinewidth": 0,
              "ticks": ""
             }
            },
            "type": "parcoords"
           }
          ],
          "pie": [
           {
            "automargin": true,
            "type": "pie"
           }
          ],
          "scatter": [
           {
            "fillpattern": {
             "fillmode": "overlay",
             "size": 10,
             "solidity": 0.2
            },
            "type": "scatter"
           }
          ],
          "scatter3d": [
           {
            "line": {
             "colorbar": {
              "outlinewidth": 0,
              "ticks": ""
             }
            },
            "marker": {
             "colorbar": {
              "outlinewidth": 0,
              "ticks": ""
             }
            },
            "type": "scatter3d"
           }
          ],
          "scattercarpet": [
           {
            "marker": {
             "colorbar": {
              "outlinewidth": 0,
              "ticks": ""
             }
            },
            "type": "scattercarpet"
           }
          ],
          "scattergeo": [
           {
            "marker": {
             "colorbar": {
              "outlinewidth": 0,
              "ticks": ""
             }
            },
            "type": "scattergeo"
           }
          ],
          "scattergl": [
           {
            "marker": {
             "colorbar": {
              "outlinewidth": 0,
              "ticks": ""
             }
            },
            "type": "scattergl"
           }
          ],
          "scattermapbox": [
           {
            "marker": {
             "colorbar": {
              "outlinewidth": 0,
              "ticks": ""
             }
            },
            "type": "scattermapbox"
           }
          ],
          "scatterpolar": [
           {
            "marker": {
             "colorbar": {
              "outlinewidth": 0,
              "ticks": ""
             }
            },
            "type": "scatterpolar"
           }
          ],
          "scatterpolargl": [
           {
            "marker": {
             "colorbar": {
              "outlinewidth": 0,
              "ticks": ""
             }
            },
            "type": "scatterpolargl"
           }
          ],
          "scatterternary": [
           {
            "marker": {
             "colorbar": {
              "outlinewidth": 0,
              "ticks": ""
             }
            },
            "type": "scatterternary"
           }
          ],
          "surface": [
           {
            "colorbar": {
             "outlinewidth": 0,
             "ticks": ""
            },
            "colorscale": [
             [
              0,
              "#0d0887"
             ],
             [
              0.1111111111111111,
              "#46039f"
             ],
             [
              0.2222222222222222,
              "#7201a8"
             ],
             [
              0.3333333333333333,
              "#9c179e"
             ],
             [
              0.4444444444444444,
              "#bd3786"
             ],
             [
              0.5555555555555556,
              "#d8576b"
             ],
             [
              0.6666666666666666,
              "#ed7953"
             ],
             [
              0.7777777777777778,
              "#fb9f3a"
             ],
             [
              0.8888888888888888,
              "#fdca26"
             ],
             [
              1,
              "#f0f921"
             ]
            ],
            "type": "surface"
           }
          ],
          "table": [
           {
            "cells": {
             "fill": {
              "color": "#EBF0F8"
             },
             "line": {
              "color": "white"
             }
            },
            "header": {
             "fill": {
              "color": "#C8D4E3"
             },
             "line": {
              "color": "white"
             }
            },
            "type": "table"
           }
          ]
         },
         "layout": {
          "annotationdefaults": {
           "arrowcolor": "#2a3f5f",
           "arrowhead": 0,
           "arrowwidth": 1
          },
          "autotypenumbers": "strict",
          "coloraxis": {
           "colorbar": {
            "outlinewidth": 0,
            "ticks": ""
           }
          },
          "colorscale": {
           "diverging": [
            [
             0,
             "#8e0152"
            ],
            [
             0.1,
             "#c51b7d"
            ],
            [
             0.2,
             "#de77ae"
            ],
            [
             0.3,
             "#f1b6da"
            ],
            [
             0.4,
             "#fde0ef"
            ],
            [
             0.5,
             "#f7f7f7"
            ],
            [
             0.6,
             "#e6f5d0"
            ],
            [
             0.7,
             "#b8e186"
            ],
            [
             0.8,
             "#7fbc41"
            ],
            [
             0.9,
             "#4d9221"
            ],
            [
             1,
             "#276419"
            ]
           ],
           "sequential": [
            [
             0,
             "#0d0887"
            ],
            [
             0.1111111111111111,
             "#46039f"
            ],
            [
             0.2222222222222222,
             "#7201a8"
            ],
            [
             0.3333333333333333,
             "#9c179e"
            ],
            [
             0.4444444444444444,
             "#bd3786"
            ],
            [
             0.5555555555555556,
             "#d8576b"
            ],
            [
             0.6666666666666666,
             "#ed7953"
            ],
            [
             0.7777777777777778,
             "#fb9f3a"
            ],
            [
             0.8888888888888888,
             "#fdca26"
            ],
            [
             1,
             "#f0f921"
            ]
           ],
           "sequentialminus": [
            [
             0,
             "#0d0887"
            ],
            [
             0.1111111111111111,
             "#46039f"
            ],
            [
             0.2222222222222222,
             "#7201a8"
            ],
            [
             0.3333333333333333,
             "#9c179e"
            ],
            [
             0.4444444444444444,
             "#bd3786"
            ],
            [
             0.5555555555555556,
             "#d8576b"
            ],
            [
             0.6666666666666666,
             "#ed7953"
            ],
            [
             0.7777777777777778,
             "#fb9f3a"
            ],
            [
             0.8888888888888888,
             "#fdca26"
            ],
            [
             1,
             "#f0f921"
            ]
           ]
          },
          "colorway": [
           "#636efa",
           "#EF553B",
           "#00cc96",
           "#ab63fa",
           "#FFA15A",
           "#19d3f3",
           "#FF6692",
           "#B6E880",
           "#FF97FF",
           "#FECB52"
          ],
          "font": {
           "color": "#2a3f5f"
          },
          "geo": {
           "bgcolor": "white",
           "lakecolor": "white",
           "landcolor": "#E5ECF6",
           "showlakes": true,
           "showland": true,
           "subunitcolor": "white"
          },
          "hoverlabel": {
           "align": "left"
          },
          "hovermode": "closest",
          "mapbox": {
           "style": "light"
          },
          "paper_bgcolor": "white",
          "plot_bgcolor": "#E5ECF6",
          "polar": {
           "angularaxis": {
            "gridcolor": "white",
            "linecolor": "white",
            "ticks": ""
           },
           "bgcolor": "#E5ECF6",
           "radialaxis": {
            "gridcolor": "white",
            "linecolor": "white",
            "ticks": ""
           }
          },
          "scene": {
           "xaxis": {
            "backgroundcolor": "#E5ECF6",
            "gridcolor": "white",
            "gridwidth": 2,
            "linecolor": "white",
            "showbackground": true,
            "ticks": "",
            "zerolinecolor": "white"
           },
           "yaxis": {
            "backgroundcolor": "#E5ECF6",
            "gridcolor": "white",
            "gridwidth": 2,
            "linecolor": "white",
            "showbackground": true,
            "ticks": "",
            "zerolinecolor": "white"
           },
           "zaxis": {
            "backgroundcolor": "#E5ECF6",
            "gridcolor": "white",
            "gridwidth": 2,
            "linecolor": "white",
            "showbackground": true,
            "ticks": "",
            "zerolinecolor": "white"
           }
          },
          "shapedefaults": {
           "line": {
            "color": "#2a3f5f"
           }
          },
          "ternary": {
           "aaxis": {
            "gridcolor": "white",
            "linecolor": "white",
            "ticks": ""
           },
           "baxis": {
            "gridcolor": "white",
            "linecolor": "white",
            "ticks": ""
           },
           "bgcolor": "#E5ECF6",
           "caxis": {
            "gridcolor": "white",
            "linecolor": "white",
            "ticks": ""
           }
          },
          "title": {
           "x": 0.05
          },
          "xaxis": {
           "automargin": true,
           "gridcolor": "white",
           "linecolor": "white",
           "ticks": "",
           "title": {
            "standoff": 15
           },
           "zerolinecolor": "white",
           "zerolinewidth": 2
          },
          "yaxis": {
           "automargin": true,
           "gridcolor": "white",
           "linecolor": "white",
           "ticks": "",
           "title": {
            "standoff": 15
           },
           "zerolinecolor": "white",
           "zerolinewidth": 2
          }
         }
        },
        "title": {
         "text": "latitude & longitude"
        },
        "width": 1000,
        "xaxis": {
         "title": {
          "text": "latitude"
         }
        },
        "yaxis": {
         "scaleanchor": "x",
         "scaleratio": 1,
         "title": {
          "text": "longitude"
         }
        }
       }
      },
      "text/html": [
       "<div>                            <div id=\"55291056-64ed-44d4-b460-5efa60158713\" class=\"plotly-graph-div\" style=\"height:600px; width:1000px;\"></div>            <script type=\"text/javascript\">                require([\"plotly\"], function(Plotly) {                    window.PLOTLYENV=window.PLOTLYENV || {};                                    if (document.getElementById(\"55291056-64ed-44d4-b460-5efa60158713\")) {                    Plotly.newPlot(                        \"55291056-64ed-44d4-b460-5efa60158713\",                        [{\"mode\":\"markers\",\"name\":\"Train\",\"x\":[111.8,112.3,112.7,113.1,113.4,113.6,113.7,113.9,114.1,114.4,114.7,115.1,115.4,115.6,115.8,116.1,116.4,116.7,116.9,116.9,116.9,116.9,117.1,117.4,117.6,117.6,117.7,117.9,118.2,118.6,118.9,119.1,119.3,119.5,119.9,120.3,120.7,122.7,124.1,125.4,126.5,127.6,130.8,132.3,133.5,134.8,135.9,137.8,141.0,143.3],\"y\":[20.9,21.0,21.1,21.2,21.3,21.4,21.5,21.4,21.2,21.1,21.0,21.0,21.1,21.3,21.4,21.5,21.7,22.1,22.5,22.8,23.1,23.3,23.5,23.6,24.0,24.1,24.2,24.3,24.4,24.6,24.8,24.9,25.0,25.1,25.1,25.0,24.8,25.2,27.2,28.2,29.1,30.1,31.5,33.9,35.3,36.6,37.5,38.8,39.5,40.3],\"type\":\"scatter\"},{\"mode\":\"markers\",\"name\":\"In-sample Prediction\",\"x\":[167.70000131161083,112.8000146021939,113.14244962547957,113.52197591252649,113.76634953881089,113.89179822285078,113.90630426436017,114.1034988175584,114.30194261609735,114.64554959672368,114.96976298663489,115.42767682896671,115.71536954381271,115.8640672851297,116.03557800733768,116.36422501167146,116.68013333987227,116.9889675942001,117.14940571787541,117.0385006382206,116.97691253761681,116.9427112722193,117.21265401093979,117.59596253373134,117.79775790363676,117.70981943799373,117.80545295607435,118.0474958874617,118.41531101603175,118.89743802877136,119.19857727941432,119.3547421934858,119.53039957853821,119.71688157372685,120.198310194992,120.64352935063376,121.06864057080655,123.79406920085034,125.33010970580825,126.66118833842692,127.68951153107741,128.74970777832948,132.86142634319,134.11177275016658,135.03973124900523,136.23312818628807,137.18499361858744,139.3584730424057,143.28842294229767],\"y\":[31.350000469390217,21.10000060143629,21.20000072805429,21.30000047048455,21.40000006615521,21.499999719736373,21.599999592195097,21.361074124811747,21.09145384547846,21.024073866992776,20.867997848153784,20.904816776987587,21.081090615818837,21.404463139387023,21.525224282619877,21.700023353108133,21.976127123912285,22.46047998288112,22.814020754753827,23.055178321226677,23.398602519254442,23.572747475984443,23.781286563782423,23.780421614599295,24.312061012030984,24.170855257806416,24.286508659868794,24.407550200215756,24.5219378613506,24.78672727821405,24.980407933905024,25.021463075300886,25.12848270183095,25.219227902849294,25.136714558514072,24.95070149099506,24.654065231058844,25.393285327603557,28.4034222343868,28.95954471033051,30.23977951546188,31.579334008476053,33.203531178217204,35.992861590972254,36.55975605020502,37.84209716615156,38.57319453928939,40.16740451819777,40.42560276853793],\"type\":\"scatter\"},{\"mode\":\"markers\",\"name\":\"Test\",\"x\":[145.7,148.2,151.0,153.0,155.7,158.0,159.4,161.7,163.7,164.9,165.7,167.6,170.1],\"y\":[40.7,41.2,41.8,42.3,42.9,43.0,43.2,43.7,44.4,44.8,45.0,44.7,44.9],\"type\":\"scatter\"},{\"mode\":\"markers\",\"name\":\"Out-of-sample Prediction\",\"x\":[145.5935709979368,147.8871419958736,150.1807129938104,152.4742839917472,154.767854989684,157.0614259876208,159.3549969855576,161.6485679834944,163.94213898143119,166.23570997936798,168.52928097730478,170.82285197524158,173.11642297317837],\"y\":[41.20012294876448,42.016794015329495,42.6812916775597,43.25584869051689,43.84975561762571,44.52598766516474,45.26906401846861,46.01945265887372,46.729865463646256,47.39604044180376,48.04714860841385,48.71471392823754,49.40899071822289],\"type\":\"scatter\"}],                        {\"template\":{\"data\":{\"histogram2dcontour\":[{\"type\":\"histogram2dcontour\",\"colorbar\":{\"outlinewidth\":0,\"ticks\":\"\"},\"colorscale\":[[0.0,\"#0d0887\"],[0.1111111111111111,\"#46039f\"],[0.2222222222222222,\"#7201a8\"],[0.3333333333333333,\"#9c179e\"],[0.4444444444444444,\"#bd3786\"],[0.5555555555555556,\"#d8576b\"],[0.6666666666666666,\"#ed7953\"],[0.7777777777777778,\"#fb9f3a\"],[0.8888888888888888,\"#fdca26\"],[1.0,\"#f0f921\"]]}],\"choropleth\":[{\"type\":\"choropleth\",\"colorbar\":{\"outlinewidth\":0,\"ticks\":\"\"}}],\"histogram2d\":[{\"type\":\"histogram2d\",\"colorbar\":{\"outlinewidth\":0,\"ticks\":\"\"},\"colorscale\":[[0.0,\"#0d0887\"],[0.1111111111111111,\"#46039f\"],[0.2222222222222222,\"#7201a8\"],[0.3333333333333333,\"#9c179e\"],[0.4444444444444444,\"#bd3786\"],[0.5555555555555556,\"#d8576b\"],[0.6666666666666666,\"#ed7953\"],[0.7777777777777778,\"#fb9f3a\"],[0.8888888888888888,\"#fdca26\"],[1.0,\"#f0f921\"]]}],\"heatmap\":[{\"type\":\"heatmap\",\"colorbar\":{\"outlinewidth\":0,\"ticks\":\"\"},\"colorscale\":[[0.0,\"#0d0887\"],[0.1111111111111111,\"#46039f\"],[0.2222222222222222,\"#7201a8\"],[0.3333333333333333,\"#9c179e\"],[0.4444444444444444,\"#bd3786\"],[0.5555555555555556,\"#d8576b\"],[0.6666666666666666,\"#ed7953\"],[0.7777777777777778,\"#fb9f3a\"],[0.8888888888888888,\"#fdca26\"],[1.0,\"#f0f921\"]]}],\"heatmapgl\":[{\"type\":\"heatmapgl\",\"colorbar\":{\"outlinewidth\":0,\"ticks\":\"\"},\"colorscale\":[[0.0,\"#0d0887\"],[0.1111111111111111,\"#46039f\"],[0.2222222222222222,\"#7201a8\"],[0.3333333333333333,\"#9c179e\"],[0.4444444444444444,\"#bd3786\"],[0.5555555555555556,\"#d8576b\"],[0.6666666666666666,\"#ed7953\"],[0.7777777777777778,\"#fb9f3a\"],[0.8888888888888888,\"#fdca26\"],[1.0,\"#f0f921\"]]}],\"contourcarpet\":[{\"type\":\"contourcarpet\",\"colorbar\":{\"outlinewidth\":0,\"ticks\":\"\"}}],\"contour\":[{\"type\":\"contour\",\"colorbar\":{\"outlinewidth\":0,\"ticks\":\"\"},\"colorscale\":[[0.0,\"#0d0887\"],[0.1111111111111111,\"#46039f\"],[0.2222222222222222,\"#7201a8\"],[0.3333333333333333,\"#9c179e\"],[0.4444444444444444,\"#bd3786\"],[0.5555555555555556,\"#d8576b\"],[0.6666666666666666,\"#ed7953\"],[0.7777777777777778,\"#fb9f3a\"],[0.8888888888888888,\"#fdca26\"],[1.0,\"#f0f921\"]]}],\"surface\":[{\"type\":\"surface\",\"colorbar\":{\"outlinewidth\":0,\"ticks\":\"\"},\"colorscale\":[[0.0,\"#0d0887\"],[0.1111111111111111,\"#46039f\"],[0.2222222222222222,\"#7201a8\"],[0.3333333333333333,\"#9c179e\"],[0.4444444444444444,\"#bd3786\"],[0.5555555555555556,\"#d8576b\"],[0.6666666666666666,\"#ed7953\"],[0.7777777777777778,\"#fb9f3a\"],[0.8888888888888888,\"#fdca26\"],[1.0,\"#f0f921\"]]}],\"mesh3d\":[{\"type\":\"mesh3d\",\"colorbar\":{\"outlinewidth\":0,\"ticks\":\"\"}}],\"scatter\":[{\"fillpattern\":{\"fillmode\":\"overlay\",\"size\":10,\"solidity\":0.2},\"type\":\"scatter\"}],\"parcoords\":[{\"type\":\"parcoords\",\"line\":{\"colorbar\":{\"outlinewidth\":0,\"ticks\":\"\"}}}],\"scatterpolargl\":[{\"type\":\"scatterpolargl\",\"marker\":{\"colorbar\":{\"outlinewidth\":0,\"ticks\":\"\"}}}],\"bar\":[{\"error_x\":{\"color\":\"#2a3f5f\"},\"error_y\":{\"color\":\"#2a3f5f\"},\"marker\":{\"line\":{\"color\":\"#E5ECF6\",\"width\":0.5},\"pattern\":{\"fillmode\":\"overlay\",\"size\":10,\"solidity\":0.2}},\"type\":\"bar\"}],\"scattergeo\":[{\"type\":\"scattergeo\",\"marker\":{\"colorbar\":{\"outlinewidth\":0,\"ticks\":\"\"}}}],\"scatterpolar\":[{\"type\":\"scatterpolar\",\"marker\":{\"colorbar\":{\"outlinewidth\":0,\"ticks\":\"\"}}}],\"histogram\":[{\"marker\":{\"pattern\":{\"fillmode\":\"overlay\",\"size\":10,\"solidity\":0.2}},\"type\":\"histogram\"}],\"scattergl\":[{\"type\":\"scattergl\",\"marker\":{\"colorbar\":{\"outlinewidth\":0,\"ticks\":\"\"}}}],\"scatter3d\":[{\"type\":\"scatter3d\",\"line\":{\"colorbar\":{\"outlinewidth\":0,\"ticks\":\"\"}},\"marker\":{\"colorbar\":{\"outlinewidth\":0,\"ticks\":\"\"}}}],\"scattermapbox\":[{\"type\":\"scattermapbox\",\"marker\":{\"colorbar\":{\"outlinewidth\":0,\"ticks\":\"\"}}}],\"scatterternary\":[{\"type\":\"scatterternary\",\"marker\":{\"colorbar\":{\"outlinewidth\":0,\"ticks\":\"\"}}}],\"scattercarpet\":[{\"type\":\"scattercarpet\",\"marker\":{\"colorbar\":{\"outlinewidth\":0,\"ticks\":\"\"}}}],\"carpet\":[{\"aaxis\":{\"endlinecolor\":\"#2a3f5f\",\"gridcolor\":\"white\",\"linecolor\":\"white\",\"minorgridcolor\":\"white\",\"startlinecolor\":\"#2a3f5f\"},\"baxis\":{\"endlinecolor\":\"#2a3f5f\",\"gridcolor\":\"white\",\"linecolor\":\"white\",\"minorgridcolor\":\"white\",\"startlinecolor\":\"#2a3f5f\"},\"type\":\"carpet\"}],\"table\":[{\"cells\":{\"fill\":{\"color\":\"#EBF0F8\"},\"line\":{\"color\":\"white\"}},\"header\":{\"fill\":{\"color\":\"#C8D4E3\"},\"line\":{\"color\":\"white\"}},\"type\":\"table\"}],\"barpolar\":[{\"marker\":{\"line\":{\"color\":\"#E5ECF6\",\"width\":0.5},\"pattern\":{\"fillmode\":\"overlay\",\"size\":10,\"solidity\":0.2}},\"type\":\"barpolar\"}],\"pie\":[{\"automargin\":true,\"type\":\"pie\"}]},\"layout\":{\"autotypenumbers\":\"strict\",\"colorway\":[\"#636efa\",\"#EF553B\",\"#00cc96\",\"#ab63fa\",\"#FFA15A\",\"#19d3f3\",\"#FF6692\",\"#B6E880\",\"#FF97FF\",\"#FECB52\"],\"font\":{\"color\":\"#2a3f5f\"},\"hovermode\":\"closest\",\"hoverlabel\":{\"align\":\"left\"},\"paper_bgcolor\":\"white\",\"plot_bgcolor\":\"#E5ECF6\",\"polar\":{\"bgcolor\":\"#E5ECF6\",\"angularaxis\":{\"gridcolor\":\"white\",\"linecolor\":\"white\",\"ticks\":\"\"},\"radialaxis\":{\"gridcolor\":\"white\",\"linecolor\":\"white\",\"ticks\":\"\"}},\"ternary\":{\"bgcolor\":\"#E5ECF6\",\"aaxis\":{\"gridcolor\":\"white\",\"linecolor\":\"white\",\"ticks\":\"\"},\"baxis\":{\"gridcolor\":\"white\",\"linecolor\":\"white\",\"ticks\":\"\"},\"caxis\":{\"gridcolor\":\"white\",\"linecolor\":\"white\",\"ticks\":\"\"}},\"coloraxis\":{\"colorbar\":{\"outlinewidth\":0,\"ticks\":\"\"}},\"colorscale\":{\"sequential\":[[0.0,\"#0d0887\"],[0.1111111111111111,\"#46039f\"],[0.2222222222222222,\"#7201a8\"],[0.3333333333333333,\"#9c179e\"],[0.4444444444444444,\"#bd3786\"],[0.5555555555555556,\"#d8576b\"],[0.6666666666666666,\"#ed7953\"],[0.7777777777777778,\"#fb9f3a\"],[0.8888888888888888,\"#fdca26\"],[1.0,\"#f0f921\"]],\"sequentialminus\":[[0.0,\"#0d0887\"],[0.1111111111111111,\"#46039f\"],[0.2222222222222222,\"#7201a8\"],[0.3333333333333333,\"#9c179e\"],[0.4444444444444444,\"#bd3786\"],[0.5555555555555556,\"#d8576b\"],[0.6666666666666666,\"#ed7953\"],[0.7777777777777778,\"#fb9f3a\"],[0.8888888888888888,\"#fdca26\"],[1.0,\"#f0f921\"]],\"diverging\":[[0,\"#8e0152\"],[0.1,\"#c51b7d\"],[0.2,\"#de77ae\"],[0.3,\"#f1b6da\"],[0.4,\"#fde0ef\"],[0.5,\"#f7f7f7\"],[0.6,\"#e6f5d0\"],[0.7,\"#b8e186\"],[0.8,\"#7fbc41\"],[0.9,\"#4d9221\"],[1,\"#276419\"]]},\"xaxis\":{\"gridcolor\":\"white\",\"linecolor\":\"white\",\"ticks\":\"\",\"title\":{\"standoff\":15},\"zerolinecolor\":\"white\",\"automargin\":true,\"zerolinewidth\":2},\"yaxis\":{\"gridcolor\":\"white\",\"linecolor\":\"white\",\"ticks\":\"\",\"title\":{\"standoff\":15},\"zerolinecolor\":\"white\",\"automargin\":true,\"zerolinewidth\":2},\"scene\":{\"xaxis\":{\"backgroundcolor\":\"#E5ECF6\",\"gridcolor\":\"white\",\"linecolor\":\"white\",\"showbackground\":true,\"ticks\":\"\",\"zerolinecolor\":\"white\",\"gridwidth\":2},\"yaxis\":{\"backgroundcolor\":\"#E5ECF6\",\"gridcolor\":\"white\",\"linecolor\":\"white\",\"showbackground\":true,\"ticks\":\"\",\"zerolinecolor\":\"white\",\"gridwidth\":2},\"zaxis\":{\"backgroundcolor\":\"#E5ECF6\",\"gridcolor\":\"white\",\"linecolor\":\"white\",\"showbackground\":true,\"ticks\":\"\",\"zerolinecolor\":\"white\",\"gridwidth\":2}},\"shapedefaults\":{\"line\":{\"color\":\"#2a3f5f\"}},\"annotationdefaults\":{\"arrowcolor\":\"#2a3f5f\",\"arrowhead\":0,\"arrowwidth\":1},\"geo\":{\"bgcolor\":\"white\",\"landcolor\":\"#E5ECF6\",\"subunitcolor\":\"white\",\"showland\":true,\"showlakes\":true,\"lakecolor\":\"white\"},\"title\":{\"x\":0.05},\"mapbox\":{\"style\":\"light\"}}},\"yaxis\":{\"title\":{\"text\":\"longitude\"},\"scaleanchor\":\"x\",\"scaleratio\":1},\"title\":{\"text\":\"latitude & longitude\"},\"xaxis\":{\"title\":{\"text\":\"latitude\"}},\"legend\":{\"title\":{\"text\":\"Data Points\"}},\"width\":1000,\"height\":600},                        {\"responsive\": true}                    ).then(function(){\n",
       "                            \n",
       "var gd = document.getElementById('55291056-64ed-44d4-b460-5efa60158713');\n",
       "var x = new MutationObserver(function (mutations, observer) {{\n",
       "        var display = window.getComputedStyle(gd).display;\n",
       "        if (!display || display === 'none') {{\n",
       "            console.log([gd, 'removed!']);\n",
       "            Plotly.purge(gd);\n",
       "            observer.disconnect();\n",
       "        }}\n",
       "}});\n",
       "\n",
       "// Listen for the removal of the full notebook cells\n",
       "var notebookContainer = gd.closest('#notebook-container');\n",
       "if (notebookContainer) {{\n",
       "    x.observe(notebookContainer, {childList: true});\n",
       "}}\n",
       "\n",
       "// Listen for the clearing of the current output cell\n",
       "var outputEl = gd.closest('.output');\n",
       "if (outputEl) {{\n",
       "    x.observe(outputEl, {childList: true});\n",
       "}}\n",
       "\n",
       "                        })                };                });            </script>        </div>"
      ]
     },
     "metadata": {},
     "output_type": "display_data"
    }
   ],
   "source": [
    "fig.update_layout(\n",
    "    width=1000,\n",
    "    height=600,\n",
    "    title=\"latitude & longitude\",\n",
    "    xaxis_title=\"latitude\",\n",
    "    yaxis_title=\"longitude\",\n",
    ")\n",
    "fig.show()"
   ]
  },
  {
   "cell_type": "code",
   "execution_count": 138,
   "id": "a076c7c2",
   "metadata": {},
   "outputs": [
    {
     "data": {
      "application/vnd.plotly.v1+json": {
       "config": {
        "plotlyServerURL": "https://plot.ly"
       },
       "data": [
        {
         "mode": "markers",
         "name": "Train",
         "type": "scatter",
         "x": [
          0,
          1,
          2,
          3,
          4,
          5,
          6,
          7,
          8,
          9,
          10,
          11,
          12,
          13,
          14,
          15,
          16,
          17,
          18,
          19,
          20,
          21,
          22,
          23,
          24,
          25,
          26,
          27,
          28,
          29,
          30,
          31,
          32,
          33,
          34,
          35,
          36,
          37,
          38,
          39,
          40,
          41,
          42,
          43,
          44,
          45,
          46,
          47,
          48,
          49
         ],
         "y": [
          13,
          13,
          13,
          13,
          13,
          13,
          15,
          15,
          15,
          15,
          15,
          15,
          18,
          18,
          18,
          20,
          20,
          20,
          23,
          23,
          23,
          23,
          20,
          20,
          20,
          18,
          18,
          18,
          18,
          18,
          18,
          20,
          20,
          20,
          18,
          18,
          18,
          18,
          18,
          18,
          20,
          20,
          20,
          23,
          23,
          23,
          23,
          20,
          20,
          20
         ]
        },
        {
         "mode": "markers",
         "name": "In-sample Prediction",
         "type": "scatter",
         "x": [
          1,
          2,
          3,
          4,
          5,
          6,
          7,
          8,
          9,
          10,
          11,
          12,
          13,
          14,
          15,
          16,
          17,
          18,
          19,
          20,
          21,
          22,
          23,
          24,
          25,
          26,
          27,
          28,
          29,
          30,
          31,
          32,
          33,
          34,
          35,
          36,
          37,
          38,
          39,
          40,
          41,
          42,
          43,
          44,
          45,
          46,
          47,
          48,
          49
         ],
         "y": [
          13,
          13,
          13,
          13,
          13,
          13,
          15,
          15,
          15,
          15,
          15,
          15,
          18,
          18,
          18,
          20,
          20,
          20,
          23,
          23,
          23,
          23,
          20,
          20,
          20,
          18,
          18,
          18,
          18,
          18,
          18,
          20,
          20,
          20,
          18,
          18,
          18,
          18,
          18,
          18,
          20,
          20,
          20,
          23,
          23,
          23,
          23,
          20,
          20
         ]
        },
        {
         "mode": "markers",
         "name": "Test",
         "type": "scatter",
         "x": [
          50,
          51,
          52,
          53,
          54,
          55,
          56,
          57,
          58,
          59,
          60,
          61,
          62
         ],
         "y": [
          20,
          20,
          20,
          18,
          18,
          18,
          18,
          18,
          15,
          15,
          15,
          15,
          15
         ]
        },
        {
         "mode": "markers",
         "name": "Out-of-sample Prediction",
         "type": "scatter",
         "x": [
          50,
          51,
          52,
          53,
          54,
          55,
          56,
          57,
          58,
          59,
          60,
          61,
          62
         ],
         "y": [
          20,
          20,
          20,
          20,
          20,
          20,
          20,
          20,
          20,
          20,
          20,
          20,
          20
         ]
        }
       ],
       "layout": {
        "template": {
         "data": {
          "bar": [
           {
            "error_x": {
             "color": "#2a3f5f"
            },
            "error_y": {
             "color": "#2a3f5f"
            },
            "marker": {
             "line": {
              "color": "#E5ECF6",
              "width": 0.5
             },
             "pattern": {
              "fillmode": "overlay",
              "size": 10,
              "solidity": 0.2
             }
            },
            "type": "bar"
           }
          ],
          "barpolar": [
           {
            "marker": {
             "line": {
              "color": "#E5ECF6",
              "width": 0.5
             },
             "pattern": {
              "fillmode": "overlay",
              "size": 10,
              "solidity": 0.2
             }
            },
            "type": "barpolar"
           }
          ],
          "carpet": [
           {
            "aaxis": {
             "endlinecolor": "#2a3f5f",
             "gridcolor": "white",
             "linecolor": "white",
             "minorgridcolor": "white",
             "startlinecolor": "#2a3f5f"
            },
            "baxis": {
             "endlinecolor": "#2a3f5f",
             "gridcolor": "white",
             "linecolor": "white",
             "minorgridcolor": "white",
             "startlinecolor": "#2a3f5f"
            },
            "type": "carpet"
           }
          ],
          "choropleth": [
           {
            "colorbar": {
             "outlinewidth": 0,
             "ticks": ""
            },
            "type": "choropleth"
           }
          ],
          "contour": [
           {
            "colorbar": {
             "outlinewidth": 0,
             "ticks": ""
            },
            "colorscale": [
             [
              0,
              "#0d0887"
             ],
             [
              0.1111111111111111,
              "#46039f"
             ],
             [
              0.2222222222222222,
              "#7201a8"
             ],
             [
              0.3333333333333333,
              "#9c179e"
             ],
             [
              0.4444444444444444,
              "#bd3786"
             ],
             [
              0.5555555555555556,
              "#d8576b"
             ],
             [
              0.6666666666666666,
              "#ed7953"
             ],
             [
              0.7777777777777778,
              "#fb9f3a"
             ],
             [
              0.8888888888888888,
              "#fdca26"
             ],
             [
              1,
              "#f0f921"
             ]
            ],
            "type": "contour"
           }
          ],
          "contourcarpet": [
           {
            "colorbar": {
             "outlinewidth": 0,
             "ticks": ""
            },
            "type": "contourcarpet"
           }
          ],
          "heatmap": [
           {
            "colorbar": {
             "outlinewidth": 0,
             "ticks": ""
            },
            "colorscale": [
             [
              0,
              "#0d0887"
             ],
             [
              0.1111111111111111,
              "#46039f"
             ],
             [
              0.2222222222222222,
              "#7201a8"
             ],
             [
              0.3333333333333333,
              "#9c179e"
             ],
             [
              0.4444444444444444,
              "#bd3786"
             ],
             [
              0.5555555555555556,
              "#d8576b"
             ],
             [
              0.6666666666666666,
              "#ed7953"
             ],
             [
              0.7777777777777778,
              "#fb9f3a"
             ],
             [
              0.8888888888888888,
              "#fdca26"
             ],
             [
              1,
              "#f0f921"
             ]
            ],
            "type": "heatmap"
           }
          ],
          "heatmapgl": [
           {
            "colorbar": {
             "outlinewidth": 0,
             "ticks": ""
            },
            "colorscale": [
             [
              0,
              "#0d0887"
             ],
             [
              0.1111111111111111,
              "#46039f"
             ],
             [
              0.2222222222222222,
              "#7201a8"
             ],
             [
              0.3333333333333333,
              "#9c179e"
             ],
             [
              0.4444444444444444,
              "#bd3786"
             ],
             [
              0.5555555555555556,
              "#d8576b"
             ],
             [
              0.6666666666666666,
              "#ed7953"
             ],
             [
              0.7777777777777778,
              "#fb9f3a"
             ],
             [
              0.8888888888888888,
              "#fdca26"
             ],
             [
              1,
              "#f0f921"
             ]
            ],
            "type": "heatmapgl"
           }
          ],
          "histogram": [
           {
            "marker": {
             "pattern": {
              "fillmode": "overlay",
              "size": 10,
              "solidity": 0.2
             }
            },
            "type": "histogram"
           }
          ],
          "histogram2d": [
           {
            "colorbar": {
             "outlinewidth": 0,
             "ticks": ""
            },
            "colorscale": [
             [
              0,
              "#0d0887"
             ],
             [
              0.1111111111111111,
              "#46039f"
             ],
             [
              0.2222222222222222,
              "#7201a8"
             ],
             [
              0.3333333333333333,
              "#9c179e"
             ],
             [
              0.4444444444444444,
              "#bd3786"
             ],
             [
              0.5555555555555556,
              "#d8576b"
             ],
             [
              0.6666666666666666,
              "#ed7953"
             ],
             [
              0.7777777777777778,
              "#fb9f3a"
             ],
             [
              0.8888888888888888,
              "#fdca26"
             ],
             [
              1,
              "#f0f921"
             ]
            ],
            "type": "histogram2d"
           }
          ],
          "histogram2dcontour": [
           {
            "colorbar": {
             "outlinewidth": 0,
             "ticks": ""
            },
            "colorscale": [
             [
              0,
              "#0d0887"
             ],
             [
              0.1111111111111111,
              "#46039f"
             ],
             [
              0.2222222222222222,
              "#7201a8"
             ],
             [
              0.3333333333333333,
              "#9c179e"
             ],
             [
              0.4444444444444444,
              "#bd3786"
             ],
             [
              0.5555555555555556,
              "#d8576b"
             ],
             [
              0.6666666666666666,
              "#ed7953"
             ],
             [
              0.7777777777777778,
              "#fb9f3a"
             ],
             [
              0.8888888888888888,
              "#fdca26"
             ],
             [
              1,
              "#f0f921"
             ]
            ],
            "type": "histogram2dcontour"
           }
          ],
          "mesh3d": [
           {
            "colorbar": {
             "outlinewidth": 0,
             "ticks": ""
            },
            "type": "mesh3d"
           }
          ],
          "parcoords": [
           {
            "line": {
             "colorbar": {
              "outlinewidth": 0,
              "ticks": ""
             }
            },
            "type": "parcoords"
           }
          ],
          "pie": [
           {
            "automargin": true,
            "type": "pie"
           }
          ],
          "scatter": [
           {
            "fillpattern": {
             "fillmode": "overlay",
             "size": 10,
             "solidity": 0.2
            },
            "type": "scatter"
           }
          ],
          "scatter3d": [
           {
            "line": {
             "colorbar": {
              "outlinewidth": 0,
              "ticks": ""
             }
            },
            "marker": {
             "colorbar": {
              "outlinewidth": 0,
              "ticks": ""
             }
            },
            "type": "scatter3d"
           }
          ],
          "scattercarpet": [
           {
            "marker": {
             "colorbar": {
              "outlinewidth": 0,
              "ticks": ""
             }
            },
            "type": "scattercarpet"
           }
          ],
          "scattergeo": [
           {
            "marker": {
             "colorbar": {
              "outlinewidth": 0,
              "ticks": ""
             }
            },
            "type": "scattergeo"
           }
          ],
          "scattergl": [
           {
            "marker": {
             "colorbar": {
              "outlinewidth": 0,
              "ticks": ""
             }
            },
            "type": "scattergl"
           }
          ],
          "scattermapbox": [
           {
            "marker": {
             "colorbar": {
              "outlinewidth": 0,
              "ticks": ""
             }
            },
            "type": "scattermapbox"
           }
          ],
          "scatterpolar": [
           {
            "marker": {
             "colorbar": {
              "outlinewidth": 0,
              "ticks": ""
             }
            },
            "type": "scatterpolar"
           }
          ],
          "scatterpolargl": [
           {
            "marker": {
             "colorbar": {
              "outlinewidth": 0,
              "ticks": ""
             }
            },
            "type": "scatterpolargl"
           }
          ],
          "scatterternary": [
           {
            "marker": {
             "colorbar": {
              "outlinewidth": 0,
              "ticks": ""
             }
            },
            "type": "scatterternary"
           }
          ],
          "surface": [
           {
            "colorbar": {
             "outlinewidth": 0,
             "ticks": ""
            },
            "colorscale": [
             [
              0,
              "#0d0887"
             ],
             [
              0.1111111111111111,
              "#46039f"
             ],
             [
              0.2222222222222222,
              "#7201a8"
             ],
             [
              0.3333333333333333,
              "#9c179e"
             ],
             [
              0.4444444444444444,
              "#bd3786"
             ],
             [
              0.5555555555555556,
              "#d8576b"
             ],
             [
              0.6666666666666666,
              "#ed7953"
             ],
             [
              0.7777777777777778,
              "#fb9f3a"
             ],
             [
              0.8888888888888888,
              "#fdca26"
             ],
             [
              1,
              "#f0f921"
             ]
            ],
            "type": "surface"
           }
          ],
          "table": [
           {
            "cells": {
             "fill": {
              "color": "#EBF0F8"
             },
             "line": {
              "color": "white"
             }
            },
            "header": {
             "fill": {
              "color": "#C8D4E3"
             },
             "line": {
              "color": "white"
             }
            },
            "type": "table"
           }
          ]
         },
         "layout": {
          "annotationdefaults": {
           "arrowcolor": "#2a3f5f",
           "arrowhead": 0,
           "arrowwidth": 1
          },
          "autotypenumbers": "strict",
          "coloraxis": {
           "colorbar": {
            "outlinewidth": 0,
            "ticks": ""
           }
          },
          "colorscale": {
           "diverging": [
            [
             0,
             "#8e0152"
            ],
            [
             0.1,
             "#c51b7d"
            ],
            [
             0.2,
             "#de77ae"
            ],
            [
             0.3,
             "#f1b6da"
            ],
            [
             0.4,
             "#fde0ef"
            ],
            [
             0.5,
             "#f7f7f7"
            ],
            [
             0.6,
             "#e6f5d0"
            ],
            [
             0.7,
             "#b8e186"
            ],
            [
             0.8,
             "#7fbc41"
            ],
            [
             0.9,
             "#4d9221"
            ],
            [
             1,
             "#276419"
            ]
           ],
           "sequential": [
            [
             0,
             "#0d0887"
            ],
            [
             0.1111111111111111,
             "#46039f"
            ],
            [
             0.2222222222222222,
             "#7201a8"
            ],
            [
             0.3333333333333333,
             "#9c179e"
            ],
            [
             0.4444444444444444,
             "#bd3786"
            ],
            [
             0.5555555555555556,
             "#d8576b"
            ],
            [
             0.6666666666666666,
             "#ed7953"
            ],
            [
             0.7777777777777778,
             "#fb9f3a"
            ],
            [
             0.8888888888888888,
             "#fdca26"
            ],
            [
             1,
             "#f0f921"
            ]
           ],
           "sequentialminus": [
            [
             0,
             "#0d0887"
            ],
            [
             0.1111111111111111,
             "#46039f"
            ],
            [
             0.2222222222222222,
             "#7201a8"
            ],
            [
             0.3333333333333333,
             "#9c179e"
            ],
            [
             0.4444444444444444,
             "#bd3786"
            ],
            [
             0.5555555555555556,
             "#d8576b"
            ],
            [
             0.6666666666666666,
             "#ed7953"
            ],
            [
             0.7777777777777778,
             "#fb9f3a"
            ],
            [
             0.8888888888888888,
             "#fdca26"
            ],
            [
             1,
             "#f0f921"
            ]
           ]
          },
          "colorway": [
           "#636efa",
           "#EF553B",
           "#00cc96",
           "#ab63fa",
           "#FFA15A",
           "#19d3f3",
           "#FF6692",
           "#B6E880",
           "#FF97FF",
           "#FECB52"
          ],
          "font": {
           "color": "#2a3f5f"
          },
          "geo": {
           "bgcolor": "white",
           "lakecolor": "white",
           "landcolor": "#E5ECF6",
           "showlakes": true,
           "showland": true,
           "subunitcolor": "white"
          },
          "hoverlabel": {
           "align": "left"
          },
          "hovermode": "closest",
          "mapbox": {
           "style": "light"
          },
          "paper_bgcolor": "white",
          "plot_bgcolor": "#E5ECF6",
          "polar": {
           "angularaxis": {
            "gridcolor": "white",
            "linecolor": "white",
            "ticks": ""
           },
           "bgcolor": "#E5ECF6",
           "radialaxis": {
            "gridcolor": "white",
            "linecolor": "white",
            "ticks": ""
           }
          },
          "scene": {
           "xaxis": {
            "backgroundcolor": "#E5ECF6",
            "gridcolor": "white",
            "gridwidth": 2,
            "linecolor": "white",
            "showbackground": true,
            "ticks": "",
            "zerolinecolor": "white"
           },
           "yaxis": {
            "backgroundcolor": "#E5ECF6",
            "gridcolor": "white",
            "gridwidth": 2,
            "linecolor": "white",
            "showbackground": true,
            "ticks": "",
            "zerolinecolor": "white"
           },
           "zaxis": {
            "backgroundcolor": "#E5ECF6",
            "gridcolor": "white",
            "gridwidth": 2,
            "linecolor": "white",
            "showbackground": true,
            "ticks": "",
            "zerolinecolor": "white"
           }
          },
          "shapedefaults": {
           "line": {
            "color": "#2a3f5f"
           }
          },
          "ternary": {
           "aaxis": {
            "gridcolor": "white",
            "linecolor": "white",
            "ticks": ""
           },
           "baxis": {
            "gridcolor": "white",
            "linecolor": "white",
            "ticks": ""
           },
           "bgcolor": "#E5ECF6",
           "caxis": {
            "gridcolor": "white",
            "linecolor": "white",
            "ticks": ""
           }
          },
          "title": {
           "x": 0.05
          },
          "xaxis": {
           "automargin": true,
           "gridcolor": "white",
           "linecolor": "white",
           "ticks": "",
           "title": {
            "standoff": 15
           },
           "zerolinecolor": "white",
           "zerolinewidth": 2
          },
          "yaxis": {
           "automargin": true,
           "gridcolor": "white",
           "linecolor": "white",
           "ticks": "",
           "title": {
            "standoff": 15
           },
           "zerolinecolor": "white",
           "zerolinewidth": 2
          }
         }
        },
        "title": {
         "text": "Wind Speed"
        },
        "yaxis": {
         "title": {
          "text": "Wind Speed (m/s)"
         }
        }
       }
      },
      "text/html": [
       "<div>                            <div id=\"5640fa17-9f3a-42bd-baf7-3ba8886f3ae8\" class=\"plotly-graph-div\" style=\"height:525px; width:100%;\"></div>            <script type=\"text/javascript\">                require([\"plotly\"], function(Plotly) {                    window.PLOTLYENV=window.PLOTLYENV || {};                                    if (document.getElementById(\"5640fa17-9f3a-42bd-baf7-3ba8886f3ae8\")) {                    Plotly.newPlot(                        \"5640fa17-9f3a-42bd-baf7-3ba8886f3ae8\",                        [{\"mode\":\"markers\",\"name\":\"Train\",\"x\":[0,1,2,3,4,5,6,7,8,9,10,11,12,13,14,15,16,17,18,19,20,21,22,23,24,25,26,27,28,29,30,31,32,33,34,35,36,37,38,39,40,41,42,43,44,45,46,47,48,49],\"y\":[13,13,13,13,13,13,15,15,15,15,15,15,18,18,18,20,20,20,23,23,23,23,20,20,20,18,18,18,18,18,18,20,20,20,18,18,18,18,18,18,20,20,20,23,23,23,23,20,20,20],\"type\":\"scatter\"},{\"mode\":\"markers\",\"name\":\"In-sample Prediction\",\"x\":[1,2,3,4,5,6,7,8,9,10,11,12,13,14,15,16,17,18,19,20,21,22,23,24,25,26,27,28,29,30,31,32,33,34,35,36,37,38,39,40,41,42,43,44,45,46,47,48,49],\"y\":[13.0,13.0,13.0,13.0,13.0,13.0,15.0,15.0,15.0,15.0,15.0,15.0,18.0,18.0,18.0,20.0,20.0,20.0,23.0,23.0,23.0,23.0,20.0,20.0,20.0,18.0,18.0,18.0,18.0,18.0,18.0,20.0,20.0,20.0,18.0,18.0,18.0,18.0,18.0,18.0,20.0,20.0,20.0,23.0,23.0,23.0,23.0,20.0,20.0],\"type\":\"scatter\"},{\"mode\":\"markers\",\"name\":\"Test\",\"x\":[50,51,52,53,54,55,56,57,58,59,60,61,62],\"y\":[20,20,20,18,18,18,18,18,15,15,15,15,15],\"type\":\"scatter\"},{\"mode\":\"markers\",\"name\":\"Out-of-sample Prediction\",\"x\":[50,51,52,53,54,55,56,57,58,59,60,61,62],\"y\":[20.0,20.0,20.0,20.0,20.0,20.0,20.0,20.0,20.0,20.0,20.0,20.0,20.0],\"type\":\"scatter\"}],                        {\"template\":{\"data\":{\"histogram2dcontour\":[{\"type\":\"histogram2dcontour\",\"colorbar\":{\"outlinewidth\":0,\"ticks\":\"\"},\"colorscale\":[[0.0,\"#0d0887\"],[0.1111111111111111,\"#46039f\"],[0.2222222222222222,\"#7201a8\"],[0.3333333333333333,\"#9c179e\"],[0.4444444444444444,\"#bd3786\"],[0.5555555555555556,\"#d8576b\"],[0.6666666666666666,\"#ed7953\"],[0.7777777777777778,\"#fb9f3a\"],[0.8888888888888888,\"#fdca26\"],[1.0,\"#f0f921\"]]}],\"choropleth\":[{\"type\":\"choropleth\",\"colorbar\":{\"outlinewidth\":0,\"ticks\":\"\"}}],\"histogram2d\":[{\"type\":\"histogram2d\",\"colorbar\":{\"outlinewidth\":0,\"ticks\":\"\"},\"colorscale\":[[0.0,\"#0d0887\"],[0.1111111111111111,\"#46039f\"],[0.2222222222222222,\"#7201a8\"],[0.3333333333333333,\"#9c179e\"],[0.4444444444444444,\"#bd3786\"],[0.5555555555555556,\"#d8576b\"],[0.6666666666666666,\"#ed7953\"],[0.7777777777777778,\"#fb9f3a\"],[0.8888888888888888,\"#fdca26\"],[1.0,\"#f0f921\"]]}],\"heatmap\":[{\"type\":\"heatmap\",\"colorbar\":{\"outlinewidth\":0,\"ticks\":\"\"},\"colorscale\":[[0.0,\"#0d0887\"],[0.1111111111111111,\"#46039f\"],[0.2222222222222222,\"#7201a8\"],[0.3333333333333333,\"#9c179e\"],[0.4444444444444444,\"#bd3786\"],[0.5555555555555556,\"#d8576b\"],[0.6666666666666666,\"#ed7953\"],[0.7777777777777778,\"#fb9f3a\"],[0.8888888888888888,\"#fdca26\"],[1.0,\"#f0f921\"]]}],\"heatmapgl\":[{\"type\":\"heatmapgl\",\"colorbar\":{\"outlinewidth\":0,\"ticks\":\"\"},\"colorscale\":[[0.0,\"#0d0887\"],[0.1111111111111111,\"#46039f\"],[0.2222222222222222,\"#7201a8\"],[0.3333333333333333,\"#9c179e\"],[0.4444444444444444,\"#bd3786\"],[0.5555555555555556,\"#d8576b\"],[0.6666666666666666,\"#ed7953\"],[0.7777777777777778,\"#fb9f3a\"],[0.8888888888888888,\"#fdca26\"],[1.0,\"#f0f921\"]]}],\"contourcarpet\":[{\"type\":\"contourcarpet\",\"colorbar\":{\"outlinewidth\":0,\"ticks\":\"\"}}],\"contour\":[{\"type\":\"contour\",\"colorbar\":{\"outlinewidth\":0,\"ticks\":\"\"},\"colorscale\":[[0.0,\"#0d0887\"],[0.1111111111111111,\"#46039f\"],[0.2222222222222222,\"#7201a8\"],[0.3333333333333333,\"#9c179e\"],[0.4444444444444444,\"#bd3786\"],[0.5555555555555556,\"#d8576b\"],[0.6666666666666666,\"#ed7953\"],[0.7777777777777778,\"#fb9f3a\"],[0.8888888888888888,\"#fdca26\"],[1.0,\"#f0f921\"]]}],\"surface\":[{\"type\":\"surface\",\"colorbar\":{\"outlinewidth\":0,\"ticks\":\"\"},\"colorscale\":[[0.0,\"#0d0887\"],[0.1111111111111111,\"#46039f\"],[0.2222222222222222,\"#7201a8\"],[0.3333333333333333,\"#9c179e\"],[0.4444444444444444,\"#bd3786\"],[0.5555555555555556,\"#d8576b\"],[0.6666666666666666,\"#ed7953\"],[0.7777777777777778,\"#fb9f3a\"],[0.8888888888888888,\"#fdca26\"],[1.0,\"#f0f921\"]]}],\"mesh3d\":[{\"type\":\"mesh3d\",\"colorbar\":{\"outlinewidth\":0,\"ticks\":\"\"}}],\"scatter\":[{\"fillpattern\":{\"fillmode\":\"overlay\",\"size\":10,\"solidity\":0.2},\"type\":\"scatter\"}],\"parcoords\":[{\"type\":\"parcoords\",\"line\":{\"colorbar\":{\"outlinewidth\":0,\"ticks\":\"\"}}}],\"scatterpolargl\":[{\"type\":\"scatterpolargl\",\"marker\":{\"colorbar\":{\"outlinewidth\":0,\"ticks\":\"\"}}}],\"bar\":[{\"error_x\":{\"color\":\"#2a3f5f\"},\"error_y\":{\"color\":\"#2a3f5f\"},\"marker\":{\"line\":{\"color\":\"#E5ECF6\",\"width\":0.5},\"pattern\":{\"fillmode\":\"overlay\",\"size\":10,\"solidity\":0.2}},\"type\":\"bar\"}],\"scattergeo\":[{\"type\":\"scattergeo\",\"marker\":{\"colorbar\":{\"outlinewidth\":0,\"ticks\":\"\"}}}],\"scatterpolar\":[{\"type\":\"scatterpolar\",\"marker\":{\"colorbar\":{\"outlinewidth\":0,\"ticks\":\"\"}}}],\"histogram\":[{\"marker\":{\"pattern\":{\"fillmode\":\"overlay\",\"size\":10,\"solidity\":0.2}},\"type\":\"histogram\"}],\"scattergl\":[{\"type\":\"scattergl\",\"marker\":{\"colorbar\":{\"outlinewidth\":0,\"ticks\":\"\"}}}],\"scatter3d\":[{\"type\":\"scatter3d\",\"line\":{\"colorbar\":{\"outlinewidth\":0,\"ticks\":\"\"}},\"marker\":{\"colorbar\":{\"outlinewidth\":0,\"ticks\":\"\"}}}],\"scattermapbox\":[{\"type\":\"scattermapbox\",\"marker\":{\"colorbar\":{\"outlinewidth\":0,\"ticks\":\"\"}}}],\"scatterternary\":[{\"type\":\"scatterternary\",\"marker\":{\"colorbar\":{\"outlinewidth\":0,\"ticks\":\"\"}}}],\"scattercarpet\":[{\"type\":\"scattercarpet\",\"marker\":{\"colorbar\":{\"outlinewidth\":0,\"ticks\":\"\"}}}],\"carpet\":[{\"aaxis\":{\"endlinecolor\":\"#2a3f5f\",\"gridcolor\":\"white\",\"linecolor\":\"white\",\"minorgridcolor\":\"white\",\"startlinecolor\":\"#2a3f5f\"},\"baxis\":{\"endlinecolor\":\"#2a3f5f\",\"gridcolor\":\"white\",\"linecolor\":\"white\",\"minorgridcolor\":\"white\",\"startlinecolor\":\"#2a3f5f\"},\"type\":\"carpet\"}],\"table\":[{\"cells\":{\"fill\":{\"color\":\"#EBF0F8\"},\"line\":{\"color\":\"white\"}},\"header\":{\"fill\":{\"color\":\"#C8D4E3\"},\"line\":{\"color\":\"white\"}},\"type\":\"table\"}],\"barpolar\":[{\"marker\":{\"line\":{\"color\":\"#E5ECF6\",\"width\":0.5},\"pattern\":{\"fillmode\":\"overlay\",\"size\":10,\"solidity\":0.2}},\"type\":\"barpolar\"}],\"pie\":[{\"automargin\":true,\"type\":\"pie\"}]},\"layout\":{\"autotypenumbers\":\"strict\",\"colorway\":[\"#636efa\",\"#EF553B\",\"#00cc96\",\"#ab63fa\",\"#FFA15A\",\"#19d3f3\",\"#FF6692\",\"#B6E880\",\"#FF97FF\",\"#FECB52\"],\"font\":{\"color\":\"#2a3f5f\"},\"hovermode\":\"closest\",\"hoverlabel\":{\"align\":\"left\"},\"paper_bgcolor\":\"white\",\"plot_bgcolor\":\"#E5ECF6\",\"polar\":{\"bgcolor\":\"#E5ECF6\",\"angularaxis\":{\"gridcolor\":\"white\",\"linecolor\":\"white\",\"ticks\":\"\"},\"radialaxis\":{\"gridcolor\":\"white\",\"linecolor\":\"white\",\"ticks\":\"\"}},\"ternary\":{\"bgcolor\":\"#E5ECF6\",\"aaxis\":{\"gridcolor\":\"white\",\"linecolor\":\"white\",\"ticks\":\"\"},\"baxis\":{\"gridcolor\":\"white\",\"linecolor\":\"white\",\"ticks\":\"\"},\"caxis\":{\"gridcolor\":\"white\",\"linecolor\":\"white\",\"ticks\":\"\"}},\"coloraxis\":{\"colorbar\":{\"outlinewidth\":0,\"ticks\":\"\"}},\"colorscale\":{\"sequential\":[[0.0,\"#0d0887\"],[0.1111111111111111,\"#46039f\"],[0.2222222222222222,\"#7201a8\"],[0.3333333333333333,\"#9c179e\"],[0.4444444444444444,\"#bd3786\"],[0.5555555555555556,\"#d8576b\"],[0.6666666666666666,\"#ed7953\"],[0.7777777777777778,\"#fb9f3a\"],[0.8888888888888888,\"#fdca26\"],[1.0,\"#f0f921\"]],\"sequentialminus\":[[0.0,\"#0d0887\"],[0.1111111111111111,\"#46039f\"],[0.2222222222222222,\"#7201a8\"],[0.3333333333333333,\"#9c179e\"],[0.4444444444444444,\"#bd3786\"],[0.5555555555555556,\"#d8576b\"],[0.6666666666666666,\"#ed7953\"],[0.7777777777777778,\"#fb9f3a\"],[0.8888888888888888,\"#fdca26\"],[1.0,\"#f0f921\"]],\"diverging\":[[0,\"#8e0152\"],[0.1,\"#c51b7d\"],[0.2,\"#de77ae\"],[0.3,\"#f1b6da\"],[0.4,\"#fde0ef\"],[0.5,\"#f7f7f7\"],[0.6,\"#e6f5d0\"],[0.7,\"#b8e186\"],[0.8,\"#7fbc41\"],[0.9,\"#4d9221\"],[1,\"#276419\"]]},\"xaxis\":{\"gridcolor\":\"white\",\"linecolor\":\"white\",\"ticks\":\"\",\"title\":{\"standoff\":15},\"zerolinecolor\":\"white\",\"automargin\":true,\"zerolinewidth\":2},\"yaxis\":{\"gridcolor\":\"white\",\"linecolor\":\"white\",\"ticks\":\"\",\"title\":{\"standoff\":15},\"zerolinecolor\":\"white\",\"automargin\":true,\"zerolinewidth\":2},\"scene\":{\"xaxis\":{\"backgroundcolor\":\"#E5ECF6\",\"gridcolor\":\"white\",\"linecolor\":\"white\",\"showbackground\":true,\"ticks\":\"\",\"zerolinecolor\":\"white\",\"gridwidth\":2},\"yaxis\":{\"backgroundcolor\":\"#E5ECF6\",\"gridcolor\":\"white\",\"linecolor\":\"white\",\"showbackground\":true,\"ticks\":\"\",\"zerolinecolor\":\"white\",\"gridwidth\":2},\"zaxis\":{\"backgroundcolor\":\"#E5ECF6\",\"gridcolor\":\"white\",\"linecolor\":\"white\",\"showbackground\":true,\"ticks\":\"\",\"zerolinecolor\":\"white\",\"gridwidth\":2}},\"shapedefaults\":{\"line\":{\"color\":\"#2a3f5f\"}},\"annotationdefaults\":{\"arrowcolor\":\"#2a3f5f\",\"arrowhead\":0,\"arrowwidth\":1},\"geo\":{\"bgcolor\":\"white\",\"landcolor\":\"#E5ECF6\",\"subunitcolor\":\"white\",\"showland\":true,\"showlakes\":true,\"lakecolor\":\"white\"},\"title\":{\"x\":0.05},\"mapbox\":{\"style\":\"light\"}}},\"title\":{\"text\":\"Wind Speed\"},\"yaxis\":{\"title\":{\"text\":\"Wind Speed (m\\u002fs)\"}}},                        {\"responsive\": true}                    ).then(function(){\n",
       "                            \n",
       "var gd = document.getElementById('5640fa17-9f3a-42bd-baf7-3ba8886f3ae8');\n",
       "var x = new MutationObserver(function (mutations, observer) {{\n",
       "        var display = window.getComputedStyle(gd).display;\n",
       "        if (!display || display === 'none') {{\n",
       "            console.log([gd, 'removed!']);\n",
       "            Plotly.purge(gd);\n",
       "            observer.disconnect();\n",
       "        }}\n",
       "}});\n",
       "\n",
       "// Listen for the removal of the full notebook cells\n",
       "var notebookContainer = gd.closest('#notebook-container');\n",
       "if (notebookContainer) {{\n",
       "    x.observe(notebookContainer, {childList: true});\n",
       "}}\n",
       "\n",
       "// Listen for the clearing of the current output cell\n",
       "var outputEl = gd.closest('.output');\n",
       "if (outputEl) {{\n",
       "    x.observe(outputEl, {childList: true});\n",
       "}}\n",
       "\n",
       "                        })                };                });            </script>        </div>"
      ]
     },
     "metadata": {},
     "output_type": "display_data"
    }
   ],
   "source": [
    "wind_speed_pred = cast(pl.Series, df_sample.select(\"wind_speed\"))\n",
    "model_w, train_w, test_w = create_model(wind_speed_pred)\n",
    "fig_w = plot_sample_1d(model_w, train_w, test_w)\n",
    "fig_w.update_layout(\n",
    "    title=\"Wind Speed\",\n",
    "    yaxis_title=\"Wind Speed (m/s)\",\n",
    ")\n",
    "fig_w.show()"
   ]
  },
  {
   "cell_type": "code",
   "execution_count": 139,
   "id": "41a5a5dc",
   "metadata": {},
   "outputs": [
    {
     "data": {
      "application/vnd.plotly.v1+json": {
       "config": {
        "plotlyServerURL": "https://plot.ly"
       },
       "data": [
        {
         "mode": "markers",
         "name": "Train",
         "type": "scatter",
         "x": [
          0,
          1,
          2,
          3,
          4,
          5,
          6,
          7,
          8,
          9,
          10,
          11,
          12,
          13,
          14,
          15,
          16,
          17,
          18,
          19,
          20,
          21,
          22,
          23,
          24,
          25,
          26,
          27,
          28,
          29,
          30,
          31,
          32,
          33,
          34,
          35,
          36,
          37,
          38,
          39,
          40,
          41,
          42,
          43,
          44,
          45,
          46,
          47,
          48,
          49
         ],
         "y": [
          996,
          996,
          996,
          996,
          996,
          996,
          992,
          992,
          992,
          992,
          992,
          992,
          990,
          990,
          990,
          988,
          988,
          988,
          985,
          985,
          985,
          985,
          986,
          986,
          986,
          988,
          988,
          988,
          990,
          990,
          990,
          988,
          988,
          988,
          992,
          992,
          992,
          992,
          992,
          992,
          988,
          988,
          988,
          985,
          982,
          982,
          982,
          985,
          988,
          988
         ]
        },
        {
         "mode": "markers",
         "name": "In-sample Prediction",
         "type": "scatter",
         "x": [
          1,
          2,
          3,
          4,
          5,
          6,
          7,
          8,
          9,
          10,
          11,
          12,
          13,
          14,
          15,
          16,
          17,
          18,
          19,
          20,
          21,
          22,
          23,
          24,
          25,
          26,
          27,
          28,
          29,
          30,
          31,
          32,
          33,
          34,
          35,
          36,
          37,
          38,
          39,
          40,
          41,
          42,
          43,
          44,
          45,
          46,
          47,
          48,
          49
         ],
         "y": [
          995.9999999999999,
          996,
          996,
          996,
          996,
          996,
          992,
          992,
          992,
          992,
          992,
          992,
          990,
          990,
          990,
          988,
          988,
          988,
          985,
          985,
          985,
          985,
          986,
          986,
          986,
          988,
          988,
          988,
          990,
          990,
          990,
          988,
          988,
          988,
          992,
          992,
          992,
          992,
          992,
          992,
          988,
          988,
          988,
          985,
          982,
          982,
          982,
          985,
          988
         ]
        },
        {
         "mode": "markers",
         "name": "Test",
         "type": "scatter",
         "x": [
          50,
          51,
          52,
          53,
          54,
          55,
          56,
          57,
          58,
          59,
          60,
          61,
          62
         ],
         "y": [
          988,
          988,
          988,
          984,
          984,
          984,
          984,
          986,
          988,
          988,
          988,
          992,
          996
         ]
        },
        {
         "mode": "markers",
         "name": "Out-of-sample Prediction",
         "type": "scatter",
         "x": [
          50,
          51,
          52,
          53,
          54,
          55,
          56,
          57,
          58,
          59,
          60,
          61,
          62
         ],
         "y": [
          988,
          988,
          988,
          988,
          988,
          988,
          988,
          988,
          988,
          988,
          988,
          988,
          988
         ]
        }
       ],
       "layout": {
        "template": {
         "data": {
          "bar": [
           {
            "error_x": {
             "color": "#2a3f5f"
            },
            "error_y": {
             "color": "#2a3f5f"
            },
            "marker": {
             "line": {
              "color": "#E5ECF6",
              "width": 0.5
             },
             "pattern": {
              "fillmode": "overlay",
              "size": 10,
              "solidity": 0.2
             }
            },
            "type": "bar"
           }
          ],
          "barpolar": [
           {
            "marker": {
             "line": {
              "color": "#E5ECF6",
              "width": 0.5
             },
             "pattern": {
              "fillmode": "overlay",
              "size": 10,
              "solidity": 0.2
             }
            },
            "type": "barpolar"
           }
          ],
          "carpet": [
           {
            "aaxis": {
             "endlinecolor": "#2a3f5f",
             "gridcolor": "white",
             "linecolor": "white",
             "minorgridcolor": "white",
             "startlinecolor": "#2a3f5f"
            },
            "baxis": {
             "endlinecolor": "#2a3f5f",
             "gridcolor": "white",
             "linecolor": "white",
             "minorgridcolor": "white",
             "startlinecolor": "#2a3f5f"
            },
            "type": "carpet"
           }
          ],
          "choropleth": [
           {
            "colorbar": {
             "outlinewidth": 0,
             "ticks": ""
            },
            "type": "choropleth"
           }
          ],
          "contour": [
           {
            "colorbar": {
             "outlinewidth": 0,
             "ticks": ""
            },
            "colorscale": [
             [
              0,
              "#0d0887"
             ],
             [
              0.1111111111111111,
              "#46039f"
             ],
             [
              0.2222222222222222,
              "#7201a8"
             ],
             [
              0.3333333333333333,
              "#9c179e"
             ],
             [
              0.4444444444444444,
              "#bd3786"
             ],
             [
              0.5555555555555556,
              "#d8576b"
             ],
             [
              0.6666666666666666,
              "#ed7953"
             ],
             [
              0.7777777777777778,
              "#fb9f3a"
             ],
             [
              0.8888888888888888,
              "#fdca26"
             ],
             [
              1,
              "#f0f921"
             ]
            ],
            "type": "contour"
           }
          ],
          "contourcarpet": [
           {
            "colorbar": {
             "outlinewidth": 0,
             "ticks": ""
            },
            "type": "contourcarpet"
           }
          ],
          "heatmap": [
           {
            "colorbar": {
             "outlinewidth": 0,
             "ticks": ""
            },
            "colorscale": [
             [
              0,
              "#0d0887"
             ],
             [
              0.1111111111111111,
              "#46039f"
             ],
             [
              0.2222222222222222,
              "#7201a8"
             ],
             [
              0.3333333333333333,
              "#9c179e"
             ],
             [
              0.4444444444444444,
              "#bd3786"
             ],
             [
              0.5555555555555556,
              "#d8576b"
             ],
             [
              0.6666666666666666,
              "#ed7953"
             ],
             [
              0.7777777777777778,
              "#fb9f3a"
             ],
             [
              0.8888888888888888,
              "#fdca26"
             ],
             [
              1,
              "#f0f921"
             ]
            ],
            "type": "heatmap"
           }
          ],
          "heatmapgl": [
           {
            "colorbar": {
             "outlinewidth": 0,
             "ticks": ""
            },
            "colorscale": [
             [
              0,
              "#0d0887"
             ],
             [
              0.1111111111111111,
              "#46039f"
             ],
             [
              0.2222222222222222,
              "#7201a8"
             ],
             [
              0.3333333333333333,
              "#9c179e"
             ],
             [
              0.4444444444444444,
              "#bd3786"
             ],
             [
              0.5555555555555556,
              "#d8576b"
             ],
             [
              0.6666666666666666,
              "#ed7953"
             ],
             [
              0.7777777777777778,
              "#fb9f3a"
             ],
             [
              0.8888888888888888,
              "#fdca26"
             ],
             [
              1,
              "#f0f921"
             ]
            ],
            "type": "heatmapgl"
           }
          ],
          "histogram": [
           {
            "marker": {
             "pattern": {
              "fillmode": "overlay",
              "size": 10,
              "solidity": 0.2
             }
            },
            "type": "histogram"
           }
          ],
          "histogram2d": [
           {
            "colorbar": {
             "outlinewidth": 0,
             "ticks": ""
            },
            "colorscale": [
             [
              0,
              "#0d0887"
             ],
             [
              0.1111111111111111,
              "#46039f"
             ],
             [
              0.2222222222222222,
              "#7201a8"
             ],
             [
              0.3333333333333333,
              "#9c179e"
             ],
             [
              0.4444444444444444,
              "#bd3786"
             ],
             [
              0.5555555555555556,
              "#d8576b"
             ],
             [
              0.6666666666666666,
              "#ed7953"
             ],
             [
              0.7777777777777778,
              "#fb9f3a"
             ],
             [
              0.8888888888888888,
              "#fdca26"
             ],
             [
              1,
              "#f0f921"
             ]
            ],
            "type": "histogram2d"
           }
          ],
          "histogram2dcontour": [
           {
            "colorbar": {
             "outlinewidth": 0,
             "ticks": ""
            },
            "colorscale": [
             [
              0,
              "#0d0887"
             ],
             [
              0.1111111111111111,
              "#46039f"
             ],
             [
              0.2222222222222222,
              "#7201a8"
             ],
             [
              0.3333333333333333,
              "#9c179e"
             ],
             [
              0.4444444444444444,
              "#bd3786"
             ],
             [
              0.5555555555555556,
              "#d8576b"
             ],
             [
              0.6666666666666666,
              "#ed7953"
             ],
             [
              0.7777777777777778,
              "#fb9f3a"
             ],
             [
              0.8888888888888888,
              "#fdca26"
             ],
             [
              1,
              "#f0f921"
             ]
            ],
            "type": "histogram2dcontour"
           }
          ],
          "mesh3d": [
           {
            "colorbar": {
             "outlinewidth": 0,
             "ticks": ""
            },
            "type": "mesh3d"
           }
          ],
          "parcoords": [
           {
            "line": {
             "colorbar": {
              "outlinewidth": 0,
              "ticks": ""
             }
            },
            "type": "parcoords"
           }
          ],
          "pie": [
           {
            "automargin": true,
            "type": "pie"
           }
          ],
          "scatter": [
           {
            "fillpattern": {
             "fillmode": "overlay",
             "size": 10,
             "solidity": 0.2
            },
            "type": "scatter"
           }
          ],
          "scatter3d": [
           {
            "line": {
             "colorbar": {
              "outlinewidth": 0,
              "ticks": ""
             }
            },
            "marker": {
             "colorbar": {
              "outlinewidth": 0,
              "ticks": ""
             }
            },
            "type": "scatter3d"
           }
          ],
          "scattercarpet": [
           {
            "marker": {
             "colorbar": {
              "outlinewidth": 0,
              "ticks": ""
             }
            },
            "type": "scattercarpet"
           }
          ],
          "scattergeo": [
           {
            "marker": {
             "colorbar": {
              "outlinewidth": 0,
              "ticks": ""
             }
            },
            "type": "scattergeo"
           }
          ],
          "scattergl": [
           {
            "marker": {
             "colorbar": {
              "outlinewidth": 0,
              "ticks": ""
             }
            },
            "type": "scattergl"
           }
          ],
          "scattermapbox": [
           {
            "marker": {
             "colorbar": {
              "outlinewidth": 0,
              "ticks": ""
             }
            },
            "type": "scattermapbox"
           }
          ],
          "scatterpolar": [
           {
            "marker": {
             "colorbar": {
              "outlinewidth": 0,
              "ticks": ""
             }
            },
            "type": "scatterpolar"
           }
          ],
          "scatterpolargl": [
           {
            "marker": {
             "colorbar": {
              "outlinewidth": 0,
              "ticks": ""
             }
            },
            "type": "scatterpolargl"
           }
          ],
          "scatterternary": [
           {
            "marker": {
             "colorbar": {
              "outlinewidth": 0,
              "ticks": ""
             }
            },
            "type": "scatterternary"
           }
          ],
          "surface": [
           {
            "colorbar": {
             "outlinewidth": 0,
             "ticks": ""
            },
            "colorscale": [
             [
              0,
              "#0d0887"
             ],
             [
              0.1111111111111111,
              "#46039f"
             ],
             [
              0.2222222222222222,
              "#7201a8"
             ],
             [
              0.3333333333333333,
              "#9c179e"
             ],
             [
              0.4444444444444444,
              "#bd3786"
             ],
             [
              0.5555555555555556,
              "#d8576b"
             ],
             [
              0.6666666666666666,
              "#ed7953"
             ],
             [
              0.7777777777777778,
              "#fb9f3a"
             ],
             [
              0.8888888888888888,
              "#fdca26"
             ],
             [
              1,
              "#f0f921"
             ]
            ],
            "type": "surface"
           }
          ],
          "table": [
           {
            "cells": {
             "fill": {
              "color": "#EBF0F8"
             },
             "line": {
              "color": "white"
             }
            },
            "header": {
             "fill": {
              "color": "#C8D4E3"
             },
             "line": {
              "color": "white"
             }
            },
            "type": "table"
           }
          ]
         },
         "layout": {
          "annotationdefaults": {
           "arrowcolor": "#2a3f5f",
           "arrowhead": 0,
           "arrowwidth": 1
          },
          "autotypenumbers": "strict",
          "coloraxis": {
           "colorbar": {
            "outlinewidth": 0,
            "ticks": ""
           }
          },
          "colorscale": {
           "diverging": [
            [
             0,
             "#8e0152"
            ],
            [
             0.1,
             "#c51b7d"
            ],
            [
             0.2,
             "#de77ae"
            ],
            [
             0.3,
             "#f1b6da"
            ],
            [
             0.4,
             "#fde0ef"
            ],
            [
             0.5,
             "#f7f7f7"
            ],
            [
             0.6,
             "#e6f5d0"
            ],
            [
             0.7,
             "#b8e186"
            ],
            [
             0.8,
             "#7fbc41"
            ],
            [
             0.9,
             "#4d9221"
            ],
            [
             1,
             "#276419"
            ]
           ],
           "sequential": [
            [
             0,
             "#0d0887"
            ],
            [
             0.1111111111111111,
             "#46039f"
            ],
            [
             0.2222222222222222,
             "#7201a8"
            ],
            [
             0.3333333333333333,
             "#9c179e"
            ],
            [
             0.4444444444444444,
             "#bd3786"
            ],
            [
             0.5555555555555556,
             "#d8576b"
            ],
            [
             0.6666666666666666,
             "#ed7953"
            ],
            [
             0.7777777777777778,
             "#fb9f3a"
            ],
            [
             0.8888888888888888,
             "#fdca26"
            ],
            [
             1,
             "#f0f921"
            ]
           ],
           "sequentialminus": [
            [
             0,
             "#0d0887"
            ],
            [
             0.1111111111111111,
             "#46039f"
            ],
            [
             0.2222222222222222,
             "#7201a8"
            ],
            [
             0.3333333333333333,
             "#9c179e"
            ],
            [
             0.4444444444444444,
             "#bd3786"
            ],
            [
             0.5555555555555556,
             "#d8576b"
            ],
            [
             0.6666666666666666,
             "#ed7953"
            ],
            [
             0.7777777777777778,
             "#fb9f3a"
            ],
            [
             0.8888888888888888,
             "#fdca26"
            ],
            [
             1,
             "#f0f921"
            ]
           ]
          },
          "colorway": [
           "#636efa",
           "#EF553B",
           "#00cc96",
           "#ab63fa",
           "#FFA15A",
           "#19d3f3",
           "#FF6692",
           "#B6E880",
           "#FF97FF",
           "#FECB52"
          ],
          "font": {
           "color": "#2a3f5f"
          },
          "geo": {
           "bgcolor": "white",
           "lakecolor": "white",
           "landcolor": "#E5ECF6",
           "showlakes": true,
           "showland": true,
           "subunitcolor": "white"
          },
          "hoverlabel": {
           "align": "left"
          },
          "hovermode": "closest",
          "mapbox": {
           "style": "light"
          },
          "paper_bgcolor": "white",
          "plot_bgcolor": "#E5ECF6",
          "polar": {
           "angularaxis": {
            "gridcolor": "white",
            "linecolor": "white",
            "ticks": ""
           },
           "bgcolor": "#E5ECF6",
           "radialaxis": {
            "gridcolor": "white",
            "linecolor": "white",
            "ticks": ""
           }
          },
          "scene": {
           "xaxis": {
            "backgroundcolor": "#E5ECF6",
            "gridcolor": "white",
            "gridwidth": 2,
            "linecolor": "white",
            "showbackground": true,
            "ticks": "",
            "zerolinecolor": "white"
           },
           "yaxis": {
            "backgroundcolor": "#E5ECF6",
            "gridcolor": "white",
            "gridwidth": 2,
            "linecolor": "white",
            "showbackground": true,
            "ticks": "",
            "zerolinecolor": "white"
           },
           "zaxis": {
            "backgroundcolor": "#E5ECF6",
            "gridcolor": "white",
            "gridwidth": 2,
            "linecolor": "white",
            "showbackground": true,
            "ticks": "",
            "zerolinecolor": "white"
           }
          },
          "shapedefaults": {
           "line": {
            "color": "#2a3f5f"
           }
          },
          "ternary": {
           "aaxis": {
            "gridcolor": "white",
            "linecolor": "white",
            "ticks": ""
           },
           "baxis": {
            "gridcolor": "white",
            "linecolor": "white",
            "ticks": ""
           },
           "bgcolor": "#E5ECF6",
           "caxis": {
            "gridcolor": "white",
            "linecolor": "white",
            "ticks": ""
           }
          },
          "title": {
           "x": 0.05
          },
          "xaxis": {
           "automargin": true,
           "gridcolor": "white",
           "linecolor": "white",
           "ticks": "",
           "title": {
            "standoff": 15
           },
           "zerolinecolor": "white",
           "zerolinewidth": 2
          },
          "yaxis": {
           "automargin": true,
           "gridcolor": "white",
           "linecolor": "white",
           "ticks": "",
           "title": {
            "standoff": 15
           },
           "zerolinecolor": "white",
           "zerolinewidth": 2
          }
         }
        },
        "title": {
         "text": "Lowest Pressure"
        },
        "yaxis": {
         "title": {
          "text": "Lowest Pressure (hPa)"
         }
        }
       }
      },
      "text/html": [
       "<div>                            <div id=\"3cc68c6d-39d2-486a-9a36-d83ac414cffa\" class=\"plotly-graph-div\" style=\"height:525px; width:100%;\"></div>            <script type=\"text/javascript\">                require([\"plotly\"], function(Plotly) {                    window.PLOTLYENV=window.PLOTLYENV || {};                                    if (document.getElementById(\"3cc68c6d-39d2-486a-9a36-d83ac414cffa\")) {                    Plotly.newPlot(                        \"3cc68c6d-39d2-486a-9a36-d83ac414cffa\",                        [{\"mode\":\"markers\",\"name\":\"Train\",\"x\":[0,1,2,3,4,5,6,7,8,9,10,11,12,13,14,15,16,17,18,19,20,21,22,23,24,25,26,27,28,29,30,31,32,33,34,35,36,37,38,39,40,41,42,43,44,45,46,47,48,49],\"y\":[996,996,996,996,996,996,992,992,992,992,992,992,990,990,990,988,988,988,985,985,985,985,986,986,986,988,988,988,990,990,990,988,988,988,992,992,992,992,992,992,988,988,988,985,982,982,982,985,988,988],\"type\":\"scatter\"},{\"mode\":\"markers\",\"name\":\"In-sample Prediction\",\"x\":[1,2,3,4,5,6,7,8,9,10,11,12,13,14,15,16,17,18,19,20,21,22,23,24,25,26,27,28,29,30,31,32,33,34,35,36,37,38,39,40,41,42,43,44,45,46,47,48,49],\"y\":[995.9999999999999,996.0,996.0,996.0,996.0,996.0,992.0,992.0,992.0,992.0,992.0,992.0,990.0,990.0,990.0,988.0,988.0,988.0,985.0,985.0,985.0,985.0,986.0,986.0,986.0,988.0,988.0,988.0,990.0,990.0,990.0,988.0,988.0,988.0,992.0,992.0,992.0,992.0,992.0,992.0,988.0,988.0,988.0,985.0,982.0,982.0,982.0,985.0,988.0],\"type\":\"scatter\"},{\"mode\":\"markers\",\"name\":\"Test\",\"x\":[50,51,52,53,54,55,56,57,58,59,60,61,62],\"y\":[988,988,988,984,984,984,984,986,988,988,988,992,996],\"type\":\"scatter\"},{\"mode\":\"markers\",\"name\":\"Out-of-sample Prediction\",\"x\":[50,51,52,53,54,55,56,57,58,59,60,61,62],\"y\":[988.0,988.0,988.0,988.0,988.0,988.0,988.0,988.0,988.0,988.0,988.0,988.0,988.0],\"type\":\"scatter\"}],                        {\"template\":{\"data\":{\"histogram2dcontour\":[{\"type\":\"histogram2dcontour\",\"colorbar\":{\"outlinewidth\":0,\"ticks\":\"\"},\"colorscale\":[[0.0,\"#0d0887\"],[0.1111111111111111,\"#46039f\"],[0.2222222222222222,\"#7201a8\"],[0.3333333333333333,\"#9c179e\"],[0.4444444444444444,\"#bd3786\"],[0.5555555555555556,\"#d8576b\"],[0.6666666666666666,\"#ed7953\"],[0.7777777777777778,\"#fb9f3a\"],[0.8888888888888888,\"#fdca26\"],[1.0,\"#f0f921\"]]}],\"choropleth\":[{\"type\":\"choropleth\",\"colorbar\":{\"outlinewidth\":0,\"ticks\":\"\"}}],\"histogram2d\":[{\"type\":\"histogram2d\",\"colorbar\":{\"outlinewidth\":0,\"ticks\":\"\"},\"colorscale\":[[0.0,\"#0d0887\"],[0.1111111111111111,\"#46039f\"],[0.2222222222222222,\"#7201a8\"],[0.3333333333333333,\"#9c179e\"],[0.4444444444444444,\"#bd3786\"],[0.5555555555555556,\"#d8576b\"],[0.6666666666666666,\"#ed7953\"],[0.7777777777777778,\"#fb9f3a\"],[0.8888888888888888,\"#fdca26\"],[1.0,\"#f0f921\"]]}],\"heatmap\":[{\"type\":\"heatmap\",\"colorbar\":{\"outlinewidth\":0,\"ticks\":\"\"},\"colorscale\":[[0.0,\"#0d0887\"],[0.1111111111111111,\"#46039f\"],[0.2222222222222222,\"#7201a8\"],[0.3333333333333333,\"#9c179e\"],[0.4444444444444444,\"#bd3786\"],[0.5555555555555556,\"#d8576b\"],[0.6666666666666666,\"#ed7953\"],[0.7777777777777778,\"#fb9f3a\"],[0.8888888888888888,\"#fdca26\"],[1.0,\"#f0f921\"]]}],\"heatmapgl\":[{\"type\":\"heatmapgl\",\"colorbar\":{\"outlinewidth\":0,\"ticks\":\"\"},\"colorscale\":[[0.0,\"#0d0887\"],[0.1111111111111111,\"#46039f\"],[0.2222222222222222,\"#7201a8\"],[0.3333333333333333,\"#9c179e\"],[0.4444444444444444,\"#bd3786\"],[0.5555555555555556,\"#d8576b\"],[0.6666666666666666,\"#ed7953\"],[0.7777777777777778,\"#fb9f3a\"],[0.8888888888888888,\"#fdca26\"],[1.0,\"#f0f921\"]]}],\"contourcarpet\":[{\"type\":\"contourcarpet\",\"colorbar\":{\"outlinewidth\":0,\"ticks\":\"\"}}],\"contour\":[{\"type\":\"contour\",\"colorbar\":{\"outlinewidth\":0,\"ticks\":\"\"},\"colorscale\":[[0.0,\"#0d0887\"],[0.1111111111111111,\"#46039f\"],[0.2222222222222222,\"#7201a8\"],[0.3333333333333333,\"#9c179e\"],[0.4444444444444444,\"#bd3786\"],[0.5555555555555556,\"#d8576b\"],[0.6666666666666666,\"#ed7953\"],[0.7777777777777778,\"#fb9f3a\"],[0.8888888888888888,\"#fdca26\"],[1.0,\"#f0f921\"]]}],\"surface\":[{\"type\":\"surface\",\"colorbar\":{\"outlinewidth\":0,\"ticks\":\"\"},\"colorscale\":[[0.0,\"#0d0887\"],[0.1111111111111111,\"#46039f\"],[0.2222222222222222,\"#7201a8\"],[0.3333333333333333,\"#9c179e\"],[0.4444444444444444,\"#bd3786\"],[0.5555555555555556,\"#d8576b\"],[0.6666666666666666,\"#ed7953\"],[0.7777777777777778,\"#fb9f3a\"],[0.8888888888888888,\"#fdca26\"],[1.0,\"#f0f921\"]]}],\"mesh3d\":[{\"type\":\"mesh3d\",\"colorbar\":{\"outlinewidth\":0,\"ticks\":\"\"}}],\"scatter\":[{\"fillpattern\":{\"fillmode\":\"overlay\",\"size\":10,\"solidity\":0.2},\"type\":\"scatter\"}],\"parcoords\":[{\"type\":\"parcoords\",\"line\":{\"colorbar\":{\"outlinewidth\":0,\"ticks\":\"\"}}}],\"scatterpolargl\":[{\"type\":\"scatterpolargl\",\"marker\":{\"colorbar\":{\"outlinewidth\":0,\"ticks\":\"\"}}}],\"bar\":[{\"error_x\":{\"color\":\"#2a3f5f\"},\"error_y\":{\"color\":\"#2a3f5f\"},\"marker\":{\"line\":{\"color\":\"#E5ECF6\",\"width\":0.5},\"pattern\":{\"fillmode\":\"overlay\",\"size\":10,\"solidity\":0.2}},\"type\":\"bar\"}],\"scattergeo\":[{\"type\":\"scattergeo\",\"marker\":{\"colorbar\":{\"outlinewidth\":0,\"ticks\":\"\"}}}],\"scatterpolar\":[{\"type\":\"scatterpolar\",\"marker\":{\"colorbar\":{\"outlinewidth\":0,\"ticks\":\"\"}}}],\"histogram\":[{\"marker\":{\"pattern\":{\"fillmode\":\"overlay\",\"size\":10,\"solidity\":0.2}},\"type\":\"histogram\"}],\"scattergl\":[{\"type\":\"scattergl\",\"marker\":{\"colorbar\":{\"outlinewidth\":0,\"ticks\":\"\"}}}],\"scatter3d\":[{\"type\":\"scatter3d\",\"line\":{\"colorbar\":{\"outlinewidth\":0,\"ticks\":\"\"}},\"marker\":{\"colorbar\":{\"outlinewidth\":0,\"ticks\":\"\"}}}],\"scattermapbox\":[{\"type\":\"scattermapbox\",\"marker\":{\"colorbar\":{\"outlinewidth\":0,\"ticks\":\"\"}}}],\"scatterternary\":[{\"type\":\"scatterternary\",\"marker\":{\"colorbar\":{\"outlinewidth\":0,\"ticks\":\"\"}}}],\"scattercarpet\":[{\"type\":\"scattercarpet\",\"marker\":{\"colorbar\":{\"outlinewidth\":0,\"ticks\":\"\"}}}],\"carpet\":[{\"aaxis\":{\"endlinecolor\":\"#2a3f5f\",\"gridcolor\":\"white\",\"linecolor\":\"white\",\"minorgridcolor\":\"white\",\"startlinecolor\":\"#2a3f5f\"},\"baxis\":{\"endlinecolor\":\"#2a3f5f\",\"gridcolor\":\"white\",\"linecolor\":\"white\",\"minorgridcolor\":\"white\",\"startlinecolor\":\"#2a3f5f\"},\"type\":\"carpet\"}],\"table\":[{\"cells\":{\"fill\":{\"color\":\"#EBF0F8\"},\"line\":{\"color\":\"white\"}},\"header\":{\"fill\":{\"color\":\"#C8D4E3\"},\"line\":{\"color\":\"white\"}},\"type\":\"table\"}],\"barpolar\":[{\"marker\":{\"line\":{\"color\":\"#E5ECF6\",\"width\":0.5},\"pattern\":{\"fillmode\":\"overlay\",\"size\":10,\"solidity\":0.2}},\"type\":\"barpolar\"}],\"pie\":[{\"automargin\":true,\"type\":\"pie\"}]},\"layout\":{\"autotypenumbers\":\"strict\",\"colorway\":[\"#636efa\",\"#EF553B\",\"#00cc96\",\"#ab63fa\",\"#FFA15A\",\"#19d3f3\",\"#FF6692\",\"#B6E880\",\"#FF97FF\",\"#FECB52\"],\"font\":{\"color\":\"#2a3f5f\"},\"hovermode\":\"closest\",\"hoverlabel\":{\"align\":\"left\"},\"paper_bgcolor\":\"white\",\"plot_bgcolor\":\"#E5ECF6\",\"polar\":{\"bgcolor\":\"#E5ECF6\",\"angularaxis\":{\"gridcolor\":\"white\",\"linecolor\":\"white\",\"ticks\":\"\"},\"radialaxis\":{\"gridcolor\":\"white\",\"linecolor\":\"white\",\"ticks\":\"\"}},\"ternary\":{\"bgcolor\":\"#E5ECF6\",\"aaxis\":{\"gridcolor\":\"white\",\"linecolor\":\"white\",\"ticks\":\"\"},\"baxis\":{\"gridcolor\":\"white\",\"linecolor\":\"white\",\"ticks\":\"\"},\"caxis\":{\"gridcolor\":\"white\",\"linecolor\":\"white\",\"ticks\":\"\"}},\"coloraxis\":{\"colorbar\":{\"outlinewidth\":0,\"ticks\":\"\"}},\"colorscale\":{\"sequential\":[[0.0,\"#0d0887\"],[0.1111111111111111,\"#46039f\"],[0.2222222222222222,\"#7201a8\"],[0.3333333333333333,\"#9c179e\"],[0.4444444444444444,\"#bd3786\"],[0.5555555555555556,\"#d8576b\"],[0.6666666666666666,\"#ed7953\"],[0.7777777777777778,\"#fb9f3a\"],[0.8888888888888888,\"#fdca26\"],[1.0,\"#f0f921\"]],\"sequentialminus\":[[0.0,\"#0d0887\"],[0.1111111111111111,\"#46039f\"],[0.2222222222222222,\"#7201a8\"],[0.3333333333333333,\"#9c179e\"],[0.4444444444444444,\"#bd3786\"],[0.5555555555555556,\"#d8576b\"],[0.6666666666666666,\"#ed7953\"],[0.7777777777777778,\"#fb9f3a\"],[0.8888888888888888,\"#fdca26\"],[1.0,\"#f0f921\"]],\"diverging\":[[0,\"#8e0152\"],[0.1,\"#c51b7d\"],[0.2,\"#de77ae\"],[0.3,\"#f1b6da\"],[0.4,\"#fde0ef\"],[0.5,\"#f7f7f7\"],[0.6,\"#e6f5d0\"],[0.7,\"#b8e186\"],[0.8,\"#7fbc41\"],[0.9,\"#4d9221\"],[1,\"#276419\"]]},\"xaxis\":{\"gridcolor\":\"white\",\"linecolor\":\"white\",\"ticks\":\"\",\"title\":{\"standoff\":15},\"zerolinecolor\":\"white\",\"automargin\":true,\"zerolinewidth\":2},\"yaxis\":{\"gridcolor\":\"white\",\"linecolor\":\"white\",\"ticks\":\"\",\"title\":{\"standoff\":15},\"zerolinecolor\":\"white\",\"automargin\":true,\"zerolinewidth\":2},\"scene\":{\"xaxis\":{\"backgroundcolor\":\"#E5ECF6\",\"gridcolor\":\"white\",\"linecolor\":\"white\",\"showbackground\":true,\"ticks\":\"\",\"zerolinecolor\":\"white\",\"gridwidth\":2},\"yaxis\":{\"backgroundcolor\":\"#E5ECF6\",\"gridcolor\":\"white\",\"linecolor\":\"white\",\"showbackground\":true,\"ticks\":\"\",\"zerolinecolor\":\"white\",\"gridwidth\":2},\"zaxis\":{\"backgroundcolor\":\"#E5ECF6\",\"gridcolor\":\"white\",\"linecolor\":\"white\",\"showbackground\":true,\"ticks\":\"\",\"zerolinecolor\":\"white\",\"gridwidth\":2}},\"shapedefaults\":{\"line\":{\"color\":\"#2a3f5f\"}},\"annotationdefaults\":{\"arrowcolor\":\"#2a3f5f\",\"arrowhead\":0,\"arrowwidth\":1},\"geo\":{\"bgcolor\":\"white\",\"landcolor\":\"#E5ECF6\",\"subunitcolor\":\"white\",\"showland\":true,\"showlakes\":true,\"lakecolor\":\"white\"},\"title\":{\"x\":0.05},\"mapbox\":{\"style\":\"light\"}}},\"title\":{\"text\":\"Lowest Pressure\"},\"yaxis\":{\"title\":{\"text\":\"Lowest Pressure (hPa)\"}}},                        {\"responsive\": true}                    ).then(function(){\n",
       "                            \n",
       "var gd = document.getElementById('3cc68c6d-39d2-486a-9a36-d83ac414cffa');\n",
       "var x = new MutationObserver(function (mutations, observer) {{\n",
       "        var display = window.getComputedStyle(gd).display;\n",
       "        if (!display || display === 'none') {{\n",
       "            console.log([gd, 'removed!']);\n",
       "            Plotly.purge(gd);\n",
       "            observer.disconnect();\n",
       "        }}\n",
       "}});\n",
       "\n",
       "// Listen for the removal of the full notebook cells\n",
       "var notebookContainer = gd.closest('#notebook-container');\n",
       "if (notebookContainer) {{\n",
       "    x.observe(notebookContainer, {childList: true});\n",
       "}}\n",
       "\n",
       "// Listen for the clearing of the current output cell\n",
       "var outputEl = gd.closest('.output');\n",
       "if (outputEl) {{\n",
       "    x.observe(outputEl, {childList: true});\n",
       "}}\n",
       "\n",
       "                        })                };                });            </script>        </div>"
      ]
     },
     "metadata": {},
     "output_type": "display_data"
    }
   ],
   "source": [
    "lowest_pressure_pred = cast(pl.Series, df_sample.select(\"lowest_pressure\"))\n",
    "model_p, train_p, test_p = create_model(lowest_pressure_pred)\n",
    "fig_p = plot_sample_1d(model_p, train_p, test_p)\n",
    "fig_p.update_layout(\n",
    "    title=\"Lowest Pressure\",\n",
    "    yaxis_title=\"Lowest Pressure (hPa)\",\n",
    ")\n",
    "fig_p.show()"
   ]
  },
  {
   "cell_type": "code",
   "execution_count": 183,
   "id": "f699b0f7",
   "metadata": {},
   "outputs": [],
   "source": [
    "from statsmodels.graphics.tsaplots import plot_acf, plot_pacf\n",
    "import matplotlib.pyplot as plt\n",
    "\n",
    "def plot_acf_pacf(df: pl.DataFrame, lags_acf=240, lags_pacf=40, figsize=(18, 12)):\n",
    "    fig, axes = plt.subplots(len(df.columns), 6, figsize=figsize)\n",
    "\n",
    "    # 遍历每个特征，并在相应的子图中绘制ACF和PACF图\n",
    "    for i, col_s in enumerate(df.columns):\n",
    "        # 绘制原始序列的ACF和PACF图\n",
    "        col_ = df.select(col_s)\n",
    "        col = col_.to_numpy().reshape(-1)\n",
    "        lags_acf_ = min(lags_acf, len(col)-2)\n",
    "        lags_pacf_ = min(lags_pacf, len(col)-2)\n",
    "        plot_acf(col, ax=axes[i, 0], lags=lags_acf_)\n",
    "        axes[i, 0].set_title(f'ACF - {col_s}')\n",
    "        plot_pacf(col, ax=axes[i, 1], lags=lags_pacf_)\n",
    "        axes[i, 1].set_title(f'PACF - {col_s}')\n",
    "        \n",
    "        # 计算一阶差分和二阶差分\n",
    "        diff1 = np.diff(col)\n",
    "        diff2 = np.diff(diff1)\n",
    "        \n",
    "        # 绘制一阶差分的ACF和PACF图\n",
    "        lags_diff1 = min(lags_pacf, len(diff1) - 1)\n",
    "        plot_acf(diff1, ax=axes[i, 2], lags=lags_diff1)\n",
    "        axes[i, 2].set_title(f'ACF - {col_s} (1st Diff)')\n",
    "        plot_pacf(diff1, ax=axes[i, 3], lags=lags_diff1)\n",
    "        axes[i, 3].set_title(f'PACF - {col_s} (1st Diff)')\n",
    "        \n",
    "        # 绘制二阶差分的ACF和PACF图\n",
    "        lags_diff2 = min(lags_pacf, len(diff2) - 1)\n",
    "        plot_acf(diff2, ax=axes[i, 4], lags=lags_diff2)\n",
    "        axes[i, 4].set_title(f'ACF - {col_s} (2nd Diff)')\n",
    "        plot_pacf(diff2, ax=axes[i, 5], lags=lags_diff2)\n",
    "        axes[i, 5].set_title(f'PACF - {col_s} (2nd Diff)')\n",
    "\n",
    "    # 调整子图之间的间距\n",
    "    plt.tight_layout()\n",
    "    return fig"
   ]
  },
  {
   "cell_type": "code",
   "execution_count": 177,
   "id": "2122b491",
   "metadata": {},
   "outputs": [
    {
     "name": "stdout",
     "output_type": "stream",
     "text": [
      "63\n"
     ]
    },
    {
     "data": {
      "image/png": "[encoded data removed]",
      "text/plain": [
       "<Figure size 640x480 with 1 Axes>"
      ]
     },
     "execution_count": 177,
     "metadata": {},
     "output_type": "execute_result"
    },
    {
     "data": {
      "image/png": "[encoded data removed]",
      "text/plain": [
       "<Figure size 640x480 with 1 Axes>"
      ]
     },
     "metadata": {},
     "output_type": "display_data"
    }
   ],
   "source": [
    "xs = df_sample.select(\"latitude\").to_numpy().reshape(-1)\n",
    "print(len(xs))\n",
    "plot_acf(xs, lags=62)"
   ]
  },
  {
   "cell_type": "code",
   "execution_count": 185,
   "id": "9d9dafe9",
   "metadata": {},
   "outputs": [
    {
     "name": "stderr",
     "output_type": "stream",
     "text": [
      "/tmp/ipykernel_87086/1603787271.py:9: UserWarning:\n",
      "\n",
      "FigureCanvasAgg is non-interactive, and thus cannot be shown\n",
      "\n"
     ]
    },
    {
     "data": {
      "image/png": "[encoded data removed]",
      "text/plain": [
       "<Figure size 1800x1200 with 24 Axes>"
      ]
     },
     "metadata": {},
     "output_type": "display_data"
    }
   ],
   "source": [
    "fig = plot_acf_pacf(\n",
    "    df_sample.select([\n",
    "        \"latitude\",\n",
    "        \"longitude\",\n",
    "        \"lowest_pressure\",\n",
    "        \"wind_speed\",\n",
    "    ]), lags_pacf=20)\n",
    "fig.savefig(\"result.png\")\n",
    "fig.show()"
   ]
  },
  {
   "cell_type": "code",
   "execution_count": null,
   "id": "a25584bf",
   "metadata": {},
   "outputs": [
    {
     "data": {
      "text/html": [
       "<table class=\"simpletable\">\n",
       "<caption>SARIMAX Results</caption>\n",
       "<tr>\n",
       "  <th>Dep. Variable:</th>           <td>y</td>        <th>  No. Observations:  </th>   <td>50</td>   \n",
       "</tr>\n",
       "<tr>\n",
       "  <th>Model:</th>           <td>SARIMAX(0, 2, 1)</td> <th>  Log Likelihood     </th> <td>-33.773</td>\n",
       "</tr>\n",
       "<tr>\n",
       "  <th>Date:</th>            <td>Thu, 25 Apr 2024</td> <th>  AIC                </th> <td>71.546</td> \n",
       "</tr>\n",
       "<tr>\n",
       "  <th>Time:</th>                <td>01:05:47</td>     <th>  BIC                </th> <td>75.289</td> \n",
       "</tr>\n",
       "<tr>\n",
       "  <th>Sample:</th>                  <td>0</td>        <th>  HQIC               </th> <td>72.961</td> \n",
       "</tr>\n",
       "<tr>\n",
       "  <th></th>                       <td> - 50</td>      <th>                     </th>    <td> </td>   \n",
       "</tr>\n",
       "<tr>\n",
       "  <th>Covariance Type:</th>        <td>opg</td>       <th>                     </th>    <td> </td>   \n",
       "</tr>\n",
       "</table>\n",
       "<table class=\"simpletable\">\n",
       "<tr>\n",
       "     <td></td>       <th>coef</th>     <th>std err</th>      <th>z</th>      <th>P>|z|</th>  <th>[0.025</th>    <th>0.975]</th>  \n",
       "</tr>\n",
       "<tr>\n",
       "  <th>ma.L1</th>  <td>   -0.5553</td> <td>    0.161</td> <td>   -3.443</td> <td> 0.001</td> <td>   -0.871</td> <td>   -0.239</td>\n",
       "</tr>\n",
       "<tr>\n",
       "  <th>sigma2</th> <td>    0.2373</td> <td>    0.021</td> <td>   11.150</td> <td> 0.000</td> <td>    0.196</td> <td>    0.279</td>\n",
       "</tr>\n",
       "</table>\n",
       "<table class=\"simpletable\">\n",
       "<tr>\n",
       "  <th>Ljung-Box (L1) (Q):</th>     <td>0.12</td>  <th>  Jarque-Bera (JB):  </th> <td>175.72</td>\n",
       "</tr>\n",
       "<tr>\n",
       "  <th>Prob(Q):</th>                <td>0.72</td>  <th>  Prob(JB):          </th>  <td>0.00</td> \n",
       "</tr>\n",
       "<tr>\n",
       "  <th>Heteroskedasticity (H):</th> <td>77.45</td> <th>  Skew:              </th>  <td>2.70</td> \n",
       "</tr>\n",
       "<tr>\n",
       "  <th>Prob(H) (two-sided):</th>    <td>0.00</td>  <th>  Kurtosis:          </th>  <td>10.66</td>\n",
       "</tr>\n",
       "</table><br/><br/>Warnings:<br/>[1] Covariance matrix calculated using the outer product of gradients (complex-step)."
      ],
      "text/latex": [
       "\\begin{center}\n",
       "\\begin{tabular}{lclc}\n",
       "\\toprule\n",
       "\\textbf{Dep. Variable:}          &        y         & \\textbf{  No. Observations:  } &     50      \\\\\n",
       "\\textbf{Model:}                  & SARIMAX(0, 2, 1) & \\textbf{  Log Likelihood     } &  -33.773    \\\\\n",
       "\\textbf{Date:}                   & Thu, 25 Apr 2024 & \\textbf{  AIC                } &   71.546    \\\\\n",
       "\\textbf{Time:}                   &     01:05:47     & \\textbf{  BIC                } &   75.289    \\\\\n",
       "\\textbf{Sample:}                 &        0         & \\textbf{  HQIC               } &   72.961    \\\\\n",
       "\\textbf{}                        &       - 50       & \\textbf{                     } &             \\\\\n",
       "\\textbf{Covariance Type:}        &       opg        & \\textbf{                     } &             \\\\\n",
       "\\bottomrule\n",
       "\\end{tabular}\n",
       "\\begin{tabular}{lcccccc}\n",
       "                & \\textbf{coef} & \\textbf{std err} & \\textbf{z} & \\textbf{P$> |$z$|$} & \\textbf{[0.025} & \\textbf{0.975]}  \\\\\n",
       "\\midrule\n",
       "\\textbf{ma.L1}  &      -0.5553  &        0.161     &    -3.443  &         0.001        &       -0.871    &       -0.239     \\\\\n",
       "\\textbf{sigma2} &       0.2373  &        0.021     &    11.150  &         0.000        &        0.196    &        0.279     \\\\\n",
       "\\bottomrule\n",
       "\\end{tabular}\n",
       "\\begin{tabular}{lclc}\n",
       "\\textbf{Ljung-Box (L1) (Q):}     &  0.12 & \\textbf{  Jarque-Bera (JB):  } & 175.72  \\\\\n",
       "\\textbf{Prob(Q):}                &  0.72 & \\textbf{  Prob(JB):          } &  0.00   \\\\\n",
       "\\textbf{Heteroskedasticity (H):} & 77.45 & \\textbf{  Skew:              } &  2.70   \\\\\n",
       "\\textbf{Prob(H) (two-sided):}    &  0.00 & \\textbf{  Kurtosis:          } & 10.66   \\\\\n",
       "\\bottomrule\n",
       "\\end{tabular}\n",
       "%\\caption{SARIMAX Results}\n",
       "\\end{center}\n",
       "\n",
       "Warnings: \\newline\n",
       " [1] Covariance matrix calculated using the outer product of gradients (complex-step)."
      ],
      "text/plain": [
       "<class 'statsmodels.iolib.summary.Summary'>\n",
       "\"\"\"\n",
       "                               SARIMAX Results                                \n",
       "==============================================================================\n",
       "Dep. Variable:                      y   No. Observations:                   50\n",
       "Model:               SARIMAX(0, 2, 1)   Log Likelihood                 -33.773\n",
       "Date:                Thu, 25 Apr 2024   AIC                             71.546\n",
       "Time:                        01:05:47   BIC                             75.289\n",
       "Sample:                             0   HQIC                            72.961\n",
       "                                 - 50                                         \n",
       "Covariance Type:                  opg                                         \n",
       "==============================================================================\n",
       "                 coef    std err          z      P>|z|      [0.025      0.975]\n",
       "------------------------------------------------------------------------------\n",
       "ma.L1         -0.5553      0.161     -3.443      0.001      -0.871      -0.239\n",
       "sigma2         0.2373      0.021     11.150      0.000       0.196       0.279\n",
       "===================================================================================\n",
       "Ljung-Box (L1) (Q):                   0.12   Jarque-Bera (JB):               175.72\n",
       "Prob(Q):                              0.72   Prob(JB):                         0.00\n",
       "Heteroskedasticity (H):              77.45   Skew:                             2.70\n",
       "Prob(H) (two-sided):                  0.00   Kurtosis:                        10.66\n",
       "===================================================================================\n",
       "\n",
       "Warnings:\n",
       "[1] Covariance matrix calculated using the outer product of gradients (complex-step).\n",
       "\"\"\""
      ]
     },
     "metadata": {},
     "output_type": "display_data"
    },
    {
     "data": {
      "text/html": [
       "<table class=\"simpletable\">\n",
       "<caption>SARIMAX Results</caption>\n",
       "<tr>\n",
       "  <th>Dep. Variable:</th>           <td>y</td>        <th>  No. Observations:  </th>   <td>50</td>   \n",
       "</tr>\n",
       "<tr>\n",
       "  <th>Model:</th>           <td>SARIMAX(2, 2, 2)</td> <th>  Log Likelihood     </th> <td>-17.365</td>\n",
       "</tr>\n",
       "<tr>\n",
       "  <th>Date:</th>            <td>Thu, 25 Apr 2024</td> <th>  AIC                </th> <td>44.730</td> \n",
       "</tr>\n",
       "<tr>\n",
       "  <th>Time:</th>                <td>01:05:47</td>     <th>  BIC                </th> <td>54.086</td> \n",
       "</tr>\n",
       "<tr>\n",
       "  <th>Sample:</th>                  <td>0</td>        <th>  HQIC               </th> <td>48.266</td> \n",
       "</tr>\n",
       "<tr>\n",
       "  <th></th>                       <td> - 50</td>      <th>                     </th>    <td> </td>   \n",
       "</tr>\n",
       "<tr>\n",
       "  <th>Covariance Type:</th>        <td>opg</td>       <th>                     </th>    <td> </td>   \n",
       "</tr>\n",
       "</table>\n",
       "<table class=\"simpletable\">\n",
       "<tr>\n",
       "     <td></td>       <th>coef</th>     <th>std err</th>      <th>z</th>      <th>P>|z|</th>  <th>[0.025</th>    <th>0.975]</th>  \n",
       "</tr>\n",
       "<tr>\n",
       "  <th>ar.L1</th>  <td>    0.9777</td> <td>    0.227</td> <td>    4.312</td> <td> 0.000</td> <td>    0.533</td> <td>    1.422</td>\n",
       "</tr>\n",
       "<tr>\n",
       "  <th>ar.L2</th>  <td>   -0.7050</td> <td>    0.183</td> <td>   -3.857</td> <td> 0.000</td> <td>   -1.063</td> <td>   -0.347</td>\n",
       "</tr>\n",
       "<tr>\n",
       "  <th>ma.L1</th>  <td>   -1.3399</td> <td>    0.154</td> <td>   -8.706</td> <td> 0.000</td> <td>   -1.642</td> <td>   -1.038</td>\n",
       "</tr>\n",
       "<tr>\n",
       "  <th>ma.L2</th>  <td>    0.8827</td> <td>    0.215</td> <td>    4.113</td> <td> 0.000</td> <td>    0.462</td> <td>    1.303</td>\n",
       "</tr>\n",
       "<tr>\n",
       "  <th>sigma2</th> <td>    0.1173</td> <td>    0.013</td> <td>    9.221</td> <td> 0.000</td> <td>    0.092</td> <td>    0.142</td>\n",
       "</tr>\n",
       "</table>\n",
       "<table class=\"simpletable\">\n",
       "<tr>\n",
       "  <th>Ljung-Box (L1) (Q):</th>     <td>0.05</td>  <th>  Jarque-Bera (JB):  </th> <td>444.65</td>\n",
       "</tr>\n",
       "<tr>\n",
       "  <th>Prob(Q):</th>                <td>0.82</td>  <th>  Prob(JB):          </th>  <td>0.00</td> \n",
       "</tr>\n",
       "<tr>\n",
       "  <th>Heteroskedasticity (H):</th> <td>29.91</td> <th>  Skew:              </th>  <td>2.83</td> \n",
       "</tr>\n",
       "<tr>\n",
       "  <th>Prob(H) (two-sided):</th>    <td>0.00</td>  <th>  Kurtosis:          </th>  <td>16.80</td>\n",
       "</tr>\n",
       "</table><br/><br/>Warnings:<br/>[1] Covariance matrix calculated using the outer product of gradients (complex-step)."
      ],
      "text/latex": [
       "\\begin{center}\n",
       "\\begin{tabular}{lclc}\n",
       "\\toprule\n",
       "\\textbf{Dep. Variable:}          &        y         & \\textbf{  No. Observations:  } &     50      \\\\\n",
       "\\textbf{Model:}                  & SARIMAX(2, 2, 2) & \\textbf{  Log Likelihood     } &  -17.365    \\\\\n",
       "\\textbf{Date:}                   & Thu, 25 Apr 2024 & \\textbf{  AIC                } &   44.730    \\\\\n",
       "\\textbf{Time:}                   &     01:05:47     & \\textbf{  BIC                } &   54.086    \\\\\n",
       "\\textbf{Sample:}                 &        0         & \\textbf{  HQIC               } &   48.266    \\\\\n",
       "\\textbf{}                        &       - 50       & \\textbf{                     } &             \\\\\n",
       "\\textbf{Covariance Type:}        &       opg        & \\textbf{                     } &             \\\\\n",
       "\\bottomrule\n",
       "\\end{tabular}\n",
       "\\begin{tabular}{lcccccc}\n",
       "                & \\textbf{coef} & \\textbf{std err} & \\textbf{z} & \\textbf{P$> |$z$|$} & \\textbf{[0.025} & \\textbf{0.975]}  \\\\\n",
       "\\midrule\n",
       "\\textbf{ar.L1}  &       0.9777  &        0.227     &     4.312  &         0.000        &        0.533    &        1.422     \\\\\n",
       "\\textbf{ar.L2}  &      -0.7050  &        0.183     &    -3.857  &         0.000        &       -1.063    &       -0.347     \\\\\n",
       "\\textbf{ma.L1}  &      -1.3399  &        0.154     &    -8.706  &         0.000        &       -1.642    &       -1.038     \\\\\n",
       "\\textbf{ma.L2}  &       0.8827  &        0.215     &     4.113  &         0.000        &        0.462    &        1.303     \\\\\n",
       "\\textbf{sigma2} &       0.1173  &        0.013     &     9.221  &         0.000        &        0.092    &        0.142     \\\\\n",
       "\\bottomrule\n",
       "\\end{tabular}\n",
       "\\begin{tabular}{lclc}\n",
       "\\textbf{Ljung-Box (L1) (Q):}     &  0.05 & \\textbf{  Jarque-Bera (JB):  } & 444.65  \\\\\n",
       "\\textbf{Prob(Q):}                &  0.82 & \\textbf{  Prob(JB):          } &  0.00   \\\\\n",
       "\\textbf{Heteroskedasticity (H):} & 29.91 & \\textbf{  Skew:              } &  2.83   \\\\\n",
       "\\textbf{Prob(H) (two-sided):}    &  0.00 & \\textbf{  Kurtosis:          } & 16.80   \\\\\n",
       "\\bottomrule\n",
       "\\end{tabular}\n",
       "%\\caption{SARIMAX Results}\n",
       "\\end{center}\n",
       "\n",
       "Warnings: \\newline\n",
       " [1] Covariance matrix calculated using the outer product of gradients (complex-step)."
      ],
      "text/plain": [
       "<class 'statsmodels.iolib.summary.Summary'>\n",
       "\"\"\"\n",
       "                               SARIMAX Results                                \n",
       "==============================================================================\n",
       "Dep. Variable:                      y   No. Observations:                   50\n",
       "Model:               SARIMAX(2, 2, 2)   Log Likelihood                 -17.365\n",
       "Date:                Thu, 25 Apr 2024   AIC                             44.730\n",
       "Time:                        01:05:47   BIC                             54.086\n",
       "Sample:                             0   HQIC                            48.266\n",
       "                                 - 50                                         \n",
       "Covariance Type:                  opg                                         \n",
       "==============================================================================\n",
       "                 coef    std err          z      P>|z|      [0.025      0.975]\n",
       "------------------------------------------------------------------------------\n",
       "ar.L1          0.9777      0.227      4.312      0.000       0.533       1.422\n",
       "ar.L2         -0.7050      0.183     -3.857      0.000      -1.063      -0.347\n",
       "ma.L1         -1.3399      0.154     -8.706      0.000      -1.642      -1.038\n",
       "ma.L2          0.8827      0.215      4.113      0.000       0.462       1.303\n",
       "sigma2         0.1173      0.013      9.221      0.000       0.092       0.142\n",
       "===================================================================================\n",
       "Ljung-Box (L1) (Q):                   0.05   Jarque-Bera (JB):               444.65\n",
       "Prob(Q):                              0.82   Prob(JB):                         0.00\n",
       "Heteroskedasticity (H):              29.91   Skew:                             2.83\n",
       "Prob(H) (two-sided):                  0.00   Kurtosis:                        16.80\n",
       "===================================================================================\n",
       "\n",
       "Warnings:\n",
       "[1] Covariance matrix calculated using the outer product of gradients (complex-step).\n",
       "\"\"\""
      ]
     },
     "metadata": {},
     "output_type": "display_data"
    },
    {
     "data": {
      "text/html": [
       "<table class=\"simpletable\">\n",
       "<caption>SARIMAX Results</caption>\n",
       "<tr>\n",
       "  <th>Dep. Variable:</th>           <td>y</td>        <th>  No. Observations:  </th>   <td>50</td>   \n",
       "</tr>\n",
       "<tr>\n",
       "  <th>Model:</th>           <td>SARIMAX(0, 1, 0)</td> <th>  Log Likelihood     </th> <td>-77.914</td>\n",
       "</tr>\n",
       "<tr>\n",
       "  <th>Date:</th>            <td>Thu, 25 Apr 2024</td> <th>  AIC                </th> <td>157.828</td>\n",
       "</tr>\n",
       "<tr>\n",
       "  <th>Time:</th>                <td>01:05:47</td>     <th>  BIC                </th> <td>159.720</td>\n",
       "</tr>\n",
       "<tr>\n",
       "  <th>Sample:</th>                  <td>0</td>        <th>  HQIC               </th> <td>158.546</td>\n",
       "</tr>\n",
       "<tr>\n",
       "  <th></th>                       <td> - 50</td>      <th>                     </th>    <td> </td>   \n",
       "</tr>\n",
       "<tr>\n",
       "  <th>Covariance Type:</th>        <td>opg</td>       <th>                     </th>    <td> </td>   \n",
       "</tr>\n",
       "</table>\n",
       "<table class=\"simpletable\">\n",
       "<tr>\n",
       "     <td></td>       <th>coef</th>     <th>std err</th>      <th>z</th>      <th>P>|z|</th>  <th>[0.025</th>    <th>0.975]</th>  \n",
       "</tr>\n",
       "<tr>\n",
       "  <th>sigma2</th> <td>    1.4081</td> <td>    0.197</td> <td>    7.136</td> <td> 0.000</td> <td>    1.021</td> <td>    1.795</td>\n",
       "</tr>\n",
       "</table>\n",
       "<table class=\"simpletable\">\n",
       "<tr>\n",
       "  <th>Ljung-Box (L1) (Q):</th>     <td>0.01</td> <th>  Jarque-Bera (JB):  </th> <td>9.57</td>\n",
       "</tr>\n",
       "<tr>\n",
       "  <th>Prob(Q):</th>                <td>0.91</td> <th>  Prob(JB):          </th> <td>0.01</td>\n",
       "</tr>\n",
       "<tr>\n",
       "  <th>Heteroskedasticity (H):</th> <td>1.53</td> <th>  Skew:              </th> <td>0.17</td>\n",
       "</tr>\n",
       "<tr>\n",
       "  <th>Prob(H) (two-sided):</th>    <td>0.40</td> <th>  Kurtosis:          </th> <td>5.14</td>\n",
       "</tr>\n",
       "</table><br/><br/>Warnings:<br/>[1] Covariance matrix calculated using the outer product of gradients (complex-step)."
      ],
      "text/latex": [
       "\\begin{center}\n",
       "\\begin{tabular}{lclc}\n",
       "\\toprule\n",
       "\\textbf{Dep. Variable:}          &        y         & \\textbf{  No. Observations:  } &     50      \\\\\n",
       "\\textbf{Model:}                  & SARIMAX(0, 1, 0) & \\textbf{  Log Likelihood     } &  -77.914    \\\\\n",
       "\\textbf{Date:}                   & Thu, 25 Apr 2024 & \\textbf{  AIC                } &  157.828    \\\\\n",
       "\\textbf{Time:}                   &     01:05:47     & \\textbf{  BIC                } &  159.720    \\\\\n",
       "\\textbf{Sample:}                 &        0         & \\textbf{  HQIC               } &  158.546    \\\\\n",
       "\\textbf{}                        &       - 50       & \\textbf{                     } &             \\\\\n",
       "\\textbf{Covariance Type:}        &       opg        & \\textbf{                     } &             \\\\\n",
       "\\bottomrule\n",
       "\\end{tabular}\n",
       "\\begin{tabular}{lcccccc}\n",
       "                & \\textbf{coef} & \\textbf{std err} & \\textbf{z} & \\textbf{P$> |$z$|$} & \\textbf{[0.025} & \\textbf{0.975]}  \\\\\n",
       "\\midrule\n",
       "\\textbf{sigma2} &       1.4081  &        0.197     &     7.136  &         0.000        &        1.021    &        1.795     \\\\\n",
       "\\bottomrule\n",
       "\\end{tabular}\n",
       "\\begin{tabular}{lclc}\n",
       "\\textbf{Ljung-Box (L1) (Q):}     & 0.01 & \\textbf{  Jarque-Bera (JB):  } & 9.57  \\\\\n",
       "\\textbf{Prob(Q):}                & 0.91 & \\textbf{  Prob(JB):          } & 0.01  \\\\\n",
       "\\textbf{Heteroskedasticity (H):} & 1.53 & \\textbf{  Skew:              } & 0.17  \\\\\n",
       "\\textbf{Prob(H) (two-sided):}    & 0.40 & \\textbf{  Kurtosis:          } & 5.14  \\\\\n",
       "\\bottomrule\n",
       "\\end{tabular}\n",
       "%\\caption{SARIMAX Results}\n",
       "\\end{center}\n",
       "\n",
       "Warnings: \\newline\n",
       " [1] Covariance matrix calculated using the outer product of gradients (complex-step)."
      ],
      "text/plain": [
       "<class 'statsmodels.iolib.summary.Summary'>\n",
       "\"\"\"\n",
       "                               SARIMAX Results                                \n",
       "==============================================================================\n",
       "Dep. Variable:                      y   No. Observations:                   50\n",
       "Model:               SARIMAX(0, 1, 0)   Log Likelihood                 -77.914\n",
       "Date:                Thu, 25 Apr 2024   AIC                            157.828\n",
       "Time:                        01:05:47   BIC                            159.720\n",
       "Sample:                             0   HQIC                           158.546\n",
       "                                 - 50                                         \n",
       "Covariance Type:                  opg                                         \n",
       "==============================================================================\n",
       "                 coef    std err          z      P>|z|      [0.025      0.975]\n",
       "------------------------------------------------------------------------------\n",
       "sigma2         1.4081      0.197      7.136      0.000       1.021       1.795\n",
       "===================================================================================\n",
       "Ljung-Box (L1) (Q):                   0.01   Jarque-Bera (JB):                 9.57\n",
       "Prob(Q):                              0.91   Prob(JB):                         0.01\n",
       "Heteroskedasticity (H):               1.53   Skew:                             0.17\n",
       "Prob(H) (two-sided):                  0.40   Kurtosis:                         5.14\n",
       "===================================================================================\n",
       "\n",
       "Warnings:\n",
       "[1] Covariance matrix calculated using the outer product of gradients (complex-step).\n",
       "\"\"\""
      ]
     },
     "metadata": {},
     "output_type": "display_data"
    },
    {
     "data": {
      "text/html": [
       "<table class=\"simpletable\">\n",
       "<caption>SARIMAX Results</caption>\n",
       "<tr>\n",
       "  <th>Dep. Variable:</th>           <td>y</td>        <th>  No. Observations:  </th>   <td>50</td>   \n",
       "</tr>\n",
       "<tr>\n",
       "  <th>Model:</th>           <td>SARIMAX(0, 1, 0)</td> <th>  Log Likelihood     </th> <td>-90.215</td>\n",
       "</tr>\n",
       "<tr>\n",
       "  <th>Date:</th>            <td>Thu, 25 Apr 2024</td> <th>  AIC                </th> <td>182.431</td>\n",
       "</tr>\n",
       "<tr>\n",
       "  <th>Time:</th>                <td>01:05:47</td>     <th>  BIC                </th> <td>184.322</td>\n",
       "</tr>\n",
       "<tr>\n",
       "  <th>Sample:</th>                  <td>0</td>        <th>  HQIC               </th> <td>183.148</td>\n",
       "</tr>\n",
       "<tr>\n",
       "  <th></th>                       <td> - 50</td>      <th>                     </th>    <td> </td>   \n",
       "</tr>\n",
       "<tr>\n",
       "  <th>Covariance Type:</th>        <td>opg</td>       <th>                     </th>    <td> </td>   \n",
       "</tr>\n",
       "</table>\n",
       "<table class=\"simpletable\">\n",
       "<tr>\n",
       "     <td></td>       <th>coef</th>     <th>std err</th>      <th>z</th>      <th>P>|z|</th>  <th>[0.025</th>    <th>0.975]</th>  \n",
       "</tr>\n",
       "<tr>\n",
       "  <th>sigma2</th> <td>    2.3265</td> <td>    0.344</td> <td>    6.758</td> <td> 0.000</td> <td>    1.652</td> <td>    3.001</td>\n",
       "</tr>\n",
       "</table>\n",
       "<table class=\"simpletable\">\n",
       "<tr>\n",
       "  <th>Ljung-Box (L1) (Q):</th>     <td>1.14</td> <th>  Jarque-Bera (JB):  </th> <td>6.14</td> \n",
       "</tr>\n",
       "<tr>\n",
       "  <th>Prob(Q):</th>                <td>0.29</td> <th>  Prob(JB):          </th> <td>0.05</td> \n",
       "</tr>\n",
       "<tr>\n",
       "  <th>Heteroskedasticity (H):</th> <td>2.83</td> <th>  Skew:              </th> <td>-0.25</td>\n",
       "</tr>\n",
       "<tr>\n",
       "  <th>Prob(H) (two-sided):</th>    <td>0.04</td> <th>  Kurtosis:          </th> <td>4.66</td> \n",
       "</tr>\n",
       "</table><br/><br/>Warnings:<br/>[1] Covariance matrix calculated using the outer product of gradients (complex-step)."
      ],
      "text/latex": [
       "\\begin{center}\n",
       "\\begin{tabular}{lclc}\n",
       "\\toprule\n",
       "\\textbf{Dep. Variable:}          &        y         & \\textbf{  No. Observations:  } &     50      \\\\\n",
       "\\textbf{Model:}                  & SARIMAX(0, 1, 0) & \\textbf{  Log Likelihood     } &  -90.215    \\\\\n",
       "\\textbf{Date:}                   & Thu, 25 Apr 2024 & \\textbf{  AIC                } &  182.431    \\\\\n",
       "\\textbf{Time:}                   &     01:05:47     & \\textbf{  BIC                } &  184.322    \\\\\n",
       "\\textbf{Sample:}                 &        0         & \\textbf{  HQIC               } &  183.148    \\\\\n",
       "\\textbf{}                        &       - 50       & \\textbf{                     } &             \\\\\n",
       "\\textbf{Covariance Type:}        &       opg        & \\textbf{                     } &             \\\\\n",
       "\\bottomrule\n",
       "\\end{tabular}\n",
       "\\begin{tabular}{lcccccc}\n",
       "                & \\textbf{coef} & \\textbf{std err} & \\textbf{z} & \\textbf{P$> |$z$|$} & \\textbf{[0.025} & \\textbf{0.975]}  \\\\\n",
       "\\midrule\n",
       "\\textbf{sigma2} &       2.3265  &        0.344     &     6.758  &         0.000        &        1.652    &        3.001     \\\\\n",
       "\\bottomrule\n",
       "\\end{tabular}\n",
       "\\begin{tabular}{lclc}\n",
       "\\textbf{Ljung-Box (L1) (Q):}     & 1.14 & \\textbf{  Jarque-Bera (JB):  } &  6.14  \\\\\n",
       "\\textbf{Prob(Q):}                & 0.29 & \\textbf{  Prob(JB):          } &  0.05  \\\\\n",
       "\\textbf{Heteroskedasticity (H):} & 2.83 & \\textbf{  Skew:              } & -0.25  \\\\\n",
       "\\textbf{Prob(H) (two-sided):}    & 0.04 & \\textbf{  Kurtosis:          } &  4.66  \\\\\n",
       "\\bottomrule\n",
       "\\end{tabular}\n",
       "%\\caption{SARIMAX Results}\n",
       "\\end{center}\n",
       "\n",
       "Warnings: \\newline\n",
       " [1] Covariance matrix calculated using the outer product of gradients (complex-step)."
      ],
      "text/plain": [
       "<class 'statsmodels.iolib.summary.Summary'>\n",
       "\"\"\"\n",
       "                               SARIMAX Results                                \n",
       "==============================================================================\n",
       "Dep. Variable:                      y   No. Observations:                   50\n",
       "Model:               SARIMAX(0, 1, 0)   Log Likelihood                 -90.215\n",
       "Date:                Thu, 25 Apr 2024   AIC                            182.431\n",
       "Time:                        01:05:47   BIC                            184.322\n",
       "Sample:                             0   HQIC                           183.148\n",
       "                                 - 50                                         \n",
       "Covariance Type:                  opg                                         \n",
       "==============================================================================\n",
       "                 coef    std err          z      P>|z|      [0.025      0.975]\n",
       "------------------------------------------------------------------------------\n",
       "sigma2         2.3265      0.344      6.758      0.000       1.652       3.001\n",
       "===================================================================================\n",
       "Ljung-Box (L1) (Q):                   1.14   Jarque-Bera (JB):                 6.14\n",
       "Prob(Q):                              0.29   Prob(JB):                         0.05\n",
       "Heteroskedasticity (H):               2.83   Skew:                            -0.25\n",
       "Prob(H) (two-sided):                  0.04   Kurtosis:                         4.66\n",
       "===================================================================================\n",
       "\n",
       "Warnings:\n",
       "[1] Covariance matrix calculated using the outer product of gradients (complex-step).\n",
       "\"\"\""
      ]
     },
     "metadata": {},
     "output_type": "display_data"
    }
   ],
   "source": [
    "display(model_x.summary())\n",
    "display(model_y.summary())\n",
    "display(model_w.summary())\n",
    "display(model_p.summary())"
   ]
  }
 ],
 "metadata": {
  "kernelspec": {
   "display_name": "Python 3 (ipykernel)",
   "language": "python",
   "name": "python3"
  },
  "language_info": {
   "codemirror_mode": {
    "name": "ipython",
    "version": 3
   },
   "file_extension": ".py",
   "mimetype": "text/x-python",
   "name": "python",
   "nbconvert_exporter": "python",
   "pygments_lexer": "ipython3",
   "version": "3.11.7"
  }
 },
 "nbformat": 4,
 "nbformat_minor": 5
}
